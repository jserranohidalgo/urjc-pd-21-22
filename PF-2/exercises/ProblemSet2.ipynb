{
 "cells": [
  {
   "cell_type": "markdown",
   "metadata": {},
   "source": [
    "# Declarative Programming @ URJC\n",
    "# Functional programming\n",
    "## Problem Set 2: Algebraic data types"
   ]
  },
  {
   "cell_type": "markdown",
   "metadata": {},
   "source": [
    "## Exercise 1"
   ]
  },
  {
   "cell_type": "markdown",
   "metadata": {},
   "source": [
    "### Part a)"
   ]
  },
  {
   "cell_type": "markdown",
   "metadata": {},
   "source": [
    "Prove that the isomorphism $1+1 \\cong Boolean$ holds by implementing the following bijections: "
   ]
  },
  {
   "cell_type": "code",
   "execution_count": null,
   "metadata": {},
   "outputs": [],
   "source": [
    "def toBoolean(a: Either[Unit, Unit]): Boolean = \n",
    "    ???"
   ]
  },
  {
   "cell_type": "code",
   "execution_count": null,
   "metadata": {},
   "outputs": [],
   "source": [
    "def fromBoolean(a: Boolean): Either[Unit, Unit] = \n",
    "    ???"
   ]
  },
  {
   "cell_type": "markdown",
   "metadata": {},
   "source": [
    "Check that they are indeed mutual inverses, i.e. that for all $a: Boolean$, `toBoolean(fromBoolean(a))==a`, and that for all $a: Either[Unit, Unit]$, `fromBoolean(toBoolean(a))==a`."
   ]
  },
  {
   "cell_type": "markdown",
   "metadata": {},
   "source": [
    "### Part b)"
   ]
  },
  {
   "cell_type": "markdown",
   "metadata": {},
   "source": [
    "Show that we can redefine `Option[A]` using `Either[A,Unit]`: "
   ]
  },
  {
   "cell_type": "code",
   "execution_count": null,
   "metadata": {},
   "outputs": [],
   "source": [
    "def from[A](o: Option[A]): Either[A, Unit] = \n",
    "    ???\n",
    "\n",
    "def to[A](e: Either[A, Unit]): Option[A] = \n",
    "    ???"
   ]
  },
  {
   "cell_type": "markdown",
   "metadata": {},
   "source": [
    "Check that these functions are mutual inverses. For that, fix $A$ to particular types (e.g. `Boolean`, `Int`, etc.), and test the equivalences `from(to(e)) == e` and `to(from(o)) == o` for some values $o$ and $e$."
   ]
  },
  {
   "cell_type": "markdown",
   "metadata": {},
   "source": [
    "## Exercise 2"
   ]
  },
  {
   "cell_type": "markdown",
   "metadata": {},
   "source": [
    "How many functions are there of type `1+1+1 => Boolean`? Identify all of them as alternative implementations of the following signature: "
   ]
  },
  {
   "cell_type": "code",
   "execution_count": null,
   "metadata": {},
   "outputs": [],
   "source": [
    "def f1(e: Either[Unit, Either[Unit, Unit]]): Boolean = \n",
    "    ???"
   ]
  },
  {
   "cell_type": "markdown",
   "metadata": {},
   "source": [
    "Idem, as alternative lambda expressions:"
   ]
  },
  {
   "cell_type": "code",
   "execution_count": null,
   "metadata": {},
   "outputs": [],
   "source": [
    "lazy val f1: Either[Unit, Either[Unit, Unit]] => Boolean = \n",
    "    ???"
   ]
  },
  {
   "cell_type": "markdown",
   "metadata": {},
   "source": [
    "## Exercise 3"
   ]
  },
  {
   "cell_type": "markdown",
   "metadata": {},
   "source": [
    "How many different implementations are there of the following function signature? Recall that two implementations will be considered different if the corresponding mathematical functions are different. Write all of them."
   ]
  },
  {
   "cell_type": "code",
   "execution_count": null,
   "metadata": {},
   "outputs": [],
   "source": [
    "def f1(b: Boolean): Either[Unit, Either[Unit, Unit]] = \n",
    "    ???"
   ]
  },
  {
   "cell_type": "markdown",
   "metadata": {},
   "source": [
    "## Exercise 4"
   ]
  },
  {
   "cell_type": "code",
   "execution_count": null,
   "metadata": {},
   "outputs": [],
   "source": [
    "// X^Y ======> Y => X \n",
    "// X*Y ======> (Y, X)\n",
    "// X+Y ======> Either[X, Y]"
   ]
  },
  {
   "cell_type": "markdown",
   "metadata": {},
   "source": [
    "Show that the following law holds for exponent types: $(Z^X)^Y \\cong Z^{X*Y}$, for all types $X$, $Y$ and $Z$."
   ]
  },
  {
   "cell_type": "code",
   "execution_count": null,
   "metadata": {},
   "outputs": [],
   "source": [
    "// Z^(X*Y) ======> ((X*Y)) => Z\n",
    "// (Z^X)^Y ======> Y => (X => Z)"
   ]
  },
  {
   "cell_type": "code",
   "execution_count": null,
   "metadata": {},
   "outputs": [],
   "source": [
    "def curry[X, Y, Z](f: (X, Y) => Z): X => (Y => Z) = \n",
    "    ??? : (X => (Y => Z))"
   ]
  },
  {
   "cell_type": "code",
   "execution_count": 3,
   "metadata": {},
   "outputs": [
    {
     "data": {
      "text/plain": [
       "defined \u001b[32mfunction\u001b[39m \u001b[36mcurry\u001b[39m"
      ]
     },
     "execution_count": 3,
     "metadata": {},
     "output_type": "execute_result"
    }
   ],
   "source": [
    "// construction\n",
    "def curry[X, Y, Z](f: (X, Y) => Z): X => (Y => Z) = \n",
    "    (x : X) => ??? : (Y => Z)"
   ]
  },
  {
   "cell_type": "code",
   "execution_count": 3,
   "metadata": {},
   "outputs": [
    {
     "data": {
      "text/plain": [
       "defined \u001b[32mfunction\u001b[39m \u001b[36mcurry\u001b[39m"
      ]
     },
     "execution_count": 3,
     "metadata": {},
     "output_type": "execute_result"
    }
   ],
   "source": [
    "// construction\n",
    "def curry[X, Y, Z](f: (X, Y) => Z): X => (Y => Z) = \n",
    "    (x : X) => (y: Y) => ??? : Z"
   ]
  },
  {
   "cell_type": "code",
   "execution_count": 4,
   "metadata": {},
   "outputs": [
    {
     "data": {
      "text/plain": [
       "defined \u001b[32mfunction\u001b[39m \u001b[36mcurry\u001b[39m"
      ]
     },
     "execution_count": 4,
     "metadata": {},
     "output_type": "execute_result"
    }
   ],
   "source": [
    "// observation\n",
    "def curry[X, Y, Z](f: (X, Y) => Z): X => (Y => Z) = \n",
    "    (x : X) => (y: Y) => \n",
    "        // x: X, y: Y, f: (X, Y) => Z\n",
    "        f(??? : X, ??? : Y) : Z"
   ]
  },
  {
   "cell_type": "code",
   "execution_count": 5,
   "metadata": {},
   "outputs": [
    {
     "data": {
      "text/plain": [
       "defined \u001b[32mfunction\u001b[39m \u001b[36mcurry\u001b[39m"
      ]
     },
     "execution_count": 5,
     "metadata": {},
     "output_type": "execute_result"
    }
   ],
   "source": [
    "// observation\n",
    "def curry[X, Y, Z](f: (X, Y) => Z): X => (Y => Z) = \n",
    "    (x : X) => (y: Y) => \n",
    "        // x: X, y: Y, f: (X, Y) => Z\n",
    "        f(x : X, y : Y) : Z"
   ]
  },
  {
   "cell_type": "code",
   "execution_count": 5,
   "metadata": {},
   "outputs": [
    {
     "data": {
      "text/plain": [
       "defined \u001b[32mfunction\u001b[39m \u001b[36mcurry\u001b[39m"
      ]
     },
     "execution_count": 5,
     "metadata": {},
     "output_type": "execute_result"
    }
   ],
   "source": [
    "// observation\n",
    "def curry[X, Y, Z](f: (X, Y) => Z): X => (Y => Z) = \n",
    "    x => y => f(x, y)"
   ]
  },
  {
   "cell_type": "code",
   "execution_count": 6,
   "metadata": {},
   "outputs": [
    {
     "data": {
      "text/plain": [
       "defined \u001b[32mfunction\u001b[39m \u001b[36mcurry\u001b[39m"
      ]
     },
     "execution_count": 6,
     "metadata": {},
     "output_type": "execute_result"
    }
   ],
   "source": [
    "// observation\n",
    "def curry[X, Y, Z](f: (X, Y) => Z): X => (Y => Z) = \n",
    "    x => y => f(x, y)"
   ]
  },
  {
   "cell_type": "code",
   "execution_count": null,
   "metadata": {},
   "outputs": [],
   "source": [
    "def uncurry[X, Y, Z](f: X => Y => Z): (X, Y) => Z = \n",
    "    ???"
   ]
  },
  {
   "cell_type": "markdown",
   "metadata": {},
   "source": [
    "Implement function equality for the following signatures and check that both functions, `curry` and `uncurry`, are inverses of each other for two sample functions $ex1$ and $ex2$:  "
   ]
  },
  {
   "cell_type": "code",
   "execution_count": null,
   "metadata": {},
   "outputs": [],
   "source": [
    "def equal1(f1: Boolean => Boolean => Boolean, \n",
    "          f2: Boolean => Boolean => Boolean): Boolean = \n",
    "    ???"
   ]
  },
  {
   "cell_type": "code",
   "execution_count": null,
   "metadata": {},
   "outputs": [],
   "source": [
    "def equal2(f1: (Boolean, Boolean) => Boolean, \n",
    "          f2: (Boolean, Boolean) => Boolean): Boolean = \n",
    "    ???"
   ]
  },
  {
   "cell_type": "code",
   "execution_count": null,
   "metadata": {},
   "outputs": [],
   "source": [
    "def ex1: Boolean => Boolean => Boolean = \n",
    "    ???\n",
    "\n",
    "def ex2: (Boolean, Boolean) => Boolean = \n",
    "    ???"
   ]
  },
  {
   "cell_type": "code",
   "execution_count": null,
   "metadata": {},
   "outputs": [],
   "source": [
    "// Check that curry and uncurry are inverses of each other for sample\n",
    "// functions `ex1` and `ex2`\n"
   ]
  },
  {
   "cell_type": "markdown",
   "metadata": {},
   "source": [
    "## Exercise 5"
   ]
  },
  {
   "cell_type": "markdown",
   "metadata": {},
   "source": [
    "Shows that the following law holds for exponent types: $(Y*Z)^X \\cong Y^X*Z^X$, for all types $X$, $Y$ and $Z$."
   ]
  },
  {
   "cell_type": "code",
   "execution_count": null,
   "metadata": {},
   "outputs": [],
   "source": [
    "def from[X, Y, Z]  = ???"
   ]
  },
  {
   "cell_type": "code",
   "execution_count": null,
   "metadata": {},
   "outputs": [],
   "source": [
    "def to[X, Y, Z] = ???"
   ]
  },
  {
   "cell_type": "markdown",
   "metadata": {},
   "source": [
    "Fix the type parameters to particular types $A$, $B$ and $C$, implement equality for the corresponding signatures and check that both functions, `from[A, B, C]` and `to[A, B, C]`, are inverses of each other given two sample functions of your choice.  "
   ]
  },
  {
   "cell_type": "code",
   "execution_count": null,
   "metadata": {},
   "outputs": [],
   "source": []
  }
 ],
 "metadata": {
  "kernelspec": {
   "display_name": "Scala",
   "language": "scala",
   "name": "scala"
  },
  "language_info": {
   "codemirror_mode": "text/x-scala",
   "file_extension": ".sc",
   "mimetype": "text/x-scala",
   "name": "scala",
   "nbconvert_exporter": "script",
   "version": "2.13.1"
  }
 },
 "nbformat": 4,
 "nbformat_minor": 4
}
