{
 "cells": [
  {
   "cell_type": "markdown",
   "metadata": {},
   "source": [
    "# Recursive data types and functions"
   ]
  },
  {
   "cell_type": "markdown",
   "metadata": {},
   "source": [
    "## Recursive types"
   ]
  },
  {
   "cell_type": "markdown",
   "metadata": {},
   "source": [
    "### The `List` type"
   ]
  },
  {
   "cell_type": "markdown",
   "metadata": {},
   "source": [
    "Lists are data structures which represent sequences of values of the same type, of finite length. They can be defined recursively in an informal way as follows: \n",
    "- A list is the empty sequence\n",
    "- A list is a non-empty sequence made of a value and another list, which represent the head and tail of the list, respectively\n",
    "\n",
    "Thus, the type `IntList`, which represents lists of integers, must satisfy the following algebraic equation:\n",
    "\n",
    "`IntList = 1 + Int * IntList`\n",
    "\n",
    "i.e., a list of integers is the empty sequence (represented by the singleton type `1`), or an integer (the head) and a list (its tail).\n",
    "\n"
   ]
  },
  {
   "cell_type": "markdown",
   "metadata": {},
   "source": [
    "The implementation in Scala is similar to the following one (we also give the generic version `List[A]`, rather than the implementation of `IntList`):"
   ]
  },
  {
   "cell_type": "code",
   "execution_count": 4,
   "metadata": {},
   "outputs": [
    {
     "data": {
      "text/plain": [
       "defined \u001b[32mobject\u001b[39m \u001b[36mStdDefinition\u001b[39m"
      ]
     },
     "execution_count": 4,
     "metadata": {},
     "output_type": "execute_result"
    }
   ],
   "source": [
    "object StdDefinition {\n",
    "    sealed abstract class List[A]\n",
    "    case class Empty[A]() extends List[A]\n",
    "    case class NonEmpty[A](head: A, tail: List[A])\n",
    "        extends List[A]\n",
    "    \n",
    "    type IntList = List[Int]\n",
    "    \n",
    "    val l: List[Int] = \n",
    "        NonEmpty(4, NonEmpty(5, NonEmpty(6, Empty())))\n",
    "}"
   ]
  },
  {
   "cell_type": "code",
   "execution_count": null,
   "metadata": {},
   "outputs": [],
   "source": []
  },
  {
   "cell_type": "markdown",
   "metadata": {},
   "source": [
    "However the actual implementation of [immutable lists](https://github.com/scala/scala/blob/v2.13.1/src/library/scala/collection/immutable/List.scala#L79) in the standard library of Scala defines the empty list as an object, rather than a class. This forces us to declare the list covariantly in its generic parameter `A`, which is somewhat inconvenient at times.  The standard definition looks like as follows:"
   ]
  },
  {
   "cell_type": "code",
   "execution_count": 5,
   "metadata": {},
   "outputs": [
    {
     "data": {
      "text/plain": [
       "defined \u001b[32mobject\u001b[39m \u001b[36mActualStdDefinition\u001b[39m"
      ]
     },
     "execution_count": 5,
     "metadata": {},
     "output_type": "execute_result"
    }
   ],
   "source": [
    "object ActualStdDefinition{\n",
    "    sealed abstract class List[+A]{\n",
    "        def tail: List[A] = this match {\n",
    "            case Nil => ??? \n",
    "            case h :: t => t\n",
    "        }\n",
    "    }\n",
    "    case object Nil extends List[Nothing]\n",
    "    case class ::[A](head: A, tail: List[A]) extends List[A]\n",
    "}"
   ]
  },
  {
   "cell_type": "markdown",
   "metadata": {},
   "source": [
    "### Some syntactic sugar"
   ]
  },
  {
   "cell_type": "markdown",
   "metadata": {},
   "source": [
    "Note that we can write standard lists with a more compact syntax: "
   ]
  },
  {
   "cell_type": "code",
   "execution_count": 8,
   "metadata": {},
   "outputs": [
    {
     "data": {
      "text/plain": [
       "\u001b[36ml1\u001b[39m: \u001b[32mList\u001b[39m[\u001b[32mInt\u001b[39m] = \u001b[33mList\u001b[39m(\u001b[32m1\u001b[39m, \u001b[32m2\u001b[39m, \u001b[32m3\u001b[39m)\n",
       "\u001b[36ml2\u001b[39m: \u001b[32mList\u001b[39m[\u001b[32mInt\u001b[39m] = \u001b[33mList\u001b[39m(\u001b[32m1\u001b[39m, \u001b[32m2\u001b[39m, \u001b[32m3\u001b[39m)\n",
       "\u001b[36ml3\u001b[39m: \u001b[32mList\u001b[39m[\u001b[32mInt\u001b[39m] = \u001b[33mList\u001b[39m(\u001b[32m1\u001b[39m, \u001b[32m2\u001b[39m, \u001b[32m3\u001b[39m)"
      ]
     },
     "execution_count": 8,
     "metadata": {},
     "output_type": "execute_result"
    }
   ],
   "source": [
    "// Less beautifully \n",
    "\n",
    "val l1: List[Int] = \n",
    "    ::(1, ::(2, ::(3, Nil)))\n",
    "// More idiomatically\n",
    "\n",
    "val l2: List[Int] = \n",
    "    1 :: 2 :: 3 :: Nil\n",
    "\n",
    "val l3: List[Int] = \n",
    "    List(1,2,3)"
   ]
  },
  {
   "cell_type": "markdown",
   "metadata": {},
   "source": [
    "And can also pattern match lists, similarly:"
   ]
  },
  {
   "cell_type": "code",
   "execution_count": 11,
   "metadata": {
    "scrolled": true
   },
   "outputs": [
    {
     "data": {
      "text/plain": [
       "\u001b[36mres10_0\u001b[39m: \u001b[32mInt\u001b[39m = \u001b[32m1\u001b[39m\n",
       "\u001b[36mres10_1\u001b[39m: \u001b[32mInt\u001b[39m = \u001b[32m1\u001b[39m\n",
       "\u001b[36mres10_2\u001b[39m: \u001b[32mInt\u001b[39m = \u001b[32m2\u001b[39m"
      ]
     },
     "execution_count": 11,
     "metadata": {},
     "output_type": "execute_result"
    }
   ],
   "source": [
    "// Less beautifully\n",
    "\n",
    "l1 match {\n",
    "    case Nil => 0\n",
    "    case ::(head, tail) => 1\n",
    "}\n",
    "// more idiomatically\n",
    "\n",
    "l1 match {\n",
    "    case Nil => 0\n",
    "    case head :: tail => 1\n",
    "}\n",
    "\n",
    "// or\n",
    "\n",
    "l1 match {\n",
    "    case List() => 0\n",
    "    case List(h1, h2, h3, h4) => 1\n",
    "    case a => 2\n",
    "}\n"
   ]
  },
  {
   "cell_type": "markdown",
   "metadata": {},
   "source": [
    "##  Recursive functions"
   ]
  },
  {
   "cell_type": "markdown",
   "metadata": {},
   "source": [
    "Since lists are defined recursively, functions over lists will be commonly recursive as well. For instance, let's implement a recursive function that computes the length of a list. But before, let's implement the function imperatively for the sake of comparison:"
   ]
  },
  {
   "cell_type": "code",
   "execution_count": 33,
   "metadata": {},
   "outputs": [
    {
     "data": {
      "text/plain": [
       "defined \u001b[32mfunction\u001b[39m \u001b[36mlengthI\u001b[39m"
      ]
     },
     "execution_count": 33,
     "metadata": {},
     "output_type": "execute_result"
    }
   ],
   "source": [
    "// Using mutable variables\n",
    "\n",
    "def lengthI[A](list: List[A]): Int = {\n",
    "    var out: Int = 0\n",
    "    /*for (e <- list)\n",
    "        out = out + 1*/\n",
    "    var aux: List[A] = list\n",
    "    while (aux != Nil) {\n",
    "        out = out + 1\n",
    "        // aux = aux.asInstanceOf[::[A]].tail\n",
    "        aux = aux match {\n",
    "            case Nil => Nil // throw new Exception(\"should not happen\") \n",
    "            case _ :: tail => tail\n",
    "        }\n",
    "    }\n",
    "    out\n",
    "}"
   ]
  },
  {
   "cell_type": "code",
   "execution_count": 14,
   "metadata": {},
   "outputs": [
    {
     "data": {
      "text/plain": [
       "\u001b[36mres13\u001b[39m: \u001b[32mInt\u001b[39m = \u001b[32m5\u001b[39m"
      ]
     },
     "execution_count": 14,
     "metadata": {},
     "output_type": "execute_result"
    }
   ],
   "source": [
    "length(List(1,2,3,4,5))"
   ]
  },
  {
   "cell_type": "markdown",
   "metadata": {},
   "source": [
    "The recursive function is implemented as follows: "
   ]
  },
  {
   "cell_type": "code",
   "execution_count": 20,
   "metadata": {},
   "outputs": [
    {
     "data": {
      "text/plain": [
       "defined \u001b[32mfunction\u001b[39m \u001b[36mlength\u001b[39m"
      ]
     },
     "execution_count": 20,
     "metadata": {},
     "output_type": "execute_result"
    }
   ],
   "source": [
    "// Using recursive functions\n",
    "\n",
    "def length[A](list: List[A]): Int = \n",
    "    (list match {\n",
    "        case Nil => ??? : Int\n",
    "        case head :: tail => ??? : Int\n",
    "    }) : Int\n"
   ]
  },
  {
   "cell_type": "code",
   "execution_count": 23,
   "metadata": {},
   "outputs": [
    {
     "data": {
      "text/plain": [
       "defined \u001b[32mfunction\u001b[39m \u001b[36mlength\u001b[39m"
      ]
     },
     "execution_count": 23,
     "metadata": {},
     "output_type": "execute_result"
    }
   ],
   "source": [
    "// Using recursive functions\n",
    "\n",
    "def length[A](list: List[A]): Int = \n",
    "    list match {\n",
    "        case Nil => 0 : Int\n",
    "        case head :: tail => \n",
    "            1 + length(tail) : Int\n",
    "    }\n"
   ]
  },
  {
   "cell_type": "code",
   "execution_count": 51,
   "metadata": {},
   "outputs": [
    {
     "data": {
      "text/plain": [
       "defined \u001b[32mfunction\u001b[39m \u001b[36mlengthR\u001b[39m"
      ]
     },
     "execution_count": 51,
     "metadata": {},
     "output_type": "execute_result"
    }
   ],
   "source": [
    "// Using recursive functions\n",
    "\n",
    "def lengthR[A](list: List[A]): Int = \n",
    "    list match {\n",
    "        case Nil => 0\n",
    "        case _ :: tail => \n",
    "            1 + lengthR(tail)\n",
    "    }\n"
   ]
  },
  {
   "cell_type": "markdown",
   "metadata": {},
   "source": [
    "Some comments: \n",
    "- The recursive function is implemented in a _type-driven development_ style: we proceed, step-by-step, analysing the types of input data that we have available so far, and the types of output that we have to generate. This leads to a divide-and-conquer problem solving strategy and hugely facilitates the implementation.\n",
    "- The recursive function is less efficient, since the stack will blow up with lists of enough lenght."
   ]
  },
  {
   "cell_type": "markdown",
   "metadata": {},
   "source": [
    "### Tail-recursive functions"
   ]
  },
  {
   "cell_type": "markdown",
   "metadata": {},
   "source": [
    "The implementation using tail-recursion solves the problems with the stack. It commonly makes use of auxiliary functions:"
   ]
  },
  {
   "cell_type": "code",
   "execution_count": 31,
   "metadata": {},
   "outputs": [
    {
     "data": {
      "text/plain": [
       "defined \u001b[32mfunction\u001b[39m \u001b[36mlengthTR\u001b[39m"
      ]
     },
     "execution_count": 31,
     "metadata": {},
     "output_type": "execute_result"
    }
   ],
   "source": [
    "// Using tail-recursive functions\n",
    "\n",
    "def lengthTR[A](list: List[A]): Int = {\n",
    "    \n",
    "    def lengthAux(out: Int, aux: List[A]): Int = \n",
    "        aux match {\n",
    "            case Nil => out \n",
    "            case _ :: tail => \n",
    "                lengthAux(out + 1, tail) \n",
    "        }\n",
    "    \n",
    "    lengthAux(0, list)\n",
    "}"
   ]
  },
  {
   "cell_type": "code",
   "execution_count": null,
   "metadata": {},
   "outputs": [],
   "source": []
  },
  {
   "cell_type": "markdown",
   "metadata": {},
   "source": [
    "We can check the stack-safety problems of non-tail recursive functions, by calculating the length of a very big list. We will use the following function, which creates a constant list of given length."
   ]
  },
  {
   "cell_type": "code",
   "execution_count": 30,
   "metadata": {},
   "outputs": [
    {
     "data": {
      "text/plain": [
       "\u001b[36mres29\u001b[39m: \u001b[32mList\u001b[39m[\u001b[32mInt\u001b[39m] = \u001b[33mList\u001b[39m(\n",
       "  \u001b[32m0\u001b[39m,\n",
       "  \u001b[32m0\u001b[39m,\n",
       "  \u001b[32m0\u001b[39m,\n",
       "  \u001b[32m0\u001b[39m,\n",
       "  \u001b[32m0\u001b[39m,\n",
       "  \u001b[32m0\u001b[39m,\n",
       "  \u001b[32m0\u001b[39m,\n",
       "  \u001b[32m0\u001b[39m,\n",
       "  \u001b[32m0\u001b[39m,\n",
       "  \u001b[32m0\u001b[39m,\n",
       "  \u001b[32m0\u001b[39m,\n",
       "  \u001b[32m0\u001b[39m,\n",
       "  \u001b[32m0\u001b[39m,\n",
       "  \u001b[32m0\u001b[39m,\n",
       "  \u001b[32m0\u001b[39m,\n",
       "  \u001b[32m0\u001b[39m,\n",
       "  \u001b[32m0\u001b[39m,\n",
       "  \u001b[32m0\u001b[39m,\n",
       "  \u001b[32m0\u001b[39m,\n",
       "  \u001b[32m0\u001b[39m,\n",
       "  \u001b[32m0\u001b[39m,\n",
       "  \u001b[32m0\u001b[39m,\n",
       "  \u001b[32m0\u001b[39m,\n",
       "  \u001b[32m0\u001b[39m,\n",
       "  \u001b[32m0\u001b[39m,\n",
       "  \u001b[32m0\u001b[39m,\n",
       "  \u001b[32m0\u001b[39m,\n",
       "  \u001b[32m0\u001b[39m,\n",
       "  \u001b[32m0\u001b[39m,\n",
       "  \u001b[32m0\u001b[39m,\n",
       "  \u001b[32m0\u001b[39m,\n",
       "  \u001b[32m0\u001b[39m,\n",
       "  \u001b[32m0\u001b[39m,\n",
       "  \u001b[32m0\u001b[39m,\n",
       "  \u001b[32m0\u001b[39m,\n",
       "  \u001b[32m0\u001b[39m,\n",
       "  \u001b[32m0\u001b[39m,\n",
       "  \u001b[32m0\u001b[39m,\n",
       "..."
      ]
     },
     "execution_count": 30,
     "metadata": {},
     "output_type": "execute_result"
    }
   ],
   "source": [
    "// First, imperatively\n",
    "List.fill(100)(0)\n"
   ]
  },
  {
   "cell_type": "code",
   "execution_count": null,
   "metadata": {},
   "outputs": [],
   "source": [
    "// Next, tail-recursively\n",
    "\n"
   ]
  },
  {
   "cell_type": "markdown",
   "metadata": {},
   "source": [
    "Now, let's calculate the length of a list long enough, using each of the three implementations:"
   ]
  },
  {
   "cell_type": "code",
   "execution_count": 37,
   "metadata": {},
   "outputs": [
    {
     "data": {
      "text/plain": [
       "\u001b[36mres36\u001b[39m: \u001b[32mInt\u001b[39m = \u001b[32m1000000\u001b[39m"
      ]
     },
     "execution_count": 37,
     "metadata": {},
     "output_type": "execute_result"
    }
   ],
   "source": [
    "// Imperatively\n",
    "lengthI(List.fill(1000000)(0))"
   ]
  },
  {
   "cell_type": "code",
   "execution_count": 42,
   "metadata": {},
   "outputs": [
    {
     "data": {
      "text/plain": [
       "\u001b[36mres41\u001b[39m: \u001b[32mInt\u001b[39m = \u001b[32m10000000\u001b[39m"
      ]
     },
     "execution_count": 42,
     "metadata": {},
     "output_type": "execute_result"
    }
   ],
   "source": [
    "// Tail-recursive\n",
    "lengthTR(List.fill(10000000)(0))"
   ]
  },
  {
   "cell_type": "code",
   "execution_count": 53,
   "metadata": {},
   "outputs": [
    {
     "ename": "",
     "evalue": "",
     "output_type": "error",
     "traceback": [
      "\u001b[31mjava.lang.StackOverflowError\u001b[39m\n  scala.collection.immutable.List.equals(\u001b[32mList.scala\u001b[39m:\u001b[32m575\u001b[39m)\n  ammonite.$sess.cmd50$Helper.lengthR(\u001b[32mcmd50.sc\u001b[39m:\u001b[32m3\u001b[39m)\n  ammonite.$sess.cmd50$Helper.lengthR(\u001b[32mcmd50.sc\u001b[39m:\u001b[32m5\u001b[39m)\n  ammonite.$sess.cmd50$Helper.lengthR(\u001b[32mcmd50.sc\u001b[39m:\u001b[32m5\u001b[39m)\n  ammonite.$sess.cmd50$Helper.lengthR(\u001b[32mcmd50.sc\u001b[39m:\u001b[32m5\u001b[39m)\n  ammonite.$sess.cmd50$Helper.lengthR(\u001b[32mcmd50.sc\u001b[39m:\u001b[32m5\u001b[39m)\n  ammonite.$sess.cmd50$Helper.lengthR(\u001b[32mcmd50.sc\u001b[39m:\u001b[32m5\u001b[39m)\n  ammonite.$sess.cmd50$Helper.lengthR(\u001b[32mcmd50.sc\u001b[39m:\u001b[32m5\u001b[39m)\n  ammonite.$sess.cmd50$Helper.lengthR(\u001b[32mcmd50.sc\u001b[39m:\u001b[32m5\u001b[39m)\n  ammonite.$sess.cmd50$Helper.lengthR(\u001b[32mcmd50.sc\u001b[39m:\u001b[32m5\u001b[39m)\n  ammonite.$sess.cmd50$Helper.lengthR(\u001b[32mcmd50.sc\u001b[39m:\u001b[32m5\u001b[39m)\n  ammonite.$sess.cmd50$Helper.lengthR(\u001b[32mcmd50.sc\u001b[39m:\u001b[32m5\u001b[39m)\n  ammonite.$sess.cmd50$Helper.lengthR(\u001b[32mcmd50.sc\u001b[39m:\u001b[32m5\u001b[39m)\n  ammonite.$sess.cmd50$Helper.lengthR(\u001b[32mcmd50.sc\u001b[39m:\u001b[32m5\u001b[39m)\n  ammonite.$sess.cmd50$Helper.lengthR(\u001b[32mcmd50.sc\u001b[39m:\u001b[32m5\u001b[39m)\n  ammonite.$sess.cmd50$Helper.lengthR(\u001b[32mcmd50.sc\u001b[39m:\u001b[32m5\u001b[39m)\n  ammonite.$sess.cmd50$Helper.lengthR(\u001b[32mcmd50.sc\u001b[39m:\u001b[32m5\u001b[39m)\n  ammonite.$sess.cmd50$Helper.lengthR(\u001b[32mcmd50.sc\u001b[39m:\u001b[32m5\u001b[39m)\n  ammonite.$sess.cmd50$Helper.lengthR(\u001b[32mcmd50.sc\u001b[39m:\u001b[32m5\u001b[39m)\n  ammonite.$sess.cmd50$Helper.lengthR(\u001b[32mcmd50.sc\u001b[39m:\u001b[32m5\u001b[39m)\n  ammonite.$sess.cmd50$Helper.lengthR(\u001b[32mcmd50.sc\u001b[39m:\u001b[32m5\u001b[39m)\n  ammonite.$sess.cmd50$Helper.lengthR(\u001b[32mcmd50.sc\u001b[39m:\u001b[32m5\u001b[39m)\n  ammonite.$sess.cmd50$Helper.lengthR(\u001b[32mcmd50.sc\u001b[39m:\u001b[32m5\u001b[39m)\n  ammonite.$sess.cmd50$Helper.lengthR(\u001b[32mcmd50.sc\u001b[39m:\u001b[32m5\u001b[39m)\n  ammonite.$sess.cmd50$Helper.lengthR(\u001b[32mcmd50.sc\u001b[39m:\u001b[32m5\u001b[39m)\n  ammonite.$sess.cmd50$Helper.lengthR(\u001b[32mcmd50.sc\u001b[39m:\u001b[32m5\u001b[39m)\n  ammonite.$sess.cmd50$Helper.lengthR(\u001b[32mcmd50.sc\u001b[39m:\u001b[32m5\u001b[39m)\n  ammonite.$sess.cmd50$Helper.lengthR(\u001b[32mcmd50.sc\u001b[39m:\u001b[32m5\u001b[39m)\n  ammonite.$sess.cmd50$Helper.lengthR(\u001b[32mcmd50.sc\u001b[39m:\u001b[32m5\u001b[39m)\n  ammonite.$sess.cmd50$Helper.lengthR(\u001b[32mcmd50.sc\u001b[39m:\u001b[32m5\u001b[39m)\n  ammonite.$sess.cmd50$Helper.lengthR(\u001b[32mcmd50.sc\u001b[39m:\u001b[32m5\u001b[39m)\n  ammonite.$sess.cmd50$Helper.lengthR(\u001b[32mcmd50.sc\u001b[39m:\u001b[32m5\u001b[39m)\n  ammonite.$sess.cmd50$Helper.lengthR(\u001b[32mcmd50.sc\u001b[39m:\u001b[32m5\u001b[39m)\n  ammonite.$sess.cmd50$Helper.lengthR(\u001b[32mcmd50.sc\u001b[39m:\u001b[32m5\u001b[39m)\n  ammonite.$sess.cmd50$Helper.lengthR(\u001b[32mcmd50.sc\u001b[39m:\u001b[32m5\u001b[39m)\n  ammonite.$sess.cmd50$Helper.lengthR(\u001b[32mcmd50.sc\u001b[39m:\u001b[32m5\u001b[39m)\n  ammonite.$sess.cmd50$Helper.lengthR(\u001b[32mcmd50.sc\u001b[39m:\u001b[32m5\u001b[39m)\n  ammonite.$sess.cmd50$Helper.lengthR(\u001b[32mcmd50.sc\u001b[39m:\u001b[32m5\u001b[39m)\n  ammonite.$sess.cmd50$Helper.lengthR(\u001b[32mcmd50.sc\u001b[39m:\u001b[32m5\u001b[39m)\n  ammonite.$sess.cmd50$Helper.lengthR(\u001b[32mcmd50.sc\u001b[39m:\u001b[32m5\u001b[39m)\n  ammonite.$sess.cmd50$Helper.lengthR(\u001b[32mcmd50.sc\u001b[39m:\u001b[32m5\u001b[39m)\n  ammonite.$sess.cmd50$Helper.lengthR(\u001b[32mcmd50.sc\u001b[39m:\u001b[32m5\u001b[39m)\n  ammonite.$sess.cmd50$Helper.lengthR(\u001b[32mcmd50.sc\u001b[39m:\u001b[32m5\u001b[39m)\n  ammonite.$sess.cmd50$Helper.lengthR(\u001b[32mcmd50.sc\u001b[39m:\u001b[32m5\u001b[39m)\n  ammonite.$sess.cmd50$Helper.lengthR(\u001b[32mcmd50.sc\u001b[39m:\u001b[32m5\u001b[39m)\n  ammonite.$sess.cmd50$Helper.lengthR(\u001b[32mcmd50.sc\u001b[39m:\u001b[32m5\u001b[39m)\n  ammonite.$sess.cmd50$Helper.lengthR(\u001b[32mcmd50.sc\u001b[39m:\u001b[32m5\u001b[39m)\n  ammonite.$sess.cmd50$Helper.lengthR(\u001b[32mcmd50.sc\u001b[39m:\u001b[32m5\u001b[39m)\n  ammonite.$sess.cmd50$Helper.lengthR(\u001b[32mcmd50.sc\u001b[39m:\u001b[32m5\u001b[39m)\n  ammonite.$sess.cmd50$Helper.lengthR(\u001b[32mcmd50.sc\u001b[39m:\u001b[32m5\u001b[39m)\n  ammonite.$sess.cmd50$Helper.lengthR(\u001b[32mcmd50.sc\u001b[39m:\u001b[32m5\u001b[39m)\n  ammonite.$sess.cmd50$Helper.lengthR(\u001b[32mcmd50.sc\u001b[39m:\u001b[32m5\u001b[39m)\n  ammonite.$sess.cmd50$Helper.lengthR(\u001b[32mcmd50.sc\u001b[39m:\u001b[32m5\u001b[39m)\n  ammonite.$sess.cmd50$Helper.lengthR(\u001b[32mcmd50.sc\u001b[39m:\u001b[32m5\u001b[39m)\n  ammonite.$sess.cmd50$Helper.lengthR(\u001b[32mcmd50.sc\u001b[39m:\u001b[32m5\u001b[39m)\n  ammonite.$sess.cmd50$Helper.lengthR(\u001b[32mcmd50.sc\u001b[39m:\u001b[32m5\u001b[39m)\n  ammonite.$sess.cmd50$Helper.lengthR(\u001b[32mcmd50.sc\u001b[39m:\u001b[32m5\u001b[39m)\n  ammonite.$sess.cmd50$Helper.lengthR(\u001b[32mcmd50.sc\u001b[39m:\u001b[32m5\u001b[39m)\n  ammonite.$sess.cmd50$Helper.lengthR(\u001b[32mcmd50.sc\u001b[39m:\u001b[32m5\u001b[39m)\n  ammonite.$sess.cmd50$Helper.lengthR(\u001b[32mcmd50.sc\u001b[39m:\u001b[32m5\u001b[39m)\n  ammonite.$sess.cmd50$Helper.lengthR(\u001b[32mcmd50.sc\u001b[39m:\u001b[32m5\u001b[39m)\n  ammonite.$sess.cmd50$Helper.lengthR(\u001b[32mcmd50.sc\u001b[39m:\u001b[32m5\u001b[39m)\n  ammonite.$sess.cmd50$Helper.lengthR(\u001b[32mcmd50.sc\u001b[39m:\u001b[32m5\u001b[39m)\n  ammonite.$sess.cmd50$Helper.lengthR(\u001b[32mcmd50.sc\u001b[39m:\u001b[32m5\u001b[39m)\n  ammonite.$sess.cmd50$Helper.lengthR(\u001b[32mcmd50.sc\u001b[39m:\u001b[32m5\u001b[39m)\n  ammonite.$sess.cmd50$Helper.lengthR(\u001b[32mcmd50.sc\u001b[39m:\u001b[32m5\u001b[39m)\n  ammonite.$sess.cmd50$Helper.lengthR(\u001b[32mcmd50.sc\u001b[39m:\u001b[32m5\u001b[39m)\n  ammonite.$sess.cmd50$Helper.lengthR(\u001b[32mcmd50.sc\u001b[39m:\u001b[32m5\u001b[39m)\n  ammonite.$sess.cmd50$Helper.lengthR(\u001b[32mcmd50.sc\u001b[39m:\u001b[32m5\u001b[39m)\n  ammonite.$sess.cmd50$Helper.lengthR(\u001b[32mcmd50.sc\u001b[39m:\u001b[32m5\u001b[39m)\n  ammonite.$sess.cmd50$Helper.lengthR(\u001b[32mcmd50.sc\u001b[39m:\u001b[32m5\u001b[39m)\n  ammonite.$sess.cmd50$Helper.lengthR(\u001b[32mcmd50.sc\u001b[39m:\u001b[32m5\u001b[39m)\n  ammonite.$sess.cmd50$Helper.lengthR(\u001b[32mcmd50.sc\u001b[39m:\u001b[32m5\u001b[39m)\n  ammonite.$sess.cmd50$Helper.lengthR(\u001b[32mcmd50.sc\u001b[39m:\u001b[32m5\u001b[39m)\n  ammonite.$sess.cmd50$Helper.lengthR(\u001b[32mcmd50.sc\u001b[39m:\u001b[32m5\u001b[39m)\n  ammonite.$sess.cmd50$Helper.lengthR(\u001b[32mcmd50.sc\u001b[39m:\u001b[32m5\u001b[39m)\n  ammonite.$sess.cmd50$Helper.lengthR(\u001b[32mcmd50.sc\u001b[39m:\u001b[32m5\u001b[39m)\n  ammonite.$sess.cmd50$Helper.lengthR(\u001b[32mcmd50.sc\u001b[39m:\u001b[32m5\u001b[39m)\n  ammonite.$sess.cmd50$Helper.lengthR(\u001b[32mcmd50.sc\u001b[39m:\u001b[32m5\u001b[39m)\n  ammonite.$sess.cmd50$Helper.lengthR(\u001b[32mcmd50.sc\u001b[39m:\u001b[32m5\u001b[39m)\n  ammonite.$sess.cmd50$Helper.lengthR(\u001b[32mcmd50.sc\u001b[39m:\u001b[32m5\u001b[39m)\n  ammonite.$sess.cmd50$Helper.lengthR(\u001b[32mcmd50.sc\u001b[39m:\u001b[32m5\u001b[39m)\n  ammonite.$sess.cmd50$Helper.lengthR(\u001b[32mcmd50.sc\u001b[39m:\u001b[32m5\u001b[39m)\n  ammonite.$sess.cmd50$Helper.lengthR(\u001b[32mcmd50.sc\u001b[39m:\u001b[32m5\u001b[39m)\n  ammonite.$sess.cmd50$Helper.lengthR(\u001b[32mcmd50.sc\u001b[39m:\u001b[32m5\u001b[39m)\n  ammonite.$sess.cmd50$Helper.lengthR(\u001b[32mcmd50.sc\u001b[39m:\u001b[32m5\u001b[39m)\n  ammonite.$sess.cmd50$Helper.lengthR(\u001b[32mcmd50.sc\u001b[39m:\u001b[32m5\u001b[39m)\n  ammonite.$sess.cmd50$Helper.lengthR(\u001b[32mcmd50.sc\u001b[39m:\u001b[32m5\u001b[39m)\n  ammonite.$sess.cmd50$Helper.lengthR(\u001b[32mcmd50.sc\u001b[39m:\u001b[32m5\u001b[39m)\n  ammonite.$sess.cmd50$Helper.lengthR(\u001b[32mcmd50.sc\u001b[39m:\u001b[32m5\u001b[39m)\n  ammonite.$sess.cmd50$Helper.lengthR(\u001b[32mcmd50.sc\u001b[39m:\u001b[32m5\u001b[39m)\n  ammonite.$sess.cmd50$Helper.lengthR(\u001b[32mcmd50.sc\u001b[39m:\u001b[32m5\u001b[39m)\n  ammonite.$sess.cmd50$Helper.lengthR(\u001b[32mcmd50.sc\u001b[39m:\u001b[32m5\u001b[39m)\n  ammonite.$sess.cmd50$Helper.lengthR(\u001b[32mcmd50.sc\u001b[39m:\u001b[32m5\u001b[39m)\n  ammonite.$sess.cmd50$Helper.lengthR(\u001b[32mcmd50.sc\u001b[39m:\u001b[32m5\u001b[39m)\n  ammonite.$sess.cmd50$Helper.lengthR(\u001b[32mcmd50.sc\u001b[39m:\u001b[32m5\u001b[39m)\n  ammonite.$sess.cmd50$Helper.lengthR(\u001b[32mcmd50.sc\u001b[39m:\u001b[32m5\u001b[39m)\n  ammonite.$sess.cmd50$Helper.lengthR(\u001b[32mcmd50.sc\u001b[39m:\u001b[32m5\u001b[39m)\n  ammonite.$sess.cmd50$Helper.lengthR(\u001b[32mcmd50.sc\u001b[39m:\u001b[32m5\u001b[39m)\n  ammonite.$sess.cmd50$Helper.lengthR(\u001b[32mcmd50.sc\u001b[39m:\u001b[32m5\u001b[39m)\n  ammonite.$sess.cmd50$Helper.lengthR(\u001b[32mcmd50.sc\u001b[39m:\u001b[32m5\u001b[39m)\n  ammonite.$sess.cmd50$Helper.lengthR(\u001b[32mcmd50.sc\u001b[39m:\u001b[32m5\u001b[39m)\n  ammonite.$sess.cmd50$Helper.lengthR(\u001b[32mcmd50.sc\u001b[39m:\u001b[32m5\u001b[39m)\n  ammonite.$sess.cmd50$Helper.lengthR(\u001b[32mcmd50.sc\u001b[39m:\u001b[32m5\u001b[39m)\n  ammonite.$sess.cmd50$Helper.lengthR(\u001b[32mcmd50.sc\u001b[39m:\u001b[32m5\u001b[39m)\n  ammonite.$sess.cmd50$Helper.lengthR(\u001b[32mcmd50.sc\u001b[39m:\u001b[32m5\u001b[39m)\n  ammonite.$sess.cmd50$Helper.lengthR(\u001b[32mcmd50.sc\u001b[39m:\u001b[32m5\u001b[39m)\n  ammonite.$sess.cmd50$Helper.lengthR(\u001b[32mcmd50.sc\u001b[39m:\u001b[32m5\u001b[39m)\n  ammonite.$sess.cmd50$Helper.lengthR(\u001b[32mcmd50.sc\u001b[39m:\u001b[32m5\u001b[39m)\n  ammonite.$sess.cmd50$Helper.lengthR(\u001b[32mcmd50.sc\u001b[39m:\u001b[32m5\u001b[39m)\n  ammonite.$sess.cmd50$Helper.lengthR(\u001b[32mcmd50.sc\u001b[39m:\u001b[32m5\u001b[39m)\n  ammonite.$sess.cmd50$Helper.lengthR(\u001b[32mcmd50.sc\u001b[39m:\u001b[32m5\u001b[39m)\n  ammonite.$sess.cmd50$Helper.lengthR(\u001b[32mcmd50.sc\u001b[39m:\u001b[32m5\u001b[39m)\n  ammonite.$sess.cmd50$Helper.lengthR(\u001b[32mcmd50.sc\u001b[39m:\u001b[32m5\u001b[39m)\n  ammonite.$sess.cmd50$Helper.lengthR(\u001b[32mcmd50.sc\u001b[39m:\u001b[32m5\u001b[39m)\n  ammonite.$sess.cmd50$Helper.lengthR(\u001b[32mcmd50.sc\u001b[39m:\u001b[32m5\u001b[39m)\n  ammonite.$sess.cmd50$Helper.lengthR(\u001b[32mcmd50.sc\u001b[39m:\u001b[32m5\u001b[39m)\n  ammonite.$sess.cmd50$Helper.lengthR(\u001b[32mcmd50.sc\u001b[39m:\u001b[32m5\u001b[39m)\n  ammonite.$sess.cmd50$Helper.lengthR(\u001b[32mcmd50.sc\u001b[39m:\u001b[32m5\u001b[39m)\n  ammonite.$sess.cmd50$Helper.lengthR(\u001b[32mcmd50.sc\u001b[39m:\u001b[32m5\u001b[39m)\n  ammonite.$sess.cmd50$Helper.lengthR(\u001b[32mcmd50.sc\u001b[39m:\u001b[32m5\u001b[39m)\n  ammonite.$sess.cmd50$Helper.lengthR(\u001b[32mcmd50.sc\u001b[39m:\u001b[32m5\u001b[39m)\n  ammonite.$sess.cmd50$Helper.lengthR(\u001b[32mcmd50.sc\u001b[39m:\u001b[32m5\u001b[39m)\n  ammonite.$sess.cmd50$Helper.lengthR(\u001b[32mcmd50.sc\u001b[39m:\u001b[32m5\u001b[39m)\n  ammonite.$sess.cmd50$Helper.lengthR(\u001b[32mcmd50.sc\u001b[39m:\u001b[32m5\u001b[39m)\n  ammonite.$sess.cmd50$Helper.lengthR(\u001b[32mcmd50.sc\u001b[39m:\u001b[32m5\u001b[39m)\n  ammonite.$sess.cmd50$Helper.lengthR(\u001b[32mcmd50.sc\u001b[39m:\u001b[32m5\u001b[39m)\n  ammonite.$sess.cmd50$Helper.lengthR(\u001b[32mcmd50.sc\u001b[39m:\u001b[32m5\u001b[39m)\n  ammonite.$sess.cmd50$Helper.lengthR(\u001b[32mcmd50.sc\u001b[39m:\u001b[32m5\u001b[39m)\n  ammonite.$sess.cmd50$Helper.lengthR(\u001b[32mcmd50.sc\u001b[39m:\u001b[32m5\u001b[39m)\n  ammonite.$sess.cmd50$Helper.lengthR(\u001b[32mcmd50.sc\u001b[39m:\u001b[32m5\u001b[39m)\n  ammonite.$sess.cmd50$Helper.lengthR(\u001b[32mcmd50.sc\u001b[39m:\u001b[32m5\u001b[39m)\n  ammonite.$sess.cmd50$Helper.lengthR(\u001b[32mcmd50.sc\u001b[39m:\u001b[32m5\u001b[39m)\n  ammonite.$sess.cmd50$Helper.lengthR(\u001b[32mcmd50.sc\u001b[39m:\u001b[32m5\u001b[39m)\n  ammonite.$sess.cmd50$Helper.lengthR(\u001b[32mcmd50.sc\u001b[39m:\u001b[32m5\u001b[39m)\n  ammonite.$sess.cmd50$Helper.lengthR(\u001b[32mcmd50.sc\u001b[39m:\u001b[32m5\u001b[39m)\n  ammonite.$sess.cmd50$Helper.lengthR(\u001b[32mcmd50.sc\u001b[39m:\u001b[32m5\u001b[39m)\n  ammonite.$sess.cmd50$Helper.lengthR(\u001b[32mcmd50.sc\u001b[39m:\u001b[32m5\u001b[39m)\n  ammonite.$sess.cmd50$Helper.lengthR(\u001b[32mcmd50.sc\u001b[39m:\u001b[32m5\u001b[39m)\n  ammonite.$sess.cmd50$Helper.lengthR(\u001b[32mcmd50.sc\u001b[39m:\u001b[32m5\u001b[39m)\n  ammonite.$sess.cmd50$Helper.lengthR(\u001b[32mcmd50.sc\u001b[39m:\u001b[32m5\u001b[39m)\n  ammonite.$sess.cmd50$Helper.lengthR(\u001b[32mcmd50.sc\u001b[39m:\u001b[32m5\u001b[39m)\n  ammonite.$sess.cmd50$Helper.lengthR(\u001b[32mcmd50.sc\u001b[39m:\u001b[32m5\u001b[39m)\n  ammonite.$sess.cmd50$Helper.lengthR(\u001b[32mcmd50.sc\u001b[39m:\u001b[32m5\u001b[39m)\n  ammonite.$sess.cmd50$Helper.lengthR(\u001b[32mcmd50.sc\u001b[39m:\u001b[32m5\u001b[39m)\n  ammonite.$sess.cmd50$Helper.lengthR(\u001b[32mcmd50.sc\u001b[39m:\u001b[32m5\u001b[39m)\n  ammonite.$sess.cmd50$Helper.lengthR(\u001b[32mcmd50.sc\u001b[39m:\u001b[32m5\u001b[39m)\n  ammonite.$sess.cmd50$Helper.lengthR(\u001b[32mcmd50.sc\u001b[39m:\u001b[32m5\u001b[39m)\n  ammonite.$sess.cmd50$Helper.lengthR(\u001b[32mcmd50.sc\u001b[39m:\u001b[32m5\u001b[39m)\n  ammonite.$sess.cmd50$Helper.lengthR(\u001b[32mcmd50.sc\u001b[39m:\u001b[32m5\u001b[39m)\n  ammonite.$sess.cmd50$Helper.lengthR(\u001b[32mcmd50.sc\u001b[39m:\u001b[32m5\u001b[39m)\n  ammonite.$sess.cmd50$Helper.lengthR(\u001b[32mcmd50.sc\u001b[39m:\u001b[32m5\u001b[39m)\n  ammonite.$sess.cmd50$Helper.lengthR(\u001b[32mcmd50.sc\u001b[39m:\u001b[32m5\u001b[39m)\n  ammonite.$sess.cmd50$Helper.lengthR(\u001b[32mcmd50.sc\u001b[39m:\u001b[32m5\u001b[39m)\n  ammonite.$sess.cmd50$Helper.lengthR(\u001b[32mcmd50.sc\u001b[39m:\u001b[32m5\u001b[39m)\n  ammonite.$sess.cmd50$Helper.lengthR(\u001b[32mcmd50.sc\u001b[39m:\u001b[32m5\u001b[39m)\n  ammonite.$sess.cmd50$Helper.lengthR(\u001b[32mcmd50.sc\u001b[39m:\u001b[32m5\u001b[39m)\n  ammonite.$sess.cmd50$Helper.lengthR(\u001b[32mcmd50.sc\u001b[39m:\u001b[32m5\u001b[39m)\n  ammonite.$sess.cmd50$Helper.lengthR(\u001b[32mcmd50.sc\u001b[39m:\u001b[32m5\u001b[39m)\n  ammonite.$sess.cmd50$Helper.lengthR(\u001b[32mcmd50.sc\u001b[39m:\u001b[32m5\u001b[39m)\n  ammonite.$sess.cmd50$Helper.lengthR(\u001b[32mcmd50.sc\u001b[39m:\u001b[32m5\u001b[39m)\n  ammonite.$sess.cmd50$Helper.lengthR(\u001b[32mcmd50.sc\u001b[39m:\u001b[32m5\u001b[39m)\n  ammonite.$sess.cmd50$Helper.lengthR(\u001b[32mcmd50.sc\u001b[39m:\u001b[32m5\u001b[39m)\n  ammonite.$sess.cmd50$Helper.lengthR(\u001b[32mcmd50.sc\u001b[39m:\u001b[32m5\u001b[39m)\n  ammonite.$sess.cmd50$Helper.lengthR(\u001b[32mcmd50.sc\u001b[39m:\u001b[32m5\u001b[39m)\n  ammonite.$sess.cmd50$Helper.lengthR(\u001b[32mcmd50.sc\u001b[39m:\u001b[32m5\u001b[39m)\n  ammonite.$sess.cmd50$Helper.lengthR(\u001b[32mcmd50.sc\u001b[39m:\u001b[32m5\u001b[39m)\n  ammonite.$sess.cmd50$Helper.lengthR(\u001b[32mcmd50.sc\u001b[39m:\u001b[32m5\u001b[39m)\n  ammonite.$sess.cmd50$Helper.lengthR(\u001b[32mcmd50.sc\u001b[39m:\u001b[32m5\u001b[39m)\n  ammonite.$sess.cmd50$Helper.lengthR(\u001b[32mcmd50.sc\u001b[39m:\u001b[32m5\u001b[39m)\n  ammonite.$sess.cmd50$Helper.lengthR(\u001b[32mcmd50.sc\u001b[39m:\u001b[32m5\u001b[39m)\n  ammonite.$sess.cmd50$Helper.lengthR(\u001b[32mcmd50.sc\u001b[39m:\u001b[32m5\u001b[39m)\n  ammonite.$sess.cmd50$Helper.lengthR(\u001b[32mcmd50.sc\u001b[39m:\u001b[32m5\u001b[39m)\n  ammonite.$sess.cmd50$Helper.lengthR(\u001b[32mcmd50.sc\u001b[39m:\u001b[32m5\u001b[39m)\n  ammonite.$sess.cmd50$Helper.lengthR(\u001b[32mcmd50.sc\u001b[39m:\u001b[32m5\u001b[39m)\n  ammonite.$sess.cmd50$Helper.lengthR(\u001b[32mcmd50.sc\u001b[39m:\u001b[32m5\u001b[39m)\n  ammonite.$sess.cmd50$Helper.lengthR(\u001b[32mcmd50.sc\u001b[39m:\u001b[32m5\u001b[39m)\n  ammonite.$sess.cmd50$Helper.lengthR(\u001b[32mcmd50.sc\u001b[39m:\u001b[32m5\u001b[39m)\n  ammonite.$sess.cmd50$Helper.lengthR(\u001b[32mcmd50.sc\u001b[39m:\u001b[32m5\u001b[39m)\n  ammonite.$sess.cmd50$Helper.lengthR(\u001b[32mcmd50.sc\u001b[39m:\u001b[32m5\u001b[39m)\n  ammonite.$sess.cmd50$Helper.lengthR(\u001b[32mcmd50.sc\u001b[39m:\u001b[32m5\u001b[39m)\n  ammonite.$sess.cmd50$Helper.lengthR(\u001b[32mcmd50.sc\u001b[39m:\u001b[32m5\u001b[39m)\n  ammonite.$sess.cmd50$Helper.lengthR(\u001b[32mcmd50.sc\u001b[39m:\u001b[32m5\u001b[39m)\n  ammonite.$sess.cmd50$Helper.lengthR(\u001b[32mcmd50.sc\u001b[39m:\u001b[32m5\u001b[39m)\n  ammonite.$sess.cmd50$Helper.lengthR(\u001b[32mcmd50.sc\u001b[39m:\u001b[32m5\u001b[39m)\n  ammonite.$sess.cmd50$Helper.lengthR(\u001b[32mcmd50.sc\u001b[39m:\u001b[32m5\u001b[39m)\n  ammonite.$sess.cmd50$Helper.lengthR(\u001b[32mcmd50.sc\u001b[39m:\u001b[32m5\u001b[39m)\n  ammonite.$sess.cmd50$Helper.lengthR(\u001b[32mcmd50.sc\u001b[39m:\u001b[32m5\u001b[39m)\n  ammonite.$sess.cmd50$Helper.lengthR(\u001b[32mcmd50.sc\u001b[39m:\u001b[32m5\u001b[39m)\n  ammonite.$sess.cmd50$Helper.lengthR(\u001b[32mcmd50.sc\u001b[39m:\u001b[32m5\u001b[39m)\n  ammonite.$sess.cmd50$Helper.lengthR(\u001b[32mcmd50.sc\u001b[39m:\u001b[32m5\u001b[39m)\n  ammonite.$sess.cmd50$Helper.lengthR(\u001b[32mcmd50.sc\u001b[39m:\u001b[32m5\u001b[39m)\n  ammonite.$sess.cmd50$Helper.lengthR(\u001b[32mcmd50.sc\u001b[39m:\u001b[32m5\u001b[39m)\n  ammonite.$sess.cmd50$Helper.lengthR(\u001b[32mcmd50.sc\u001b[39m:\u001b[32m5\u001b[39m)\n  ammonite.$sess.cmd50$Helper.lengthR(\u001b[32mcmd50.sc\u001b[39m:\u001b[32m5\u001b[39m)\n  ammonite.$sess.cmd50$Helper.lengthR(\u001b[32mcmd50.sc\u001b[39m:\u001b[32m5\u001b[39m)\n  ammonite.$sess.cmd50$Helper.lengthR(\u001b[32mcmd50.sc\u001b[39m:\u001b[32m5\u001b[39m)\n  ammonite.$sess.cmd50$Helper.lengthR(\u001b[32mcmd50.sc\u001b[39m:\u001b[32m5\u001b[39m)\n  ammonite.$sess.cmd50$Helper.lengthR(\u001b[32mcmd50.sc\u001b[39m:\u001b[32m5\u001b[39m)\n  ammonite.$sess.cmd50$Helper.lengthR(\u001b[32mcmd50.sc\u001b[39m:\u001b[32m5\u001b[39m)\n  ammonite.$sess.cmd50$Helper.lengthR(\u001b[32mcmd50.sc\u001b[39m:\u001b[32m5\u001b[39m)\n  ammonite.$sess.cmd50$Helper.lengthR(\u001b[32mcmd50.sc\u001b[39m:\u001b[32m5\u001b[39m)\n  ammonite.$sess.cmd50$Helper.lengthR(\u001b[32mcmd50.sc\u001b[39m:\u001b[32m5\u001b[39m)\n  ammonite.$sess.cmd50$Helper.lengthR(\u001b[32mcmd50.sc\u001b[39m:\u001b[32m5\u001b[39m)\n  ammonite.$sess.cmd50$Helper.lengthR(\u001b[32mcmd50.sc\u001b[39m:\u001b[32m5\u001b[39m)\n  ammonite.$sess.cmd50$Helper.lengthR(\u001b[32mcmd50.sc\u001b[39m:\u001b[32m5\u001b[39m)\n  ammonite.$sess.cmd50$Helper.lengthR(\u001b[32mcmd50.sc\u001b[39m:\u001b[32m5\u001b[39m)\n  ammonite.$sess.cmd50$Helper.lengthR(\u001b[32mcmd50.sc\u001b[39m:\u001b[32m5\u001b[39m)\n  ammonite.$sess.cmd50$Helper.lengthR(\u001b[32mcmd50.sc\u001b[39m:\u001b[32m5\u001b[39m)\n  ammonite.$sess.cmd50$Helper.lengthR(\u001b[32mcmd50.sc\u001b[39m:\u001b[32m5\u001b[39m)\n  ammonite.$sess.cmd50$Helper.lengthR(\u001b[32mcmd50.sc\u001b[39m:\u001b[32m5\u001b[39m)\n  ammonite.$sess.cmd50$Helper.lengthR(\u001b[32mcmd50.sc\u001b[39m:\u001b[32m5\u001b[39m)\n  ammonite.$sess.cmd50$Helper.lengthR(\u001b[32mcmd50.sc\u001b[39m:\u001b[32m5\u001b[39m)\n  ammonite.$sess.cmd50$Helper.lengthR(\u001b[32mcmd50.sc\u001b[39m:\u001b[32m5\u001b[39m)\n  ammonite.$sess.cmd50$Helper.lengthR(\u001b[32mcmd50.sc\u001b[39m:\u001b[32m5\u001b[39m)\n  ammonite.$sess.cmd50$Helper.lengthR(\u001b[32mcmd50.sc\u001b[39m:\u001b[32m5\u001b[39m)\n  ammonite.$sess.cmd50$Helper.lengthR(\u001b[32mcmd50.sc\u001b[39m:\u001b[32m5\u001b[39m)\n  ammonite.$sess.cmd50$Helper.lengthR(\u001b[32mcmd50.sc\u001b[39m:\u001b[32m5\u001b[39m)\n  ammonite.$sess.cmd50$Helper.lengthR(\u001b[32mcmd50.sc\u001b[39m:\u001b[32m5\u001b[39m)\n  ammonite.$sess.cmd50$Helper.lengthR(\u001b[32mcmd50.sc\u001b[39m:\u001b[32m5\u001b[39m)\n  ammonite.$sess.cmd50$Helper.lengthR(\u001b[32mcmd50.sc\u001b[39m:\u001b[32m5\u001b[39m)\n  ammonite.$sess.cmd50$Helper.lengthR(\u001b[32mcmd50.sc\u001b[39m:\u001b[32m5\u001b[39m)\n  ammonite.$sess.cmd50$Helper.lengthR(\u001b[32mcmd50.sc\u001b[39m:\u001b[32m5\u001b[39m)\n  ammonite.$sess.cmd50$Helper.lengthR(\u001b[32mcmd50.sc\u001b[39m:\u001b[32m5\u001b[39m)\n  ammonite.$sess.cmd50$Helper.lengthR(\u001b[32mcmd50.sc\u001b[39m:\u001b[32m5\u001b[39m)\n  ammonite.$sess.cmd50$Helper.lengthR(\u001b[32mcmd50.sc\u001b[39m:\u001b[32m5\u001b[39m)\n  ammonite.$sess.cmd50$Helper.lengthR(\u001b[32mcmd50.sc\u001b[39m:\u001b[32m5\u001b[39m)\n  ammonite.$sess.cmd50$Helper.lengthR(\u001b[32mcmd50.sc\u001b[39m:\u001b[32m5\u001b[39m)\n  ammonite.$sess.cmd50$Helper.lengthR(\u001b[32mcmd50.sc\u001b[39m:\u001b[32m5\u001b[39m)\n  ammonite.$sess.cmd50$Helper.lengthR(\u001b[32mcmd50.sc\u001b[39m:\u001b[32m5\u001b[39m)\n  ammonite.$sess.cmd50$Helper.lengthR(\u001b[32mcmd50.sc\u001b[39m:\u001b[32m5\u001b[39m)\n  ammonite.$sess.cmd50$Helper.lengthR(\u001b[32mcmd50.sc\u001b[39m:\u001b[32m5\u001b[39m)\n  ammonite.$sess.cmd50$Helper.lengthR(\u001b[32mcmd50.sc\u001b[39m:\u001b[32m5\u001b[39m)\n  ammonite.$sess.cmd50$Helper.lengthR(\u001b[32mcmd50.sc\u001b[39m:\u001b[32m5\u001b[39m)\n  ammonite.$sess.cmd50$Helper.lengthR(\u001b[32mcmd50.sc\u001b[39m:\u001b[32m5\u001b[39m)\n  ammonite.$sess.cmd50$Helper.lengthR(\u001b[32mcmd50.sc\u001b[39m:\u001b[32m5\u001b[39m)\n  ammonite.$sess.cmd50$Helper.lengthR(\u001b[32mcmd50.sc\u001b[39m:\u001b[32m5\u001b[39m)\n  ammonite.$sess.cmd50$Helper.lengthR(\u001b[32mcmd50.sc\u001b[39m:\u001b[32m5\u001b[39m)\n  ammonite.$sess.cmd50$Helper.lengthR(\u001b[32mcmd50.sc\u001b[39m:\u001b[32m5\u001b[39m)\n  ammonite.$sess.cmd50$Helper.lengthR(\u001b[32mcmd50.sc\u001b[39m:\u001b[32m5\u001b[39m)\n  ammonite.$sess.cmd50$Helper.lengthR(\u001b[32mcmd50.sc\u001b[39m:\u001b[32m5\u001b[39m)\n  ammonite.$sess.cmd50$Helper.lengthR(\u001b[32mcmd50.sc\u001b[39m:\u001b[32m5\u001b[39m)\n  ammonite.$sess.cmd50$Helper.lengthR(\u001b[32mcmd50.sc\u001b[39m:\u001b[32m5\u001b[39m)\n  ammonite.$sess.cmd50$Helper.lengthR(\u001b[32mcmd50.sc\u001b[39m:\u001b[32m5\u001b[39m)\n  ammonite.$sess.cmd50$Helper.lengthR(\u001b[32mcmd50.sc\u001b[39m:\u001b[32m5\u001b[39m)\n  ammonite.$sess.cmd50$Helper.lengthR(\u001b[32mcmd50.sc\u001b[39m:\u001b[32m5\u001b[39m)\n  ammonite.$sess.cmd50$Helper.lengthR(\u001b[32mcmd50.sc\u001b[39m:\u001b[32m5\u001b[39m)\n  ammonite.$sess.cmd50$Helper.lengthR(\u001b[32mcmd50.sc\u001b[39m:\u001b[32m5\u001b[39m)\n  ammonite.$sess.cmd50$Helper.lengthR(\u001b[32mcmd50.sc\u001b[39m:\u001b[32m5\u001b[39m)\n  ammonite.$sess.cmd50$Helper.lengthR(\u001b[32mcmd50.sc\u001b[39m:\u001b[32m5\u001b[39m)\n  ammonite.$sess.cmd50$Helper.lengthR(\u001b[32mcmd50.sc\u001b[39m:\u001b[32m5\u001b[39m)\n  ammonite.$sess.cmd50$Helper.lengthR(\u001b[32mcmd50.sc\u001b[39m:\u001b[32m5\u001b[39m)\n  ammonite.$sess.cmd50$Helper.lengthR(\u001b[32mcmd50.sc\u001b[39m:\u001b[32m5\u001b[39m)\n  ammonite.$sess.cmd50$Helper.lengthR(\u001b[32mcmd50.sc\u001b[39m:\u001b[32m5\u001b[39m)\n  ammonite.$sess.cmd50$Helper.lengthR(\u001b[32mcmd50.sc\u001b[39m:\u001b[32m5\u001b[39m)\n  ammonite.$sess.cmd50$Helper.lengthR(\u001b[32mcmd50.sc\u001b[39m:\u001b[32m5\u001b[39m)\n  ammonite.$sess.cmd50$Helper.lengthR(\u001b[32mcmd50.sc\u001b[39m:\u001b[32m5\u001b[39m)\n  ammonite.$sess.cmd50$Helper.lengthR(\u001b[32mcmd50.sc\u001b[39m:\u001b[32m5\u001b[39m)\n  ammonite.$sess.cmd50$Helper.lengthR(\u001b[32mcmd50.sc\u001b[39m:\u001b[32m5\u001b[39m)\n  ammonite.$sess.cmd50$Helper.lengthR(\u001b[32mcmd50.sc\u001b[39m:\u001b[32m5\u001b[39m)\n  ammonite.$sess.cmd50$Helper.lengthR(\u001b[32mcmd50.sc\u001b[39m:\u001b[32m5\u001b[39m)\n  ammonite.$sess.cmd50$Helper.lengthR(\u001b[32mcmd50.sc\u001b[39m:\u001b[32m5\u001b[39m)\n  ammonite.$sess.cmd50$Helper.lengthR(\u001b[32mcmd50.sc\u001b[39m:\u001b[32m5\u001b[39m)\n  ammonite.$sess.cmd50$Helper.lengthR(\u001b[32mcmd50.sc\u001b[39m:\u001b[32m5\u001b[39m)\n  ammonite.$sess.cmd50$Helper.lengthR(\u001b[32mcmd50.sc\u001b[39m:\u001b[32m5\u001b[39m)\n  ammonite.$sess.cmd50$Helper.lengthR(\u001b[32mcmd50.sc\u001b[39m:\u001b[32m5\u001b[39m)\n  ammonite.$sess.cmd50$Helper.lengthR(\u001b[32mcmd50.sc\u001b[39m:\u001b[32m5\u001b[39m)\n  ammonite.$sess.cmd50$Helper.lengthR(\u001b[32mcmd50.sc\u001b[39m:\u001b[32m5\u001b[39m)\n  ammonite.$sess.cmd50$Helper.lengthR(\u001b[32mcmd50.sc\u001b[39m:\u001b[32m5\u001b[39m)\n  ammonite.$sess.cmd50$Helper.lengthR(\u001b[32mcmd50.sc\u001b[39m:\u001b[32m5\u001b[39m)\n  ammonite.$sess.cmd50$Helper.lengthR(\u001b[32mcmd50.sc\u001b[39m:\u001b[32m5\u001b[39m)\n  ammonite.$sess.cmd50$Helper.lengthR(\u001b[32mcmd50.sc\u001b[39m:\u001b[32m5\u001b[39m)\n  ammonite.$sess.cmd50$Helper.lengthR(\u001b[32mcmd50.sc\u001b[39m:\u001b[32m5\u001b[39m)\n  ammonite.$sess.cmd50$Helper.lengthR(\u001b[32mcmd50.sc\u001b[39m:\u001b[32m5\u001b[39m)\n  ammonite.$sess.cmd50$Helper.lengthR(\u001b[32mcmd50.sc\u001b[39m:\u001b[32m5\u001b[39m)\n  ammonite.$sess.cmd50$Helper.lengthR(\u001b[32mcmd50.sc\u001b[39m:\u001b[32m5\u001b[39m)\n  ammonite.$sess.cmd50$Helper.lengthR(\u001b[32mcmd50.sc\u001b[39m:\u001b[32m5\u001b[39m)\n  ammonite.$sess.cmd50$Helper.lengthR(\u001b[32mcmd50.sc\u001b[39m:\u001b[32m5\u001b[39m)\n  ammonite.$sess.cmd50$Helper.lengthR(\u001b[32mcmd50.sc\u001b[39m:\u001b[32m5\u001b[39m)\n  ammonite.$sess.cmd50$Helper.lengthR(\u001b[32mcmd50.sc\u001b[39m:\u001b[32m5\u001b[39m)\n  ammonite.$sess.cmd50$Helper.lengthR(\u001b[32mcmd50.sc\u001b[39m:\u001b[32m5\u001b[39m)\n  ammonite.$sess.cmd50$Helper.lengthR(\u001b[32mcmd50.sc\u001b[39m:\u001b[32m5\u001b[39m)\n  ammonite.$sess.cmd50$Helper.lengthR(\u001b[32mcmd50.sc\u001b[39m:\u001b[32m5\u001b[39m)\n  ammonite.$sess.cmd50$Helper.lengthR(\u001b[32mcmd50.sc\u001b[39m:\u001b[32m5\u001b[39m)\n  ammonite.$sess.cmd50$Helper.lengthR(\u001b[32mcmd50.sc\u001b[39m:\u001b[32m5\u001b[39m)\n  ammonite.$sess.cmd50$Helper.lengthR(\u001b[32mcmd50.sc\u001b[39m:\u001b[32m5\u001b[39m)\n  ammonite.$sess.cmd50$Helper.lengthR(\u001b[32mcmd50.sc\u001b[39m:\u001b[32m5\u001b[39m)\n  ammonite.$sess.cmd50$Helper.lengthR(\u001b[32mcmd50.sc\u001b[39m:\u001b[32m5\u001b[39m)\n  ammonite.$sess.cmd50$Helper.lengthR(\u001b[32mcmd50.sc\u001b[39m:\u001b[32m5\u001b[39m)\n  ammonite.$sess.cmd50$Helper.lengthR(\u001b[32mcmd50.sc\u001b[39m:\u001b[32m5\u001b[39m)\n  ammonite.$sess.cmd50$Helper.lengthR(\u001b[32mcmd50.sc\u001b[39m:\u001b[32m5\u001b[39m)\n  ammonite.$sess.cmd50$Helper.lengthR(\u001b[32mcmd50.sc\u001b[39m:\u001b[32m5\u001b[39m)\n  ammonite.$sess.cmd50$Helper.lengthR(\u001b[32mcmd50.sc\u001b[39m:\u001b[32m5\u001b[39m)\n  ammonite.$sess.cmd50$Helper.lengthR(\u001b[32mcmd50.sc\u001b[39m:\u001b[32m5\u001b[39m)\n  ammonite.$sess.cmd50$Helper.lengthR(\u001b[32mcmd50.sc\u001b[39m:\u001b[32m5\u001b[39m)\n  ammonite.$sess.cmd50$Helper.lengthR(\u001b[32mcmd50.sc\u001b[39m:\u001b[32m5\u001b[39m)\n  ammonite.$sess.cmd50$Helper.lengthR(\u001b[32mcmd50.sc\u001b[39m:\u001b[32m5\u001b[39m)\n  ammonite.$sess.cmd50$Helper.lengthR(\u001b[32mcmd50.sc\u001b[39m:\u001b[32m5\u001b[39m)\n  ammonite.$sess.cmd50$Helper.lengthR(\u001b[32mcmd50.sc\u001b[39m:\u001b[32m5\u001b[39m)\n  ammonite.$sess.cmd50$Helper.lengthR(\u001b[32mcmd50.sc\u001b[39m:\u001b[32m5\u001b[39m)\n  ammonite.$sess.cmd50$Helper.lengthR(\u001b[32mcmd50.sc\u001b[39m:\u001b[32m5\u001b[39m)\n  ammonite.$sess.cmd50$Helper.lengthR(\u001b[32mcmd50.sc\u001b[39m:\u001b[32m5\u001b[39m)\n  ammonite.$sess.cmd50$Helper.lengthR(\u001b[32mcmd50.sc\u001b[39m:\u001b[32m5\u001b[39m)\n  ammonite.$sess.cmd50$Helper.lengthR(\u001b[32mcmd50.sc\u001b[39m:\u001b[32m5\u001b[39m)\n  ammonite.$sess.cmd50$Helper.lengthR(\u001b[32mcmd50.sc\u001b[39m:\u001b[32m5\u001b[39m)\n  ammonite.$sess.cmd50$Helper.lengthR(\u001b[32mcmd50.sc\u001b[39m:\u001b[32m5\u001b[39m)\n  ammonite.$sess.cmd50$Helper.lengthR(\u001b[32mcmd50.sc\u001b[39m:\u001b[32m5\u001b[39m)\n  ammonite.$sess.cmd50$Helper.lengthR(\u001b[32mcmd50.sc\u001b[39m:\u001b[32m5\u001b[39m)\n  ammonite.$sess.cmd50$Helper.lengthR(\u001b[32mcmd50.sc\u001b[39m:\u001b[32m5\u001b[39m)\n  ammonite.$sess.cmd50$Helper.lengthR(\u001b[32mcmd50.sc\u001b[39m:\u001b[32m5\u001b[39m)\n  ammonite.$sess.cmd50$Helper.lengthR(\u001b[32mcmd50.sc\u001b[39m:\u001b[32m5\u001b[39m)\n  ammonite.$sess.cmd50$Helper.lengthR(\u001b[32mcmd50.sc\u001b[39m:\u001b[32m5\u001b[39m)\n  ammonite.$sess.cmd50$Helper.lengthR(\u001b[32mcmd50.sc\u001b[39m:\u001b[32m5\u001b[39m)\n  ammonite.$sess.cmd50$Helper.lengthR(\u001b[32mcmd50.sc\u001b[39m:\u001b[32m5\u001b[39m)\n  ammonite.$sess.cmd50$Helper.lengthR(\u001b[32mcmd50.sc\u001b[39m:\u001b[32m5\u001b[39m)\n  ammonite.$sess.cmd50$Helper.lengthR(\u001b[32mcmd50.sc\u001b[39m:\u001b[32m5\u001b[39m)\n  ammonite.$sess.cmd50$Helper.lengthR(\u001b[32mcmd50.sc\u001b[39m:\u001b[32m5\u001b[39m)\n  ammonite.$sess.cmd50$Helper.lengthR(\u001b[32mcmd50.sc\u001b[39m:\u001b[32m5\u001b[39m)\n  ammonite.$sess.cmd50$Helper.lengthR(\u001b[32mcmd50.sc\u001b[39m:\u001b[32m5\u001b[39m)\n  ammonite.$sess.cmd50$Helper.lengthR(\u001b[32mcmd50.sc\u001b[39m:\u001b[32m5\u001b[39m)\n  ammonite.$sess.cmd50$Helper.lengthR(\u001b[32mcmd50.sc\u001b[39m:\u001b[32m5\u001b[39m)\n  ammonite.$sess.cmd50$Helper.lengthR(\u001b[32mcmd50.sc\u001b[39m:\u001b[32m5\u001b[39m)\n  ammonite.$sess.cmd50$Helper.lengthR(\u001b[32mcmd50.sc\u001b[39m:\u001b[32m5\u001b[39m)\n  ammonite.$sess.cmd50$Helper.lengthR(\u001b[32mcmd50.sc\u001b[39m:\u001b[32m5\u001b[39m)\n  ammonite.$sess.cmd50$Helper.lengthR(\u001b[32mcmd50.sc\u001b[39m:\u001b[32m5\u001b[39m)\n  ammonite.$sess.cmd50$Helper.lengthR(\u001b[32mcmd50.sc\u001b[39m:\u001b[32m5\u001b[39m)\n  ammonite.$sess.cmd50$Helper.lengthR(\u001b[32mcmd50.sc\u001b[39m:\u001b[32m5\u001b[39m)\n  ammonite.$sess.cmd50$Helper.lengthR(\u001b[32mcmd50.sc\u001b[39m:\u001b[32m5\u001b[39m)\n  ammonite.$sess.cmd50$Helper.lengthR(\u001b[32mcmd50.sc\u001b[39m:\u001b[32m5\u001b[39m)\n  ammonite.$sess.cmd50$Helper.lengthR(\u001b[32mcmd50.sc\u001b[39m:\u001b[32m5\u001b[39m)\n  ammonite.$sess.cmd50$Helper.lengthR(\u001b[32mcmd50.sc\u001b[39m:\u001b[32m5\u001b[39m)\n  ammonite.$sess.cmd50$Helper.lengthR(\u001b[32mcmd50.sc\u001b[39m:\u001b[32m5\u001b[39m)\n  ammonite.$sess.cmd50$Helper.lengthR(\u001b[32mcmd50.sc\u001b[39m:\u001b[32m5\u001b[39m)\n  ammonite.$sess.cmd50$Helper.lengthR(\u001b[32mcmd50.sc\u001b[39m:\u001b[32m5\u001b[39m)\n  ammonite.$sess.cmd50$Helper.lengthR(\u001b[32mcmd50.sc\u001b[39m:\u001b[32m5\u001b[39m)\n  ammonite.$sess.cmd50$Helper.lengthR(\u001b[32mcmd50.sc\u001b[39m:\u001b[32m5\u001b[39m)\n  ammonite.$sess.cmd50$Helper.lengthR(\u001b[32mcmd50.sc\u001b[39m:\u001b[32m5\u001b[39m)\n  ammonite.$sess.cmd50$Helper.lengthR(\u001b[32mcmd50.sc\u001b[39m:\u001b[32m5\u001b[39m)\n  ammonite.$sess.cmd50$Helper.lengthR(\u001b[32mcmd50.sc\u001b[39m:\u001b[32m5\u001b[39m)\n  ammonite.$sess.cmd50$Helper.lengthR(\u001b[32mcmd50.sc\u001b[39m:\u001b[32m5\u001b[39m)\n  ammonite.$sess.cmd50$Helper.lengthR(\u001b[32mcmd50.sc\u001b[39m:\u001b[32m5\u001b[39m)\n  ammonite.$sess.cmd50$Helper.lengthR(\u001b[32mcmd50.sc\u001b[39m:\u001b[32m5\u001b[39m)\n  ammonite.$sess.cmd50$Helper.lengthR(\u001b[32mcmd50.sc\u001b[39m:\u001b[32m5\u001b[39m)\n  ammonite.$sess.cmd50$Helper.lengthR(\u001b[32mcmd50.sc\u001b[39m:\u001b[32m5\u001b[39m)\n  ammonite.$sess.cmd50$Helper.lengthR(\u001b[32mcmd50.sc\u001b[39m:\u001b[32m5\u001b[39m)\n  ammonite.$sess.cmd50$Helper.lengthR(\u001b[32mcmd50.sc\u001b[39m:\u001b[32m5\u001b[39m)\n  ammonite.$sess.cmd50$Helper.lengthR(\u001b[32mcmd50.sc\u001b[39m:\u001b[32m5\u001b[39m)\n  ammonite.$sess.cmd50$Helper.lengthR(\u001b[32mcmd50.sc\u001b[39m:\u001b[32m5\u001b[39m)\n  ammonite.$sess.cmd50$Helper.lengthR(\u001b[32mcmd50.sc\u001b[39m:\u001b[32m5\u001b[39m)\n  ammonite.$sess.cmd50$Helper.lengthR(\u001b[32mcmd50.sc\u001b[39m:\u001b[32m5\u001b[39m)\n  ammonite.$sess.cmd50$Helper.lengthR(\u001b[32mcmd50.sc\u001b[39m:\u001b[32m5\u001b[39m)\n  ammonite.$sess.cmd50$Helper.lengthR(\u001b[32mcmd50.sc\u001b[39m:\u001b[32m5\u001b[39m)\n  ammonite.$sess.cmd50$Helper.lengthR(\u001b[32mcmd50.sc\u001b[39m:\u001b[32m5\u001b[39m)\n  ammonite.$sess.cmd50$Helper.lengthR(\u001b[32mcmd50.sc\u001b[39m:\u001b[32m5\u001b[39m)\n  ammonite.$sess.cmd50$Helper.lengthR(\u001b[32mcmd50.sc\u001b[39m:\u001b[32m5\u001b[39m)\n  ammonite.$sess.cmd50$Helper.lengthR(\u001b[32mcmd50.sc\u001b[39m:\u001b[32m5\u001b[39m)\n  ammonite.$sess.cmd50$Helper.lengthR(\u001b[32mcmd50.sc\u001b[39m:\u001b[32m5\u001b[39m)\n  ammonite.$sess.cmd50$Helper.lengthR(\u001b[32mcmd50.sc\u001b[39m:\u001b[32m5\u001b[39m)\n  ammonite.$sess.cmd50$Helper.lengthR(\u001b[32mcmd50.sc\u001b[39m:\u001b[32m5\u001b[39m)\n  ammonite.$sess.cmd50$Helper.lengthR(\u001b[32mcmd50.sc\u001b[39m:\u001b[32m5\u001b[39m)\n  ammonite.$sess.cmd50$Helper.lengthR(\u001b[32mcmd50.sc\u001b[39m:\u001b[32m5\u001b[39m)\n  ammonite.$sess.cmd50$Helper.lengthR(\u001b[32mcmd50.sc\u001b[39m:\u001b[32m5\u001b[39m)\n  ammonite.$sess.cmd50$Helper.lengthR(\u001b[32mcmd50.sc\u001b[39m:\u001b[32m5\u001b[39m)\n  ammonite.$sess.cmd50$Helper.lengthR(\u001b[32mcmd50.sc\u001b[39m:\u001b[32m5\u001b[39m)\n  ammonite.$sess.cmd50$Helper.lengthR(\u001b[32mcmd50.sc\u001b[39m:\u001b[32m5\u001b[39m)\n  ammonite.$sess.cmd50$Helper.lengthR(\u001b[32mcmd50.sc\u001b[39m:\u001b[32m5\u001b[39m)\n  ammonite.$sess.cmd50$Helper.lengthR(\u001b[32mcmd50.sc\u001b[39m:\u001b[32m5\u001b[39m)\n  ammonite.$sess.cmd50$Helper.lengthR(\u001b[32mcmd50.sc\u001b[39m:\u001b[32m5\u001b[39m)\n  ammonite.$sess.cmd50$Helper.lengthR(\u001b[32mcmd50.sc\u001b[39m:\u001b[32m5\u001b[39m)\n  ammonite.$sess.cmd50$Helper.lengthR(\u001b[32mcmd50.sc\u001b[39m:\u001b[32m5\u001b[39m)\n  ammonite.$sess.cmd50$Helper.lengthR(\u001b[32mcmd50.sc\u001b[39m:\u001b[32m5\u001b[39m)\n  ammonite.$sess.cmd50$Helper.lengthR(\u001b[32mcmd50.sc\u001b[39m:\u001b[32m5\u001b[39m)\n  ammonite.$sess.cmd50$Helper.lengthR(\u001b[32mcmd50.sc\u001b[39m:\u001b[32m5\u001b[39m)\n  ammonite.$sess.cmd50$Helper.lengthR(\u001b[32mcmd50.sc\u001b[39m:\u001b[32m5\u001b[39m)\n  ammonite.$sess.cmd50$Helper.lengthR(\u001b[32mcmd50.sc\u001b[39m:\u001b[32m5\u001b[39m)\n  ammonite.$sess.cmd50$Helper.lengthR(\u001b[32mcmd50.sc\u001b[39m:\u001b[32m5\u001b[39m)\n  ammonite.$sess.cmd50$Helper.lengthR(\u001b[32mcmd50.sc\u001b[39m:\u001b[32m5\u001b[39m)\n  ammonite.$sess.cmd50$Helper.lengthR(\u001b[32mcmd50.sc\u001b[39m:\u001b[32m5\u001b[39m)\n  ammonite.$sess.cmd50$Helper.lengthR(\u001b[32mcmd50.sc\u001b[39m:\u001b[32m5\u001b[39m)\n  ammonite.$sess.cmd50$Helper.lengthR(\u001b[32mcmd50.sc\u001b[39m:\u001b[32m5\u001b[39m)\n  ammonite.$sess.cmd50$Helper.lengthR(\u001b[32mcmd50.sc\u001b[39m:\u001b[32m5\u001b[39m)\n  ammonite.$sess.cmd50$Helper.lengthR(\u001b[32mcmd50.sc\u001b[39m:\u001b[32m5\u001b[39m)\n  ammonite.$sess.cmd50$Helper.lengthR(\u001b[32mcmd50.sc\u001b[39m:\u001b[32m5\u001b[39m)\n  ammonite.$sess.cmd50$Helper.lengthR(\u001b[32mcmd50.sc\u001b[39m:\u001b[32m5\u001b[39m)\n  ammonite.$sess.cmd50$Helper.lengthR(\u001b[32mcmd50.sc\u001b[39m:\u001b[32m5\u001b[39m)\n  ammonite.$sess.cmd50$Helper.lengthR(\u001b[32mcmd50.sc\u001b[39m:\u001b[32m5\u001b[39m)\n  ammonite.$sess.cmd50$Helper.lengthR(\u001b[32mcmd50.sc\u001b[39m:\u001b[32m5\u001b[39m)\n  ammonite.$sess.cmd50$Helper.lengthR(\u001b[32mcmd50.sc\u001b[39m:\u001b[32m5\u001b[39m)\n  ammonite.$sess.cmd50$Helper.lengthR(\u001b[32mcmd50.sc\u001b[39m:\u001b[32m5\u001b[39m)\n  ammonite.$sess.cmd50$Helper.lengthR(\u001b[32mcmd50.sc\u001b[39m:\u001b[32m5\u001b[39m)\n  ammonite.$sess.cmd50$Helper.lengthR(\u001b[32mcmd50.sc\u001b[39m:\u001b[32m5\u001b[39m)\n  ammonite.$sess.cmd50$Helper.lengthR(\u001b[32mcmd50.sc\u001b[39m:\u001b[32m5\u001b[39m)\n  ammonite.$sess.cmd50$Helper.lengthR(\u001b[32mcmd50.sc\u001b[39m:\u001b[32m5\u001b[39m)\n  ammonite.$sess.cmd50$Helper.lengthR(\u001b[32mcmd50.sc\u001b[39m:\u001b[32m5\u001b[39m)\n  ammonite.$sess.cmd50$Helper.lengthR(\u001b[32mcmd50.sc\u001b[39m:\u001b[32m5\u001b[39m)\n  ammonite.$sess.cmd50$Helper.lengthR(\u001b[32mcmd50.sc\u001b[39m:\u001b[32m5\u001b[39m)\n  ammonite.$sess.cmd50$Helper.lengthR(\u001b[32mcmd50.sc\u001b[39m:\u001b[32m5\u001b[39m)\n  ammonite.$sess.cmd50$Helper.lengthR(\u001b[32mcmd50.sc\u001b[39m:\u001b[32m5\u001b[39m)\n  ammonite.$sess.cmd50$Helper.lengthR(\u001b[32mcmd50.sc\u001b[39m:\u001b[32m5\u001b[39m)\n  ammonite.$sess.cmd50$Helper.lengthR(\u001b[32mcmd50.sc\u001b[39m:\u001b[32m5\u001b[39m)\n  ammonite.$sess.cmd50$Helper.lengthR(\u001b[32mcmd50.sc\u001b[39m:\u001b[32m5\u001b[39m)\n  ammonite.$sess.cmd50$Helper.lengthR(\u001b[32mcmd50.sc\u001b[39m:\u001b[32m5\u001b[39m)\n  ammonite.$sess.cmd50$Helper.lengthR(\u001b[32mcmd50.sc\u001b[39m:\u001b[32m5\u001b[39m)\n  ammonite.$sess.cmd50$Helper.lengthR(\u001b[32mcmd50.sc\u001b[39m:\u001b[32m5\u001b[39m)\n  ammonite.$sess.cmd50$Helper.lengthR(\u001b[32mcmd50.sc\u001b[39m:\u001b[32m5\u001b[39m)\n  ammonite.$sess.cmd50$Helper.lengthR(\u001b[32mcmd50.sc\u001b[39m:\u001b[32m5\u001b[39m)\n  ammonite.$sess.cmd50$Helper.lengthR(\u001b[32mcmd50.sc\u001b[39m:\u001b[32m5\u001b[39m)\n  ammonite.$sess.cmd50$Helper.lengthR(\u001b[32mcmd50.sc\u001b[39m:\u001b[32m5\u001b[39m)\n  ammonite.$sess.cmd50$Helper.lengthR(\u001b[32mcmd50.sc\u001b[39m:\u001b[32m5\u001b[39m)\n  ammonite.$sess.cmd50$Helper.lengthR(\u001b[32mcmd50.sc\u001b[39m:\u001b[32m5\u001b[39m)\n  ammonite.$sess.cmd50$Helper.lengthR(\u001b[32mcmd50.sc\u001b[39m:\u001b[32m5\u001b[39m)\n  ammonite.$sess.cmd50$Helper.lengthR(\u001b[32mcmd50.sc\u001b[39m:\u001b[32m5\u001b[39m)\n  ammonite.$sess.cmd50$Helper.lengthR(\u001b[32mcmd50.sc\u001b[39m:\u001b[32m5\u001b[39m)\n  ammonite.$sess.cmd50$Helper.lengthR(\u001b[32mcmd50.sc\u001b[39m:\u001b[32m5\u001b[39m)\n  ammonite.$sess.cmd50$Helper.lengthR(\u001b[32mcmd50.sc\u001b[39m:\u001b[32m5\u001b[39m)\n  ammonite.$sess.cmd50$Helper.lengthR(\u001b[32mcmd50.sc\u001b[39m:\u001b[32m5\u001b[39m)\n  ammonite.$sess.cmd50$Helper.lengthR(\u001b[32mcmd50.sc\u001b[39m:\u001b[32m5\u001b[39m)\n  ammonite.$sess.cmd50$Helper.lengthR(\u001b[32mcmd50.sc\u001b[39m:\u001b[32m5\u001b[39m)\n  ammonite.$sess.cmd50$Helper.lengthR(\u001b[32mcmd50.sc\u001b[39m:\u001b[32m5\u001b[39m)\n  ammonite.$sess.cmd50$Helper.lengthR(\u001b[32mcmd50.sc\u001b[39m:\u001b[32m5\u001b[39m)\n  ammonite.$sess.cmd50$Helper.lengthR(\u001b[32mcmd50.sc\u001b[39m:\u001b[32m5\u001b[39m)\n  ammonite.$sess.cmd50$Helper.lengthR(\u001b[32mcmd50.sc\u001b[39m:\u001b[32m5\u001b[39m)\n  ammonite.$sess.cmd50$Helper.lengthR(\u001b[32mcmd50.sc\u001b[39m:\u001b[32m5\u001b[39m)\n  ammonite.$sess.cmd50$Helper.lengthR(\u001b[32mcmd50.sc\u001b[39m:\u001b[32m5\u001b[39m)\n  ammonite.$sess.cmd50$Helper.lengthR(\u001b[32mcmd50.sc\u001b[39m:\u001b[32m5\u001b[39m)\n  ammonite.$sess.cmd50$Helper.lengthR(\u001b[32mcmd50.sc\u001b[39m:\u001b[32m5\u001b[39m)\n  ammonite.$sess.cmd50$Helper.lengthR(\u001b[32mcmd50.sc\u001b[39m:\u001b[32m5\u001b[39m)\n  ammonite.$sess.cmd50$Helper.lengthR(\u001b[32mcmd50.sc\u001b[39m:\u001b[32m5\u001b[39m)\n  ammonite.$sess.cmd50$Helper.lengthR(\u001b[32mcmd50.sc\u001b[39m:\u001b[32m5\u001b[39m)\n  ammonite.$sess.cmd50$Helper.lengthR(\u001b[32mcmd50.sc\u001b[39m:\u001b[32m5\u001b[39m)\n  ammonite.$sess.cmd50$Helper.lengthR(\u001b[32mcmd50.sc\u001b[39m:\u001b[32m5\u001b[39m)\n  ammonite.$sess.cmd50$Helper.lengthR(\u001b[32mcmd50.sc\u001b[39m:\u001b[32m5\u001b[39m)\n  ammonite.$sess.cmd50$Helper.lengthR(\u001b[32mcmd50.sc\u001b[39m:\u001b[32m5\u001b[39m)\n  ammonite.$sess.cmd50$Helper.lengthR(\u001b[32mcmd50.sc\u001b[39m:\u001b[32m5\u001b[39m)\n  ammonite.$sess.cmd50$Helper.lengthR(\u001b[32mcmd50.sc\u001b[39m:\u001b[32m5\u001b[39m)\n  ammonite.$sess.cmd50$Helper.lengthR(\u001b[32mcmd50.sc\u001b[39m:\u001b[32m5\u001b[39m)\n  ammonite.$sess.cmd50$Helper.lengthR(\u001b[32mcmd50.sc\u001b[39m:\u001b[32m5\u001b[39m)\n  ammonite.$sess.cmd50$Helper.lengthR(\u001b[32mcmd50.sc\u001b[39m:\u001b[32m5\u001b[39m)\n  ammonite.$sess.cmd50$Helper.lengthR(\u001b[32mcmd50.sc\u001b[39m:\u001b[32m5\u001b[39m)\n  ammonite.$sess.cmd50$Helper.lengthR(\u001b[32mcmd50.sc\u001b[39m:\u001b[32m5\u001b[39m)\n  ammonite.$sess.cmd50$Helper.lengthR(\u001b[32mcmd50.sc\u001b[39m:\u001b[32m5\u001b[39m)\n  ammonite.$sess.cmd50$Helper.lengthR(\u001b[32mcmd50.sc\u001b[39m:\u001b[32m5\u001b[39m)\n  ammonite.$sess.cmd50$Helper.lengthR(\u001b[32mcmd50.sc\u001b[39m:\u001b[32m5\u001b[39m)\n  ammonite.$sess.cmd50$Helper.lengthR(\u001b[32mcmd50.sc\u001b[39m:\u001b[32m5\u001b[39m)\n  ammonite.$sess.cmd50$Helper.lengthR(\u001b[32mcmd50.sc\u001b[39m:\u001b[32m5\u001b[39m)\n  ammonite.$sess.cmd50$Helper.lengthR(\u001b[32mcmd50.sc\u001b[39m:\u001b[32m5\u001b[39m)\n  ammonite.$sess.cmd50$Helper.lengthR(\u001b[32mcmd50.sc\u001b[39m:\u001b[32m5\u001b[39m)\n  ammonite.$sess.cmd50$Helper.lengthR(\u001b[32mcmd50.sc\u001b[39m:\u001b[32m5\u001b[39m)\n  ammonite.$sess.cmd50$Helper.lengthR(\u001b[32mcmd50.sc\u001b[39m:\u001b[32m5\u001b[39m)\n  ammonite.$sess.cmd50$Helper.lengthR(\u001b[32mcmd50.sc\u001b[39m:\u001b[32m5\u001b[39m)\n  ammonite.$sess.cmd50$Helper.lengthR(\u001b[32mcmd50.sc\u001b[39m:\u001b[32m5\u001b[39m)\n  ammonite.$sess.cmd50$Helper.lengthR(\u001b[32mcmd50.sc\u001b[39m:\u001b[32m5\u001b[39m)\n  ammonite.$sess.cmd50$Helper.lengthR(\u001b[32mcmd50.sc\u001b[39m:\u001b[32m5\u001b[39m)\n  ammonite.$sess.cmd50$Helper.lengthR(\u001b[32mcmd50.sc\u001b[39m:\u001b[32m5\u001b[39m)\n  ammonite.$sess.cmd50$Helper.lengthR(\u001b[32mcmd50.sc\u001b[39m:\u001b[32m5\u001b[39m)\n  ammonite.$sess.cmd50$Helper.lengthR(\u001b[32mcmd50.sc\u001b[39m:\u001b[32m5\u001b[39m)\n  ammonite.$sess.cmd50$Helper.lengthR(\u001b[32mcmd50.sc\u001b[39m:\u001b[32m5\u001b[39m)\n  ammonite.$sess.cmd50$Helper.lengthR(\u001b[32mcmd50.sc\u001b[39m:\u001b[32m5\u001b[39m)\n  ammonite.$sess.cmd50$Helper.lengthR(\u001b[32mcmd50.sc\u001b[39m:\u001b[32m5\u001b[39m)\n  ammonite.$sess.cmd50$Helper.lengthR(\u001b[32mcmd50.sc\u001b[39m:\u001b[32m5\u001b[39m)\n  ammonite.$sess.cmd50$Helper.lengthR(\u001b[32mcmd50.sc\u001b[39m:\u001b[32m5\u001b[39m)\n  ammonite.$sess.cmd50$Helper.lengthR(\u001b[32mcmd50.sc\u001b[39m:\u001b[32m5\u001b[39m)\n  ammonite.$sess.cmd50$Helper.lengthR(\u001b[32mcmd50.sc\u001b[39m:\u001b[32m5\u001b[39m)\n  ammonite.$sess.cmd50$Helper.lengthR(\u001b[32mcmd50.sc\u001b[39m:\u001b[32m5\u001b[39m)\n  ammonite.$sess.cmd50$Helper.lengthR(\u001b[32mcmd50.sc\u001b[39m:\u001b[32m5\u001b[39m)\n  ammonite.$sess.cmd50$Helper.lengthR(\u001b[32mcmd50.sc\u001b[39m:\u001b[32m5\u001b[39m)\n  ammonite.$sess.cmd50$Helper.lengthR(\u001b[32mcmd50.sc\u001b[39m:\u001b[32m5\u001b[39m)\n  ammonite.$sess.cmd50$Helper.lengthR(\u001b[32mcmd50.sc\u001b[39m:\u001b[32m5\u001b[39m)\n  ammonite.$sess.cmd50$Helper.lengthR(\u001b[32mcmd50.sc\u001b[39m:\u001b[32m5\u001b[39m)\n  ammonite.$sess.cmd50$Helper.lengthR(\u001b[32mcmd50.sc\u001b[39m:\u001b[32m5\u001b[39m)\n  ammonite.$sess.cmd50$Helper.lengthR(\u001b[32mcmd50.sc\u001b[39m:\u001b[32m5\u001b[39m)\n  ammonite.$sess.cmd50$Helper.lengthR(\u001b[32mcmd50.sc\u001b[39m:\u001b[32m5\u001b[39m)\n  ammonite.$sess.cmd50$Helper.lengthR(\u001b[32mcmd50.sc\u001b[39m:\u001b[32m5\u001b[39m)\n  ammonite.$sess.cmd50$Helper.lengthR(\u001b[32mcmd50.sc\u001b[39m:\u001b[32m5\u001b[39m)\n  ammonite.$sess.cmd50$Helper.lengthR(\u001b[32mcmd50.sc\u001b[39m:\u001b[32m5\u001b[39m)\n  ammonite.$sess.cmd50$Helper.lengthR(\u001b[32mcmd50.sc\u001b[39m:\u001b[32m5\u001b[39m)\n  ammonite.$sess.cmd50$Helper.lengthR(\u001b[32mcmd50.sc\u001b[39m:\u001b[32m5\u001b[39m)\n  ammonite.$sess.cmd50$Helper.lengthR(\u001b[32mcmd50.sc\u001b[39m:\u001b[32m5\u001b[39m)\n  ammonite.$sess.cmd50$Helper.lengthR(\u001b[32mcmd50.sc\u001b[39m:\u001b[32m5\u001b[39m)\n  ammonite.$sess.cmd50$Helper.lengthR(\u001b[32mcmd50.sc\u001b[39m:\u001b[32m5\u001b[39m)\n  ammonite.$sess.cmd50$Helper.lengthR(\u001b[32mcmd50.sc\u001b[39m:\u001b[32m5\u001b[39m)\n  ammonite.$sess.cmd50$Helper.lengthR(\u001b[32mcmd50.sc\u001b[39m:\u001b[32m5\u001b[39m)\n  ammonite.$sess.cmd50$Helper.lengthR(\u001b[32mcmd50.sc\u001b[39m:\u001b[32m5\u001b[39m)\n  ammonite.$sess.cmd50$Helper.lengthR(\u001b[32mcmd50.sc\u001b[39m:\u001b[32m5\u001b[39m)\n  ammonite.$sess.cmd50$Helper.lengthR(\u001b[32mcmd50.sc\u001b[39m:\u001b[32m5\u001b[39m)\n  ammonite.$sess.cmd50$Helper.lengthR(\u001b[32mcmd50.sc\u001b[39m:\u001b[32m5\u001b[39m)\n  ammonite.$sess.cmd50$Helper.lengthR(\u001b[32mcmd50.sc\u001b[39m:\u001b[32m5\u001b[39m)\n  ammonite.$sess.cmd50$Helper.lengthR(\u001b[32mcmd50.sc\u001b[39m:\u001b[32m5\u001b[39m)\n  ammonite.$sess.cmd50$Helper.lengthR(\u001b[32mcmd50.sc\u001b[39m:\u001b[32m5\u001b[39m)\n  ammonite.$sess.cmd50$Helper.lengthR(\u001b[32mcmd50.sc\u001b[39m:\u001b[32m5\u001b[39m)\n  ammonite.$sess.cmd50$Helper.lengthR(\u001b[32mcmd50.sc\u001b[39m:\u001b[32m5\u001b[39m)\n  ammonite.$sess.cmd50$Helper.lengthR(\u001b[32mcmd50.sc\u001b[39m:\u001b[32m5\u001b[39m)\n  ammonite.$sess.cmd50$Helper.lengthR(\u001b[32mcmd50.sc\u001b[39m:\u001b[32m5\u001b[39m)\n  ammonite.$sess.cmd50$Helper.lengthR(\u001b[32mcmd50.sc\u001b[39m:\u001b[32m5\u001b[39m)\n  ammonite.$sess.cmd50$Helper.lengthR(\u001b[32mcmd50.sc\u001b[39m:\u001b[32m5\u001b[39m)\n  ammonite.$sess.cmd50$Helper.lengthR(\u001b[32mcmd50.sc\u001b[39m:\u001b[32m5\u001b[39m)\n  ammonite.$sess.cmd50$Helper.lengthR(\u001b[32mcmd50.sc\u001b[39m:\u001b[32m5\u001b[39m)\n  ammonite.$sess.cmd50$Helper.lengthR(\u001b[32mcmd50.sc\u001b[39m:\u001b[32m5\u001b[39m)\n  ammonite.$sess.cmd50$Helper.lengthR(\u001b[32mcmd50.sc\u001b[39m:\u001b[32m5\u001b[39m)\n  ammonite.$sess.cmd50$Helper.lengthR(\u001b[32mcmd50.sc\u001b[39m:\u001b[32m5\u001b[39m)\n  ammonite.$sess.cmd50$Helper.lengthR(\u001b[32mcmd50.sc\u001b[39m:\u001b[32m5\u001b[39m)\n  ammonite.$sess.cmd50$Helper.lengthR(\u001b[32mcmd50.sc\u001b[39m:\u001b[32m5\u001b[39m)\n  ammonite.$sess.cmd50$Helper.lengthR(\u001b[32mcmd50.sc\u001b[39m:\u001b[32m5\u001b[39m)\n  ammonite.$sess.cmd50$Helper.lengthR(\u001b[32mcmd50.sc\u001b[39m:\u001b[32m5\u001b[39m)\n  ammonite.$sess.cmd50$Helper.lengthR(\u001b[32mcmd50.sc\u001b[39m:\u001b[32m5\u001b[39m)\n  ammonite.$sess.cmd50$Helper.lengthR(\u001b[32mcmd50.sc\u001b[39m:\u001b[32m5\u001b[39m)\n  ammonite.$sess.cmd50$Helper.lengthR(\u001b[32mcmd50.sc\u001b[39m:\u001b[32m5\u001b[39m)\n  ammonite.$sess.cmd50$Helper.lengthR(\u001b[32mcmd50.sc\u001b[39m:\u001b[32m5\u001b[39m)\n  ammonite.$sess.cmd50$Helper.lengthR(\u001b[32mcmd50.sc\u001b[39m:\u001b[32m5\u001b[39m)\n  ammonite.$sess.cmd50$Helper.lengthR(\u001b[32mcmd50.sc\u001b[39m:\u001b[32m5\u001b[39m)\n  ammonite.$sess.cmd50$Helper.lengthR(\u001b[32mcmd50.sc\u001b[39m:\u001b[32m5\u001b[39m)\n  ammonite.$sess.cmd50$Helper.lengthR(\u001b[32mcmd50.sc\u001b[39m:\u001b[32m5\u001b[39m)\n  ammonite.$sess.cmd50$Helper.lengthR(\u001b[32mcmd50.sc\u001b[39m:\u001b[32m5\u001b[39m)\n  ammonite.$sess.cmd50$Helper.lengthR(\u001b[32mcmd50.sc\u001b[39m:\u001b[32m5\u001b[39m)\n  ammonite.$sess.cmd50$Helper.lengthR(\u001b[32mcmd50.sc\u001b[39m:\u001b[32m5\u001b[39m)\n  ammonite.$sess.cmd50$Helper.lengthR(\u001b[32mcmd50.sc\u001b[39m:\u001b[32m5\u001b[39m)\n  ammonite.$sess.cmd50$Helper.lengthR(\u001b[32mcmd50.sc\u001b[39m:\u001b[32m5\u001b[39m)\n  ammonite.$sess.cmd50$Helper.lengthR(\u001b[32mcmd50.sc\u001b[39m:\u001b[32m5\u001b[39m)\n  ammonite.$sess.cmd50$Helper.lengthR(\u001b[32mcmd50.sc\u001b[39m:\u001b[32m5\u001b[39m)\n  ammonite.$sess.cmd50$Helper.lengthR(\u001b[32mcmd50.sc\u001b[39m:\u001b[32m5\u001b[39m)\n  ammonite.$sess.cmd50$Helper.lengthR(\u001b[32mcmd50.sc\u001b[39m:\u001b[32m5\u001b[39m)\n  ammonite.$sess.cmd50$Helper.lengthR(\u001b[32mcmd50.sc\u001b[39m:\u001b[32m5\u001b[39m)\n  ammonite.$sess.cmd50$Helper.lengthR(\u001b[32mcmd50.sc\u001b[39m:\u001b[32m5\u001b[39m)\n  ammonite.$sess.cmd50$Helper.lengthR(\u001b[32mcmd50.sc\u001b[39m:\u001b[32m5\u001b[39m)\n  ammonite.$sess.cmd50$Helper.lengthR(\u001b[32mcmd50.sc\u001b[39m:\u001b[32m5\u001b[39m)\n  ammonite.$sess.cmd50$Helper.lengthR(\u001b[32mcmd50.sc\u001b[39m:\u001b[32m5\u001b[39m)\n  ammonite.$sess.cmd50$Helper.lengthR(\u001b[32mcmd50.sc\u001b[39m:\u001b[32m5\u001b[39m)\n  ammonite.$sess.cmd50$Helper.lengthR(\u001b[32mcmd50.sc\u001b[39m:\u001b[32m5\u001b[39m)\n  ammonite.$sess.cmd50$Helper.lengthR(\u001b[32mcmd50.sc\u001b[39m:\u001b[32m5\u001b[39m)\n  ammonite.$sess.cmd50$Helper.lengthR(\u001b[32mcmd50.sc\u001b[39m:\u001b[32m5\u001b[39m)\n  ammonite.$sess.cmd50$Helper.lengthR(\u001b[32mcmd50.sc\u001b[39m:\u001b[32m5\u001b[39m)\n  ammonite.$sess.cmd50$Helper.lengthR(\u001b[32mcmd50.sc\u001b[39m:\u001b[32m5\u001b[39m)\n  ammonite.$sess.cmd50$Helper.lengthR(\u001b[32mcmd50.sc\u001b[39m:\u001b[32m5\u001b[39m)\n  ammonite.$sess.cmd50$Helper.lengthR(\u001b[32mcmd50.sc\u001b[39m:\u001b[32m5\u001b[39m)\n  ammonite.$sess.cmd50$Helper.lengthR(\u001b[32mcmd50.sc\u001b[39m:\u001b[32m5\u001b[39m)\n  ammonite.$sess.cmd50$Helper.lengthR(\u001b[32mcmd50.sc\u001b[39m:\u001b[32m5\u001b[39m)\n  ammonite.$sess.cmd50$Helper.lengthR(\u001b[32mcmd50.sc\u001b[39m:\u001b[32m5\u001b[39m)\n  ammonite.$sess.cmd50$Helper.lengthR(\u001b[32mcmd50.sc\u001b[39m:\u001b[32m5\u001b[39m)\n  ammonite.$sess.cmd50$Helper.lengthR(\u001b[32mcmd50.sc\u001b[39m:\u001b[32m5\u001b[39m)\n  ammonite.$sess.cmd50$Helper.lengthR(\u001b[32mcmd50.sc\u001b[39m:\u001b[32m5\u001b[39m)\n  ammonite.$sess.cmd50$Helper.lengthR(\u001b[32mcmd50.sc\u001b[39m:\u001b[32m5\u001b[39m)\n  ammonite.$sess.cmd50$Helper.lengthR(\u001b[32mcmd50.sc\u001b[39m:\u001b[32m5\u001b[39m)\n  ammonite.$sess.cmd50$Helper.lengthR(\u001b[32mcmd50.sc\u001b[39m:\u001b[32m5\u001b[39m)\n  ammonite.$sess.cmd50$Helper.lengthR(\u001b[32mcmd50.sc\u001b[39m:\u001b[32m5\u001b[39m)\n  ammonite.$sess.cmd50$Helper.lengthR(\u001b[32mcmd50.sc\u001b[39m:\u001b[32m5\u001b[39m)\n  ammonite.$sess.cmd50$Helper.lengthR(\u001b[32mcmd50.sc\u001b[39m:\u001b[32m5\u001b[39m)\n  ammonite.$sess.cmd50$Helper.lengthR(\u001b[32mcmd50.sc\u001b[39m:\u001b[32m5\u001b[39m)\n  ammonite.$sess.cmd50$Helper.lengthR(\u001b[32mcmd50.sc\u001b[39m:\u001b[32m5\u001b[39m)\n  ammonite.$sess.cmd50$Helper.lengthR(\u001b[32mcmd50.sc\u001b[39m:\u001b[32m5\u001b[39m)\n  ammonite.$sess.cmd50$Helper.lengthR(\u001b[32mcmd50.sc\u001b[39m:\u001b[32m5\u001b[39m)\n  ammonite.$sess.cmd50$Helper.lengthR(\u001b[32mcmd50.sc\u001b[39m:\u001b[32m5\u001b[39m)\n  ammonite.$sess.cmd50$Helper.lengthR(\u001b[32mcmd50.sc\u001b[39m:\u001b[32m5\u001b[39m)\n  ammonite.$sess.cmd50$Helper.lengthR(\u001b[32mcmd50.sc\u001b[39m:\u001b[32m5\u001b[39m)\n  ammonite.$sess.cmd50$Helper.lengthR(\u001b[32mcmd50.sc\u001b[39m:\u001b[32m5\u001b[39m)\n  ammonite.$sess.cmd50$Helper.lengthR(\u001b[32mcmd50.sc\u001b[39m:\u001b[32m5\u001b[39m)\n  ammonite.$sess.cmd50$Helper.lengthR(\u001b[32mcmd50.sc\u001b[39m:\u001b[32m5\u001b[39m)\n  ammonite.$sess.cmd50$Helper.lengthR(\u001b[32mcmd50.sc\u001b[39m:\u001b[32m5\u001b[39m)\n  ammonite.$sess.cmd50$Helper.lengthR(\u001b[32mcmd50.sc\u001b[39m:\u001b[32m5\u001b[39m)\n  ammonite.$sess.cmd50$Helper.lengthR(\u001b[32mcmd50.sc\u001b[39m:\u001b[32m5\u001b[39m)\n  ammonite.$sess.cmd50$Helper.lengthR(\u001b[32mcmd50.sc\u001b[39m:\u001b[32m5\u001b[39m)\n  ammonite.$sess.cmd50$Helper.lengthR(\u001b[32mcmd50.sc\u001b[39m:\u001b[32m5\u001b[39m)\n  ammonite.$sess.cmd50$Helper.lengthR(\u001b[32mcmd50.sc\u001b[39m:\u001b[32m5\u001b[39m)\n  ammonite.$sess.cmd50$Helper.lengthR(\u001b[32mcmd50.sc\u001b[39m:\u001b[32m5\u001b[39m)\n  ammonite.$sess.cmd50$Helper.lengthR(\u001b[32mcmd50.sc\u001b[39m:\u001b[32m5\u001b[39m)\n  ammonite.$sess.cmd50$Helper.lengthR(\u001b[32mcmd50.sc\u001b[39m:\u001b[32m5\u001b[39m)\n  ammonite.$sess.cmd50$Helper.lengthR(\u001b[32mcmd50.sc\u001b[39m:\u001b[32m5\u001b[39m)\n  ammonite.$sess.cmd50$Helper.lengthR(\u001b[32mcmd50.sc\u001b[39m:\u001b[32m5\u001b[39m)\n  ammonite.$sess.cmd50$Helper.lengthR(\u001b[32mcmd50.sc\u001b[39m:\u001b[32m5\u001b[39m)\n  ammonite.$sess.cmd50$Helper.lengthR(\u001b[32mcmd50.sc\u001b[39m:\u001b[32m5\u001b[39m)\n  ammonite.$sess.cmd50$Helper.lengthR(\u001b[32mcmd50.sc\u001b[39m:\u001b[32m5\u001b[39m)\n  ammonite.$sess.cmd50$Helper.lengthR(\u001b[32mcmd50.sc\u001b[39m:\u001b[32m5\u001b[39m)\n  ammonite.$sess.cmd50$Helper.lengthR(\u001b[32mcmd50.sc\u001b[39m:\u001b[32m5\u001b[39m)\n  ammonite.$sess.cmd50$Helper.lengthR(\u001b[32mcmd50.sc\u001b[39m:\u001b[32m5\u001b[39m)\n  ammonite.$sess.cmd50$Helper.lengthR(\u001b[32mcmd50.sc\u001b[39m:\u001b[32m5\u001b[39m)\n  ammonite.$sess.cmd50$Helper.lengthR(\u001b[32mcmd50.sc\u001b[39m:\u001b[32m5\u001b[39m)\n  ammonite.$sess.cmd50$Helper.lengthR(\u001b[32mcmd50.sc\u001b[39m:\u001b[32m5\u001b[39m)\n  ammonite.$sess.cmd50$Helper.lengthR(\u001b[32mcmd50.sc\u001b[39m:\u001b[32m5\u001b[39m)\n  ammonite.$sess.cmd50$Helper.lengthR(\u001b[32mcmd50.sc\u001b[39m:\u001b[32m5\u001b[39m)\n  ammonite.$sess.cmd50$Helper.lengthR(\u001b[32mcmd50.sc\u001b[39m:\u001b[32m5\u001b[39m)\n  ammonite.$sess.cmd50$Helper.lengthR(\u001b[32mcmd50.sc\u001b[39m:\u001b[32m5\u001b[39m)\n  ammonite.$sess.cmd50$Helper.lengthR(\u001b[32mcmd50.sc\u001b[39m:\u001b[32m5\u001b[39m)\n  ammonite.$sess.cmd50$Helper.lengthR(\u001b[32mcmd50.sc\u001b[39m:\u001b[32m5\u001b[39m)\n  ammonite.$sess.cmd50$Helper.lengthR(\u001b[32mcmd50.sc\u001b[39m:\u001b[32m5\u001b[39m)\n  ammonite.$sess.cmd50$Helper.lengthR(\u001b[32mcmd50.sc\u001b[39m:\u001b[32m5\u001b[39m)\n  ammonite.$sess.cmd50$Helper.lengthR(\u001b[32mcmd50.sc\u001b[39m:\u001b[32m5\u001b[39m)\n  ammonite.$sess.cmd50$Helper.lengthR(\u001b[32mcmd50.sc\u001b[39m:\u001b[32m5\u001b[39m)\n  ammonite.$sess.cmd50$Helper.lengthR(\u001b[32mcmd50.sc\u001b[39m:\u001b[32m5\u001b[39m)\n  ammonite.$sess.cmd50$Helper.lengthR(\u001b[32mcmd50.sc\u001b[39m:\u001b[32m5\u001b[39m)\n  ammonite.$sess.cmd50$Helper.lengthR(\u001b[32mcmd50.sc\u001b[39m:\u001b[32m5\u001b[39m)\n  ammonite.$sess.cmd50$Helper.lengthR(\u001b[32mcmd50.sc\u001b[39m:\u001b[32m5\u001b[39m)\n  ammonite.$sess.cmd50$Helper.lengthR(\u001b[32mcmd50.sc\u001b[39m:\u001b[32m5\u001b[39m)\n  ammonite.$sess.cmd50$Helper.lengthR(\u001b[32mcmd50.sc\u001b[39m:\u001b[32m5\u001b[39m)\n  ammonite.$sess.cmd50$Helper.lengthR(\u001b[32mcmd50.sc\u001b[39m:\u001b[32m5\u001b[39m)\n  ammonite.$sess.cmd50$Helper.lengthR(\u001b[32mcmd50.sc\u001b[39m:\u001b[32m5\u001b[39m)\n  ammonite.$sess.cmd50$Helper.lengthR(\u001b[32mcmd50.sc\u001b[39m:\u001b[32m5\u001b[39m)\n  ammonite.$sess.cmd50$Helper.lengthR(\u001b[32mcmd50.sc\u001b[39m:\u001b[32m5\u001b[39m)\n  ammonite.$sess.cmd50$Helper.lengthR(\u001b[32mcmd50.sc\u001b[39m:\u001b[32m5\u001b[39m)\n  ammonite.$sess.cmd50$Helper.lengthR(\u001b[32mcmd50.sc\u001b[39m:\u001b[32m5\u001b[39m)\n  ammonite.$sess.cmd50$Helper.lengthR(\u001b[32mcmd50.sc\u001b[39m:\u001b[32m5\u001b[39m)\n  ammonite.$sess.cmd50$Helper.lengthR(\u001b[32mcmd50.sc\u001b[39m:\u001b[32m5\u001b[39m)\n  ammonite.$sess.cmd50$Helper.lengthR(\u001b[32mcmd50.sc\u001b[39m:\u001b[32m5\u001b[39m)\n  ammonite.$sess.cmd50$Helper.lengthR(\u001b[32mcmd50.sc\u001b[39m:\u001b[32m5\u001b[39m)\n  ammonite.$sess.cmd50$Helper.lengthR(\u001b[32mcmd50.sc\u001b[39m:\u001b[32m5\u001b[39m)\n  ammonite.$sess.cmd50$Helper.lengthR(\u001b[32mcmd50.sc\u001b[39m:\u001b[32m5\u001b[39m)\n  ammonite.$sess.cmd50$Helper.lengthR(\u001b[32mcmd50.sc\u001b[39m:\u001b[32m5\u001b[39m)\n  ammonite.$sess.cmd50$Helper.lengthR(\u001b[32mcmd50.sc\u001b[39m:\u001b[32m5\u001b[39m)\n  ammonite.$sess.cmd50$Helper.lengthR(\u001b[32mcmd50.sc\u001b[39m:\u001b[32m5\u001b[39m)\n  ammonite.$sess.cmd50$Helper.lengthR(\u001b[32mcmd50.sc\u001b[39m:\u001b[32m5\u001b[39m)\n  ammonite.$sess.cmd50$Helper.lengthR(\u001b[32mcmd50.sc\u001b[39m:\u001b[32m5\u001b[39m)\n  ammonite.$sess.cmd50$Helper.lengthR(\u001b[32mcmd50.sc\u001b[39m:\u001b[32m5\u001b[39m)\n  ammonite.$sess.cmd50$Helper.lengthR(\u001b[32mcmd50.sc\u001b[39m:\u001b[32m5\u001b[39m)\n  ammonite.$sess.cmd50$Helper.lengthR(\u001b[32mcmd50.sc\u001b[39m:\u001b[32m5\u001b[39m)\n  ammonite.$sess.cmd50$Helper.lengthR(\u001b[32mcmd50.sc\u001b[39m:\u001b[32m5\u001b[39m)\n  ammonite.$sess.cmd50$Helper.lengthR(\u001b[32mcmd50.sc\u001b[39m:\u001b[32m5\u001b[39m)\n  ammonite.$sess.cmd50$Helper.lengthR(\u001b[32mcmd50.sc\u001b[39m:\u001b[32m5\u001b[39m)\n  ammonite.$sess.cmd50$Helper.lengthR(\u001b[32mcmd50.sc\u001b[39m:\u001b[32m5\u001b[39m)\n  ammonite.$sess.cmd50$Helper.lengthR(\u001b[32mcmd50.sc\u001b[39m:\u001b[32m5\u001b[39m)\n  ammonite.$sess.cmd50$Helper.lengthR(\u001b[32mcmd50.sc\u001b[39m:\u001b[32m5\u001b[39m)\n  ammonite.$sess.cmd50$Helper.lengthR(\u001b[32mcmd50.sc\u001b[39m:\u001b[32m5\u001b[39m)\n  ammonite.$sess.cmd50$Helper.lengthR(\u001b[32mcmd50.sc\u001b[39m:\u001b[32m5\u001b[39m)\n  ammonite.$sess.cmd50$Helper.lengthR(\u001b[32mcmd50.sc\u001b[39m:\u001b[32m5\u001b[39m)\n  ammonite.$sess.cmd50$Helper.lengthR(\u001b[32mcmd50.sc\u001b[39m:\u001b[32m5\u001b[39m)\n  ammonite.$sess.cmd50$Helper.lengthR(\u001b[32mcmd50.sc\u001b[39m:\u001b[32m5\u001b[39m)\n  ammonite.$sess.cmd50$Helper.lengthR(\u001b[32mcmd50.sc\u001b[39m:\u001b[32m5\u001b[39m)\n  ammonite.$sess.cmd50$Helper.lengthR(\u001b[32mcmd50.sc\u001b[39m:\u001b[32m5\u001b[39m)\n  ammonite.$sess.cmd50$Helper.lengthR(\u001b[32mcmd50.sc\u001b[39m:\u001b[32m5\u001b[39m)\n  ammonite.$sess.cmd50$Helper.lengthR(\u001b[32mcmd50.sc\u001b[39m:\u001b[32m5\u001b[39m)\n  ammonite.$sess.cmd50$Helper.lengthR(\u001b[32mcmd50.sc\u001b[39m:\u001b[32m5\u001b[39m)\n  ammonite.$sess.cmd50$Helper.lengthR(\u001b[32mcmd50.sc\u001b[39m:\u001b[32m5\u001b[39m)\n  ammonite.$sess.cmd50$Helper.lengthR(\u001b[32mcmd50.sc\u001b[39m:\u001b[32m5\u001b[39m)\n  ammonite.$sess.cmd50$Helper.lengthR(\u001b[32mcmd50.sc\u001b[39m:\u001b[32m5\u001b[39m)\n  ammonite.$sess.cmd50$Helper.lengthR(\u001b[32mcmd50.sc\u001b[39m:\u001b[32m5\u001b[39m)\n  ammonite.$sess.cmd50$Helper.lengthR(\u001b[32mcmd50.sc\u001b[39m:\u001b[32m5\u001b[39m)\n  ammonite.$sess.cmd50$Helper.lengthR(\u001b[32mcmd50.sc\u001b[39m:\u001b[32m5\u001b[39m)\n  ammonite.$sess.cmd50$Helper.lengthR(\u001b[32mcmd50.sc\u001b[39m:\u001b[32m5\u001b[39m)\n  ammonite.$sess.cmd50$Helper.lengthR(\u001b[32mcmd50.sc\u001b[39m:\u001b[32m5\u001b[39m)\n  ammonite.$sess.cmd50$Helper.lengthR(\u001b[32mcmd50.sc\u001b[39m:\u001b[32m5\u001b[39m)\n  ammonite.$sess.cmd50$Helper.lengthR(\u001b[32mcmd50.sc\u001b[39m:\u001b[32m5\u001b[39m)\n  ammonite.$sess.cmd50$Helper.lengthR(\u001b[32mcmd50.sc\u001b[39m:\u001b[32m5\u001b[39m)\n  ammonite.$sess.cmd50$Helper.lengthR(\u001b[32mcmd50.sc\u001b[39m:\u001b[32m5\u001b[39m)\n  ammonite.$sess.cmd50$Helper.lengthR(\u001b[32mcmd50.sc\u001b[39m:\u001b[32m5\u001b[39m)\n  ammonite.$sess.cmd50$Helper.lengthR(\u001b[32mcmd50.sc\u001b[39m:\u001b[32m5\u001b[39m)\n  ammonite.$sess.cmd50$Helper.lengthR(\u001b[32mcmd50.sc\u001b[39m:\u001b[32m5\u001b[39m)\n  ammonite.$sess.cmd50$Helper.lengthR(\u001b[32mcmd50.sc\u001b[39m:\u001b[32m5\u001b[39m)\n  ammonite.$sess.cmd50$Helper.lengthR(\u001b[32mcmd50.sc\u001b[39m:\u001b[32m5\u001b[39m)\n  ammonite.$sess.cmd50$Helper.lengthR(\u001b[32mcmd50.sc\u001b[39m:\u001b[32m5\u001b[39m)\n  ammonite.$sess.cmd50$Helper.lengthR(\u001b[32mcmd50.sc\u001b[39m:\u001b[32m5\u001b[39m)\n  ammonite.$sess.cmd50$Helper.lengthR(\u001b[32mcmd50.sc\u001b[39m:\u001b[32m5\u001b[39m)\n  ammonite.$sess.cmd50$Helper.lengthR(\u001b[32mcmd50.sc\u001b[39m:\u001b[32m5\u001b[39m)\n  ammonite.$sess.cmd50$Helper.lengthR(\u001b[32mcmd50.sc\u001b[39m:\u001b[32m5\u001b[39m)\n  ammonite.$sess.cmd50$Helper.lengthR(\u001b[32mcmd50.sc\u001b[39m:\u001b[32m5\u001b[39m)\n  ammonite.$sess.cmd50$Helper.lengthR(\u001b[32mcmd50.sc\u001b[39m:\u001b[32m5\u001b[39m)\n  ammonite.$sess.cmd50$Helper.lengthR(\u001b[32mcmd50.sc\u001b[39m:\u001b[32m5\u001b[39m)\n  ammonite.$sess.cmd50$Helper.lengthR(\u001b[32mcmd50.sc\u001b[39m:\u001b[32m5\u001b[39m)\n  ammonite.$sess.cmd50$Helper.lengthR(\u001b[32mcmd50.sc\u001b[39m:\u001b[32m5\u001b[39m)\n  ammonite.$sess.cmd50$Helper.lengthR(\u001b[32mcmd50.sc\u001b[39m:\u001b[32m5\u001b[39m)\n  ammonite.$sess.cmd50$Helper.lengthR(\u001b[32mcmd50.sc\u001b[39m:\u001b[32m5\u001b[39m)\n  ammonite.$sess.cmd50$Helper.lengthR(\u001b[32mcmd50.sc\u001b[39m:\u001b[32m5\u001b[39m)\n  ammonite.$sess.cmd50$Helper.lengthR(\u001b[32mcmd50.sc\u001b[39m:\u001b[32m5\u001b[39m)\n  ammonite.$sess.cmd50$Helper.lengthR(\u001b[32mcmd50.sc\u001b[39m:\u001b[32m5\u001b[39m)\n  ammonite.$sess.cmd50$Helper.lengthR(\u001b[32mcmd50.sc\u001b[39m:\u001b[32m5\u001b[39m)\n  ammonite.$sess.cmd50$Helper.lengthR(\u001b[32mcmd50.sc\u001b[39m:\u001b[32m5\u001b[39m)\n  ammonite.$sess.cmd50$Helper.lengthR(\u001b[32mcmd50.sc\u001b[39m:\u001b[32m5\u001b[39m)\n  ammonite.$sess.cmd50$Helper.lengthR(\u001b[32mcmd50.sc\u001b[39m:\u001b[32m5\u001b[39m)\n  ammonite.$sess.cmd50$Helper.lengthR(\u001b[32mcmd50.sc\u001b[39m:\u001b[32m5\u001b[39m)\n  ammonite.$sess.cmd50$Helper.lengthR(\u001b[32mcmd50.sc\u001b[39m:\u001b[32m5\u001b[39m)\n  ammonite.$sess.cmd50$Helper.lengthR(\u001b[32mcmd50.sc\u001b[39m:\u001b[32m5\u001b[39m)\n  ammonite.$sess.cmd50$Helper.lengthR(\u001b[32mcmd50.sc\u001b[39m:\u001b[32m5\u001b[39m)\n  ammonite.$sess.cmd50$Helper.lengthR(\u001b[32mcmd50.sc\u001b[39m:\u001b[32m5\u001b[39m)\n  ammonite.$sess.cmd50$Helper.lengthR(\u001b[32mcmd50.sc\u001b[39m:\u001b[32m5\u001b[39m)\n  ammonite.$sess.cmd50$Helper.lengthR(\u001b[32mcmd50.sc\u001b[39m:\u001b[32m5\u001b[39m)\n  ammonite.$sess.cmd50$Helper.lengthR(\u001b[32mcmd50.sc\u001b[39m:\u001b[32m5\u001b[39m)\n  ammonite.$sess.cmd50$Helper.lengthR(\u001b[32mcmd50.sc\u001b[39m:\u001b[32m5\u001b[39m)\n  ammonite.$sess.cmd50$Helper.lengthR(\u001b[32mcmd50.sc\u001b[39m:\u001b[32m5\u001b[39m)\n  ammonite.$sess.cmd50$Helper.lengthR(\u001b[32mcmd50.sc\u001b[39m:\u001b[32m5\u001b[39m)\n  ammonite.$sess.cmd50$Helper.lengthR(\u001b[32mcmd50.sc\u001b[39m:\u001b[32m5\u001b[39m)\n  ammonite.$sess.cmd50$Helper.lengthR(\u001b[32mcmd50.sc\u001b[39m:\u001b[32m5\u001b[39m)\n  ammonite.$sess.cmd50$Helper.lengthR(\u001b[32mcmd50.sc\u001b[39m:\u001b[32m5\u001b[39m)\n  ammonite.$sess.cmd50$Helper.lengthR(\u001b[32mcmd50.sc\u001b[39m:\u001b[32m5\u001b[39m)\n  ammonite.$sess.cmd50$Helper.lengthR(\u001b[32mcmd50.sc\u001b[39m:\u001b[32m5\u001b[39m)\n  ammonite.$sess.cmd50$Helper.lengthR(\u001b[32mcmd50.sc\u001b[39m:\u001b[32m5\u001b[39m)\n  ammonite.$sess.cmd50$Helper.lengthR(\u001b[32mcmd50.sc\u001b[39m:\u001b[32m5\u001b[39m)\n  ammonite.$sess.cmd50$Helper.lengthR(\u001b[32mcmd50.sc\u001b[39m:\u001b[32m5\u001b[39m)\n  ammonite.$sess.cmd50$Helper.lengthR(\u001b[32mcmd50.sc\u001b[39m:\u001b[32m5\u001b[39m)\n  ammonite.$sess.cmd50$Helper.lengthR(\u001b[32mcmd50.sc\u001b[39m:\u001b[32m5\u001b[39m)\n  ammonite.$sess.cmd50$Helper.lengthR(\u001b[32mcmd50.sc\u001b[39m:\u001b[32m5\u001b[39m)\n  ammonite.$sess.cmd50$Helper.lengthR(\u001b[32mcmd50.sc\u001b[39m:\u001b[32m5\u001b[39m)\n  ammonite.$sess.cmd50$Helper.lengthR(\u001b[32mcmd50.sc\u001b[39m:\u001b[32m5\u001b[39m)\n  ammonite.$sess.cmd50$Helper.lengthR(\u001b[32mcmd50.sc\u001b[39m:\u001b[32m5\u001b[39m)\n  ammonite.$sess.cmd50$Helper.lengthR(\u001b[32mcmd50.sc\u001b[39m:\u001b[32m5\u001b[39m)\n  ammonite.$sess.cmd50$Helper.lengthR(\u001b[32mcmd50.sc\u001b[39m:\u001b[32m5\u001b[39m)\n  ammonite.$sess.cmd50$Helper.lengthR(\u001b[32mcmd50.sc\u001b[39m:\u001b[32m5\u001b[39m)\n  ammonite.$sess.cmd50$Helper.lengthR(\u001b[32mcmd50.sc\u001b[39m:\u001b[32m5\u001b[39m)\n  ammonite.$sess.cmd50$Helper.lengthR(\u001b[32mcmd50.sc\u001b[39m:\u001b[32m5\u001b[39m)\n  ammonite.$sess.cmd50$Helper.lengthR(\u001b[32mcmd50.sc\u001b[39m:\u001b[32m5\u001b[39m)\n  ammonite.$sess.cmd50$Helper.lengthR(\u001b[32mcmd50.sc\u001b[39m:\u001b[32m5\u001b[39m)\n  ammonite.$sess.cmd50$Helper.lengthR(\u001b[32mcmd50.sc\u001b[39m:\u001b[32m5\u001b[39m)\n  ammonite.$sess.cmd50$Helper.lengthR(\u001b[32mcmd50.sc\u001b[39m:\u001b[32m5\u001b[39m)\n  ammonite.$sess.cmd50$Helper.lengthR(\u001b[32mcmd50.sc\u001b[39m:\u001b[32m5\u001b[39m)\n  ammonite.$sess.cmd50$Helper.lengthR(\u001b[32mcmd50.sc\u001b[39m:\u001b[32m5\u001b[39m)\n  ammonite.$sess.cmd50$Helper.lengthR(\u001b[32mcmd50.sc\u001b[39m:\u001b[32m5\u001b[39m)\n  ammonite.$sess.cmd50$Helper.lengthR(\u001b[32mcmd50.sc\u001b[39m:\u001b[32m5\u001b[39m)\n  ammonite.$sess.cmd50$Helper.lengthR(\u001b[32mcmd50.sc\u001b[39m:\u001b[32m5\u001b[39m)\n  ammonite.$sess.cmd50$Helper.lengthR(\u001b[32mcmd50.sc\u001b[39m:\u001b[32m5\u001b[39m)\n  ammonite.$sess.cmd50$Helper.lengthR(\u001b[32mcmd50.sc\u001b[39m:\u001b[32m5\u001b[39m)\n  ammonite.$sess.cmd50$Helper.lengthR(\u001b[32mcmd50.sc\u001b[39m:\u001b[32m5\u001b[39m)\n  ammonite.$sess.cmd50$Helper.lengthR(\u001b[32mcmd50.sc\u001b[39m:\u001b[32m5\u001b[39m)\n  ammonite.$sess.cmd50$Helper.lengthR(\u001b[32mcmd50.sc\u001b[39m:\u001b[32m5\u001b[39m)\n  ammonite.$sess.cmd50$Helper.lengthR(\u001b[32mcmd50.sc\u001b[39m:\u001b[32m5\u001b[39m)\n  ammonite.$sess.cmd50$Helper.lengthR(\u001b[32mcmd50.sc\u001b[39m:\u001b[32m5\u001b[39m)\n  ammonite.$sess.cmd50$Helper.lengthR(\u001b[32mcmd50.sc\u001b[39m:\u001b[32m5\u001b[39m)\n  ammonite.$sess.cmd50$Helper.lengthR(\u001b[32mcmd50.sc\u001b[39m:\u001b[32m5\u001b[39m)\n  ammonite.$sess.cmd50$Helper.lengthR(\u001b[32mcmd50.sc\u001b[39m:\u001b[32m5\u001b[39m)\n  ammonite.$sess.cmd50$Helper.lengthR(\u001b[32mcmd50.sc\u001b[39m:\u001b[32m5\u001b[39m)\n  ammonite.$sess.cmd50$Helper.lengthR(\u001b[32mcmd50.sc\u001b[39m:\u001b[32m5\u001b[39m)\n  ammonite.$sess.cmd50$Helper.lengthR(\u001b[32mcmd50.sc\u001b[39m:\u001b[32m5\u001b[39m)\n  ammonite.$sess.cmd50$Helper.lengthR(\u001b[32mcmd50.sc\u001b[39m:\u001b[32m5\u001b[39m)\n  ammonite.$sess.cmd50$Helper.lengthR(\u001b[32mcmd50.sc\u001b[39m:\u001b[32m5\u001b[39m)\n  ammonite.$sess.cmd50$Helper.lengthR(\u001b[32mcmd50.sc\u001b[39m:\u001b[32m5\u001b[39m)\n  ammonite.$sess.cmd50$Helper.lengthR(\u001b[32mcmd50.sc\u001b[39m:\u001b[32m5\u001b[39m)\n  ammonite.$sess.cmd50$Helper.lengthR(\u001b[32mcmd50.sc\u001b[39m:\u001b[32m5\u001b[39m)\n  ammonite.$sess.cmd50$Helper.lengthR(\u001b[32mcmd50.sc\u001b[39m:\u001b[32m5\u001b[39m)\n  ammonite.$sess.cmd50$Helper.lengthR(\u001b[32mcmd50.sc\u001b[39m:\u001b[32m5\u001b[39m)\n  ammonite.$sess.cmd50$Helper.lengthR(\u001b[32mcmd50.sc\u001b[39m:\u001b[32m5\u001b[39m)\n  ammonite.$sess.cmd50$Helper.lengthR(\u001b[32mcmd50.sc\u001b[39m:\u001b[32m5\u001b[39m)\n  ammonite.$sess.cmd50$Helper.lengthR(\u001b[32mcmd50.sc\u001b[39m:\u001b[32m5\u001b[39m)\n  ammonite.$sess.cmd50$Helper.lengthR(\u001b[32mcmd50.sc\u001b[39m:\u001b[32m5\u001b[39m)\n  ammonite.$sess.cmd50$Helper.lengthR(\u001b[32mcmd50.sc\u001b[39m:\u001b[32m5\u001b[39m)\n  ammonite.$sess.cmd50$Helper.lengthR(\u001b[32mcmd50.sc\u001b[39m:\u001b[32m5\u001b[39m)\n  ammonite.$sess.cmd50$Helper.lengthR(\u001b[32mcmd50.sc\u001b[39m:\u001b[32m5\u001b[39m)\n  ammonite.$sess.cmd50$Helper.lengthR(\u001b[32mcmd50.sc\u001b[39m:\u001b[32m5\u001b[39m)\n  ammonite.$sess.cmd50$Helper.lengthR(\u001b[32mcmd50.sc\u001b[39m:\u001b[32m5\u001b[39m)\n  ammonite.$sess.cmd50$Helper.lengthR(\u001b[32mcmd50.sc\u001b[39m:\u001b[32m5\u001b[39m)\n  ammonite.$sess.cmd50$Helper.lengthR(\u001b[32mcmd50.sc\u001b[39m:\u001b[32m5\u001b[39m)\n  ammonite.$sess.cmd50$Helper.lengthR(\u001b[32mcmd50.sc\u001b[39m:\u001b[32m5\u001b[39m)\n  ammonite.$sess.cmd50$Helper.lengthR(\u001b[32mcmd50.sc\u001b[39m:\u001b[32m5\u001b[39m)\n  ammonite.$sess.cmd50$Helper.lengthR(\u001b[32mcmd50.sc\u001b[39m:\u001b[32m5\u001b[39m)\n  ammonite.$sess.cmd50$Helper.lengthR(\u001b[32mcmd50.sc\u001b[39m:\u001b[32m5\u001b[39m)\n  ammonite.$sess.cmd50$Helper.lengthR(\u001b[32mcmd50.sc\u001b[39m:\u001b[32m5\u001b[39m)\n  ammonite.$sess.cmd50$Helper.lengthR(\u001b[32mcmd50.sc\u001b[39m:\u001b[32m5\u001b[39m)\n  ammonite.$sess.cmd50$Helper.lengthR(\u001b[32mcmd50.sc\u001b[39m:\u001b[32m5\u001b[39m)\n  ammonite.$sess.cmd50$Helper.lengthR(\u001b[32mcmd50.sc\u001b[39m:\u001b[32m5\u001b[39m)\n  ammonite.$sess.cmd50$Helper.lengthR(\u001b[32mcmd50.sc\u001b[39m:\u001b[32m5\u001b[39m)\n  ammonite.$sess.cmd50$Helper.lengthR(\u001b[32mcmd50.sc\u001b[39m:\u001b[32m5\u001b[39m)\n  ammonite.$sess.cmd50$Helper.lengthR(\u001b[32mcmd50.sc\u001b[39m:\u001b[32m5\u001b[39m)\n  ammonite.$sess.cmd50$Helper.lengthR(\u001b[32mcmd50.sc\u001b[39m:\u001b[32m5\u001b[39m)\n  ammonite.$sess.cmd50$Helper.lengthR(\u001b[32mcmd50.sc\u001b[39m:\u001b[32m5\u001b[39m)\n  ammonite.$sess.cmd50$Helper.lengthR(\u001b[32mcmd50.sc\u001b[39m:\u001b[32m5\u001b[39m)\n  ammonite.$sess.cmd50$Helper.lengthR(\u001b[32mcmd50.sc\u001b[39m:\u001b[32m5\u001b[39m)\n  ammonite.$sess.cmd50$Helper.lengthR(\u001b[32mcmd50.sc\u001b[39m:\u001b[32m5\u001b[39m)\n  ammonite.$sess.cmd50$Helper.lengthR(\u001b[32mcmd50.sc\u001b[39m:\u001b[32m5\u001b[39m)\n  ammonite.$sess.cmd50$Helper.lengthR(\u001b[32mcmd50.sc\u001b[39m:\u001b[32m5\u001b[39m)\n  ammonite.$sess.cmd50$Helper.lengthR(\u001b[32mcmd50.sc\u001b[39m:\u001b[32m5\u001b[39m)\n  ammonite.$sess.cmd50$Helper.lengthR(\u001b[32mcmd50.sc\u001b[39m:\u001b[32m5\u001b[39m)\n  ammonite.$sess.cmd50$Helper.lengthR(\u001b[32mcmd50.sc\u001b[39m:\u001b[32m5\u001b[39m)\n  ammonite.$sess.cmd50$Helper.lengthR(\u001b[32mcmd50.sc\u001b[39m:\u001b[32m5\u001b[39m)\n  ammonite.$sess.cmd50$Helper.lengthR(\u001b[32mcmd50.sc\u001b[39m:\u001b[32m5\u001b[39m)\n  ammonite.$sess.cmd50$Helper.lengthR(\u001b[32mcmd50.sc\u001b[39m:\u001b[32m5\u001b[39m)\n  ammonite.$sess.cmd50$Helper.lengthR(\u001b[32mcmd50.sc\u001b[39m:\u001b[32m5\u001b[39m)\n  ammonite.$sess.cmd50$Helper.lengthR(\u001b[32mcmd50.sc\u001b[39m:\u001b[32m5\u001b[39m)\n  ammonite.$sess.cmd50$Helper.lengthR(\u001b[32mcmd50.sc\u001b[39m:\u001b[32m5\u001b[39m)\n  ammonite.$sess.cmd50$Helper.lengthR(\u001b[32mcmd50.sc\u001b[39m:\u001b[32m5\u001b[39m)\n  ammonite.$sess.cmd50$Helper.lengthR(\u001b[32mcmd50.sc\u001b[39m:\u001b[32m5\u001b[39m)\n  ammonite.$sess.cmd50$Helper.lengthR(\u001b[32mcmd50.sc\u001b[39m:\u001b[32m5\u001b[39m)\n  ammonite.$sess.cmd50$Helper.lengthR(\u001b[32mcmd50.sc\u001b[39m:\u001b[32m5\u001b[39m)\n  ammonite.$sess.cmd50$Helper.lengthR(\u001b[32mcmd50.sc\u001b[39m:\u001b[32m5\u001b[39m)\n  ammonite.$sess.cmd50$Helper.lengthR(\u001b[32mcmd50.sc\u001b[39m:\u001b[32m5\u001b[39m)\n  ammonite.$sess.cmd50$Helper.lengthR(\u001b[32mcmd50.sc\u001b[39m:\u001b[32m5\u001b[39m)\n  ammonite.$sess.cmd50$Helper.lengthR(\u001b[32mcmd50.sc\u001b[39m:\u001b[32m5\u001b[39m)\n  ammonite.$sess.cmd50$Helper.lengthR(\u001b[32mcmd50.sc\u001b[39m:\u001b[32m5\u001b[39m)\n  ammonite.$sess.cmd50$Helper.lengthR(\u001b[32mcmd50.sc\u001b[39m:\u001b[32m5\u001b[39m)\n  ammonite.$sess.cmd50$Helper.lengthR(\u001b[32mcmd50.sc\u001b[39m:\u001b[32m5\u001b[39m)\n  ammonite.$sess.cmd50$Helper.lengthR(\u001b[32mcmd50.sc\u001b[39m:\u001b[32m5\u001b[39m)\n  ammonite.$sess.cmd50$Helper.lengthR(\u001b[32mcmd50.sc\u001b[39m:\u001b[32m5\u001b[39m)\n  ammonite.$sess.cmd50$Helper.lengthR(\u001b[32mcmd50.sc\u001b[39m:\u001b[32m5\u001b[39m)\n  ammonite.$sess.cmd50$Helper.lengthR(\u001b[32mcmd50.sc\u001b[39m:\u001b[32m5\u001b[39m)\n  ammonite.$sess.cmd50$Helper.lengthR(\u001b[32mcmd50.sc\u001b[39m:\u001b[32m5\u001b[39m)\n  ammonite.$sess.cmd50$Helper.lengthR(\u001b[32mcmd50.sc\u001b[39m:\u001b[32m5\u001b[39m)\n  ammonite.$sess.cmd50$Helper.lengthR(\u001b[32mcmd50.sc\u001b[39m:\u001b[32m5\u001b[39m)\n  ammonite.$sess.cmd50$Helper.lengthR(\u001b[32mcmd50.sc\u001b[39m:\u001b[32m5\u001b[39m)\n  ammonite.$sess.cmd50$Helper.lengthR(\u001b[32mcmd50.sc\u001b[39m:\u001b[32m5\u001b[39m)\n  ammonite.$sess.cmd50$Helper.lengthR(\u001b[32mcmd50.sc\u001b[39m:\u001b[32m5\u001b[39m)\n  ammonite.$sess.cmd50$Helper.lengthR(\u001b[32mcmd50.sc\u001b[39m:\u001b[32m5\u001b[39m)\n  ammonite.$sess.cmd50$Helper.lengthR(\u001b[32mcmd50.sc\u001b[39m:\u001b[32m5\u001b[39m)\n  ammonite.$sess.cmd50$Helper.lengthR(\u001b[32mcmd50.sc\u001b[39m:\u001b[32m5\u001b[39m)\n  ammonite.$sess.cmd50$Helper.lengthR(\u001b[32mcmd50.sc\u001b[39m:\u001b[32m5\u001b[39m)\n  ammonite.$sess.cmd50$Helper.lengthR(\u001b[32mcmd50.sc\u001b[39m:\u001b[32m5\u001b[39m)\n  ammonite.$sess.cmd50$Helper.lengthR(\u001b[32mcmd50.sc\u001b[39m:\u001b[32m5\u001b[39m)\n  ammonite.$sess.cmd50$Helper.lengthR(\u001b[32mcmd50.sc\u001b[39m:\u001b[32m5\u001b[39m)\n  ammonite.$sess.cmd50$Helper.lengthR(\u001b[32mcmd50.sc\u001b[39m:\u001b[32m5\u001b[39m)\n  ammonite.$sess.cmd50$Helper.lengthR(\u001b[32mcmd50.sc\u001b[39m:\u001b[32m5\u001b[39m)\n  ammonite.$sess.cmd50$Helper.lengthR(\u001b[32mcmd50.sc\u001b[39m:\u001b[32m5\u001b[39m)\n  ammonite.$sess.cmd50$Helper.lengthR(\u001b[32mcmd50.sc\u001b[39m:\u001b[32m5\u001b[39m)\n  ammonite.$sess.cmd50$Helper.lengthR(\u001b[32mcmd50.sc\u001b[39m:\u001b[32m5\u001b[39m)\n  ammonite.$sess.cmd50$Helper.lengthR(\u001b[32mcmd50.sc\u001b[39m:\u001b[32m5\u001b[39m)\n  ammonite.$sess.cmd50$Helper.lengthR(\u001b[32mcmd50.sc\u001b[39m:\u001b[32m5\u001b[39m)\n  ammonite.$sess.cmd50$Helper.lengthR(\u001b[32mcmd50.sc\u001b[39m:\u001b[32m5\u001b[39m)\n  ammonite.$sess.cmd50$Helper.lengthR(\u001b[32mcmd50.sc\u001b[39m:\u001b[32m5\u001b[39m)\n  ammonite.$sess.cmd50$Helper.lengthR(\u001b[32mcmd50.sc\u001b[39m:\u001b[32m5\u001b[39m)\n  ammonite.$sess.cmd50$Helper.lengthR(\u001b[32mcmd50.sc\u001b[39m:\u001b[32m5\u001b[39m)\n  ammonite.$sess.cmd50$Helper.lengthR(\u001b[32mcmd50.sc\u001b[39m:\u001b[32m5\u001b[39m)\n  ammonite.$sess.cmd50$Helper.lengthR(\u001b[32mcmd50.sc\u001b[39m:\u001b[32m5\u001b[39m)\n  ammonite.$sess.cmd50$Helper.lengthR(\u001b[32mcmd50.sc\u001b[39m:\u001b[32m5\u001b[39m)\n  ammonite.$sess.cmd50$Helper.lengthR(\u001b[32mcmd50.sc\u001b[39m:\u001b[32m5\u001b[39m)\n  ammonite.$sess.cmd50$Helper.lengthR(\u001b[32mcmd50.sc\u001b[39m:\u001b[32m5\u001b[39m)\n  ammonite.$sess.cmd50$Helper.lengthR(\u001b[32mcmd50.sc\u001b[39m:\u001b[32m5\u001b[39m)\n  ammonite.$sess.cmd50$Helper.lengthR(\u001b[32mcmd50.sc\u001b[39m:\u001b[32m5\u001b[39m)\n  ammonite.$sess.cmd50$Helper.lengthR(\u001b[32mcmd50.sc\u001b[39m:\u001b[32m5\u001b[39m)\n  ammonite.$sess.cmd50$Helper.lengthR(\u001b[32mcmd50.sc\u001b[39m:\u001b[32m5\u001b[39m)\n  ammonite.$sess.cmd50$Helper.lengthR(\u001b[32mcmd50.sc\u001b[39m:\u001b[32m5\u001b[39m)\n  ammonite.$sess.cmd50$Helper.lengthR(\u001b[32mcmd50.sc\u001b[39m:\u001b[32m5\u001b[39m)\n  ammonite.$sess.cmd50$Helper.lengthR(\u001b[32mcmd50.sc\u001b[39m:\u001b[32m5\u001b[39m)\n  ammonite.$sess.cmd50$Helper.lengthR(\u001b[32mcmd50.sc\u001b[39m:\u001b[32m5\u001b[39m)\n  ammonite.$sess.cmd50$Helper.lengthR(\u001b[32mcmd50.sc\u001b[39m:\u001b[32m5\u001b[39m)\n  ammonite.$sess.cmd50$Helper.lengthR(\u001b[32mcmd50.sc\u001b[39m:\u001b[32m5\u001b[39m)\n  ammonite.$sess.cmd50$Helper.lengthR(\u001b[32mcmd50.sc\u001b[39m:\u001b[32m5\u001b[39m)\n  ammonite.$sess.cmd50$Helper.lengthR(\u001b[32mcmd50.sc\u001b[39m:\u001b[32m5\u001b[39m)\n  ammonite.$sess.cmd50$Helper.lengthR(\u001b[32mcmd50.sc\u001b[39m:\u001b[32m5\u001b[39m)\n  ammonite.$sess.cmd50$Helper.lengthR(\u001b[32mcmd50.sc\u001b[39m:\u001b[32m5\u001b[39m)\n  ammonite.$sess.cmd50$Helper.lengthR(\u001b[32mcmd50.sc\u001b[39m:\u001b[32m5\u001b[39m)\n  ammonite.$sess.cmd50$Helper.lengthR(\u001b[32mcmd50.sc\u001b[39m:\u001b[32m5\u001b[39m)\n  ammonite.$sess.cmd50$Helper.lengthR(\u001b[32mcmd50.sc\u001b[39m:\u001b[32m5\u001b[39m)\n  ammonite.$sess.cmd50$Helper.lengthR(\u001b[32mcmd50.sc\u001b[39m:\u001b[32m5\u001b[39m)\n  ammonite.$sess.cmd50$Helper.lengthR(\u001b[32mcmd50.sc\u001b[39m:\u001b[32m5\u001b[39m)\n  ammonite.$sess.cmd50$Helper.lengthR(\u001b[32mcmd50.sc\u001b[39m:\u001b[32m5\u001b[39m)\n  ammonite.$sess.cmd50$Helper.lengthR(\u001b[32mcmd50.sc\u001b[39m:\u001b[32m5\u001b[39m)\n  ammonite.$sess.cmd50$Helper.lengthR(\u001b[32mcmd50.sc\u001b[39m:\u001b[32m5\u001b[39m)\n  ammonite.$sess.cmd50$Helper.lengthR(\u001b[32mcmd50.sc\u001b[39m:\u001b[32m5\u001b[39m)\n  ammonite.$sess.cmd50$Helper.lengthR(\u001b[32mcmd50.sc\u001b[39m:\u001b[32m5\u001b[39m)\n  ammonite.$sess.cmd50$Helper.lengthR(\u001b[32mcmd50.sc\u001b[39m:\u001b[32m5\u001b[39m)\n  ammonite.$sess.cmd50$Helper.lengthR(\u001b[32mcmd50.sc\u001b[39m:\u001b[32m5\u001b[39m)\n  ammonite.$sess.cmd50$Helper.lengthR(\u001b[32mcmd50.sc\u001b[39m:\u001b[32m5\u001b[39m)\n  ammonite.$sess.cmd50$Helper.lengthR(\u001b[32mcmd50.sc\u001b[39m:\u001b[32m5\u001b[39m)\n  ammonite.$sess.cmd50$Helper.lengthR(\u001b[32mcmd50.sc\u001b[39m:\u001b[32m5\u001b[39m)\n  ammonite.$sess.cmd50$Helper.lengthR(\u001b[32mcmd50.sc\u001b[39m:\u001b[32m5\u001b[39m)\n  ammonite.$sess.cmd50$Helper.lengthR(\u001b[32mcmd50.sc\u001b[39m:\u001b[32m5\u001b[39m)\n  ammonite.$sess.cmd50$Helper.lengthR(\u001b[32mcmd50.sc\u001b[39m:\u001b[32m5\u001b[39m)\n  ammonite.$sess.cmd50$Helper.lengthR(\u001b[32mcmd50.sc\u001b[39m:\u001b[32m5\u001b[39m)\n  ammonite.$sess.cmd50$Helper.lengthR(\u001b[32mcmd50.sc\u001b[39m:\u001b[32m5\u001b[39m)\n  ammonite.$sess.cmd50$Helper.lengthR(\u001b[32mcmd50.sc\u001b[39m:\u001b[32m5\u001b[39m)\n  ammonite.$sess.cmd50$Helper.lengthR(\u001b[32mcmd50.sc\u001b[39m:\u001b[32m5\u001b[39m)\n  ammonite.$sess.cmd50$Helper.lengthR(\u001b[32mcmd50.sc\u001b[39m:\u001b[32m5\u001b[39m)\n  ammonite.$sess.cmd50$Helper.lengthR(\u001b[32mcmd50.sc\u001b[39m:\u001b[32m5\u001b[39m)\n  ammonite.$sess.cmd50$Helper.lengthR(\u001b[32mcmd50.sc\u001b[39m:\u001b[32m5\u001b[39m)\n  ammonite.$sess.cmd50$Helper.lengthR(\u001b[32mcmd50.sc\u001b[39m:\u001b[32m5\u001b[39m)\n  ammonite.$sess.cmd50$Helper.lengthR(\u001b[32mcmd50.sc\u001b[39m:\u001b[32m5\u001b[39m)\n  ammonite.$sess.cmd50$Helper.lengthR(\u001b[32mcmd50.sc\u001b[39m:\u001b[32m5\u001b[39m)\n  ammonite.$sess.cmd50$Helper.lengthR(\u001b[32mcmd50.sc\u001b[39m:\u001b[32m5\u001b[39m)\n  ammonite.$sess.cmd50$Helper.lengthR(\u001b[32mcmd50.sc\u001b[39m:\u001b[32m5\u001b[39m)\n  ammonite.$sess.cmd50$Helper.lengthR(\u001b[32mcmd50.sc\u001b[39m:\u001b[32m5\u001b[39m)\n  ammonite.$sess.cmd50$Helper.lengthR(\u001b[32mcmd50.sc\u001b[39m:\u001b[32m5\u001b[39m)\n  ammonite.$sess.cmd50$Helper.lengthR(\u001b[32mcmd50.sc\u001b[39m:\u001b[32m5\u001b[39m)\n  ammonite.$sess.cmd50$Helper.lengthR(\u001b[32mcmd50.sc\u001b[39m:\u001b[32m5\u001b[39m)\n  ammonite.$sess.cmd50$Helper.lengthR(\u001b[32mcmd50.sc\u001b[39m:\u001b[32m5\u001b[39m)\n  ammonite.$sess.cmd50$Helper.lengthR(\u001b[32mcmd50.sc\u001b[39m:\u001b[32m5\u001b[39m)\n  ammonite.$sess.cmd50$Helper.lengthR(\u001b[32mcmd50.sc\u001b[39m:\u001b[32m5\u001b[39m)\n  ammonite.$sess.cmd50$Helper.lengthR(\u001b[32mcmd50.sc\u001b[39m:\u001b[32m5\u001b[39m)\n  ammonite.$sess.cmd50$Helper.lengthR(\u001b[32mcmd50.sc\u001b[39m:\u001b[32m5\u001b[39m)\n  ammonite.$sess.cmd50$Helper.lengthR(\u001b[32mcmd50.sc\u001b[39m:\u001b[32m5\u001b[39m)\n  ammonite.$sess.cmd50$Helper.lengthR(\u001b[32mcmd50.sc\u001b[39m:\u001b[32m5\u001b[39m)\n  ammonite.$sess.cmd50$Helper.lengthR(\u001b[32mcmd50.sc\u001b[39m:\u001b[32m5\u001b[39m)\n  ammonite.$sess.cmd50$Helper.lengthR(\u001b[32mcmd50.sc\u001b[39m:\u001b[32m5\u001b[39m)\n  ammonite.$sess.cmd50$Helper.lengthR(\u001b[32mcmd50.sc\u001b[39m:\u001b[32m5\u001b[39m)\n  ammonite.$sess.cmd50$Helper.lengthR(\u001b[32mcmd50.sc\u001b[39m:\u001b[32m5\u001b[39m)\n  ammonite.$sess.cmd50$Helper.lengthR(\u001b[32mcmd50.sc\u001b[39m:\u001b[32m5\u001b[39m)\n  ammonite.$sess.cmd50$Helper.lengthR(\u001b[32mcmd50.sc\u001b[39m:\u001b[32m5\u001b[39m)\n  ammonite.$sess.cmd50$Helper.lengthR(\u001b[32mcmd50.sc\u001b[39m:\u001b[32m5\u001b[39m)\n  ammonite.$sess.cmd50$Helper.lengthR(\u001b[32mcmd50.sc\u001b[39m:\u001b[32m5\u001b[39m)\n  ammonite.$sess.cmd50$Helper.lengthR(\u001b[32mcmd50.sc\u001b[39m:\u001b[32m5\u001b[39m)\n  ammonite.$sess.cmd50$Helper.lengthR(\u001b[32mcmd50.sc\u001b[39m:\u001b[32m5\u001b[39m)\n  ammonite.$sess.cmd50$Helper.lengthR(\u001b[32mcmd50.sc\u001b[39m:\u001b[32m5\u001b[39m)\n  ammonite.$sess.cmd50$Helper.lengthR(\u001b[32mcmd50.sc\u001b[39m:\u001b[32m5\u001b[39m)\n  ammonite.$sess.cmd50$Helper.lengthR(\u001b[32mcmd50.sc\u001b[39m:\u001b[32m5\u001b[39m)\n  ammonite.$sess.cmd50$Helper.lengthR(\u001b[32mcmd50.sc\u001b[39m:\u001b[32m5\u001b[39m)\n  ammonite.$sess.cmd50$Helper.lengthR(\u001b[32mcmd50.sc\u001b[39m:\u001b[32m5\u001b[39m)\n  ammonite.$sess.cmd50$Helper.lengthR(\u001b[32mcmd50.sc\u001b[39m:\u001b[32m5\u001b[39m)\n  ammonite.$sess.cmd50$Helper.lengthR(\u001b[32mcmd50.sc\u001b[39m:\u001b[32m5\u001b[39m)\n  ammonite.$sess.cmd50$Helper.lengthR(\u001b[32mcmd50.sc\u001b[39m:\u001b[32m5\u001b[39m)\n  ammonite.$sess.cmd50$Helper.lengthR(\u001b[32mcmd50.sc\u001b[39m:\u001b[32m5\u001b[39m)\n  ammonite.$sess.cmd50$Helper.lengthR(\u001b[32mcmd50.sc\u001b[39m:\u001b[32m5\u001b[39m)\n  ammonite.$sess.cmd50$Helper.lengthR(\u001b[32mcmd50.sc\u001b[39m:\u001b[32m5\u001b[39m)\n  ammonite.$sess.cmd50$Helper.lengthR(\u001b[32mcmd50.sc\u001b[39m:\u001b[32m5\u001b[39m)\n  ammonite.$sess.cmd50$Helper.lengthR(\u001b[32mcmd50.sc\u001b[39m:\u001b[32m5\u001b[39m)\n  ammonite.$sess.cmd50$Helper.lengthR(\u001b[32mcmd50.sc\u001b[39m:\u001b[32m5\u001b[39m)\n  ammonite.$sess.cmd50$Helper.lengthR(\u001b[32mcmd50.sc\u001b[39m:\u001b[32m5\u001b[39m)\n  ammonite.$sess.cmd50$Helper.lengthR(\u001b[32mcmd50.sc\u001b[39m:\u001b[32m5\u001b[39m)\n  ammonite.$sess.cmd50$Helper.lengthR(\u001b[32mcmd50.sc\u001b[39m:\u001b[32m5\u001b[39m)\n  ammonite.$sess.cmd50$Helper.lengthR(\u001b[32mcmd50.sc\u001b[39m:\u001b[32m5\u001b[39m)\n  ammonite.$sess.cmd50$Helper.lengthR(\u001b[32mcmd50.sc\u001b[39m:\u001b[32m5\u001b[39m)\n  ammonite.$sess.cmd50$Helper.lengthR(\u001b[32mcmd50.sc\u001b[39m:\u001b[32m5\u001b[39m)\n  ammonite.$sess.cmd50$Helper.lengthR(\u001b[32mcmd50.sc\u001b[39m:\u001b[32m5\u001b[39m)\n  ammonite.$sess.cmd50$Helper.lengthR(\u001b[32mcmd50.sc\u001b[39m:\u001b[32m5\u001b[39m)\n  ammonite.$sess.cmd50$Helper.lengthR(\u001b[32mcmd50.sc\u001b[39m:\u001b[32m5\u001b[39m)\n  ammonite.$sess.cmd50$Helper.lengthR(\u001b[32mcmd50.sc\u001b[39m:\u001b[32m5\u001b[39m)\n  ammonite.$sess.cmd50$Helper.lengthR(\u001b[32mcmd50.sc\u001b[39m:\u001b[32m5\u001b[39m)\n  ammonite.$sess.cmd50$Helper.lengthR(\u001b[32mcmd50.sc\u001b[39m:\u001b[32m5\u001b[39m)\n  ammonite.$sess.cmd50$Helper.lengthR(\u001b[32mcmd50.sc\u001b[39m:\u001b[32m5\u001b[39m)\n  ammonite.$sess.cmd50$Helper.lengthR(\u001b[32mcmd50.sc\u001b[39m:\u001b[32m5\u001b[39m)\n  ammonite.$sess.cmd50$Helper.lengthR(\u001b[32mcmd50.sc\u001b[39m:\u001b[32m5\u001b[39m)\n  ammonite.$sess.cmd50$Helper.lengthR(\u001b[32mcmd50.sc\u001b[39m:\u001b[32m5\u001b[39m)\n  ammonite.$sess.cmd50$Helper.lengthR(\u001b[32mcmd50.sc\u001b[39m:\u001b[32m5\u001b[39m)\n  ammonite.$sess.cmd50$Helper.lengthR(\u001b[32mcmd50.sc\u001b[39m:\u001b[32m5\u001b[39m)\n  ammonite.$sess.cmd50$Helper.lengthR(\u001b[32mcmd50.sc\u001b[39m:\u001b[32m5\u001b[39m)\n  ammonite.$sess.cmd50$Helper.lengthR(\u001b[32mcmd50.sc\u001b[39m:\u001b[32m5\u001b[39m)\n  ammonite.$sess.cmd50$Helper.lengthR(\u001b[32mcmd50.sc\u001b[39m:\u001b[32m5\u001b[39m)\n  ammonite.$sess.cmd50$Helper.lengthR(\u001b[32mcmd50.sc\u001b[39m:\u001b[32m5\u001b[39m)\n  ammonite.$sess.cmd50$Helper.lengthR(\u001b[32mcmd50.sc\u001b[39m:\u001b[32m5\u001b[39m)\n  ammonite.$sess.cmd50$Helper.lengthR(\u001b[32mcmd50.sc\u001b[39m:\u001b[32m5\u001b[39m)\n  ammonite.$sess.cmd50$Helper.lengthR(\u001b[32mcmd50.sc\u001b[39m:\u001b[32m5\u001b[39m)\n  ammonite.$sess.cmd50$Helper.lengthR(\u001b[32mcmd50.sc\u001b[39m:\u001b[32m5\u001b[39m)\n  ammonite.$sess.cmd50$Helper.lengthR(\u001b[32mcmd50.sc\u001b[39m:\u001b[32m5\u001b[39m)\n  ammonite.$sess.cmd50$Helper.lengthR(\u001b[32mcmd50.sc\u001b[39m:\u001b[32m5\u001b[39m)\n  ammonite.$sess.cmd50$Helper.lengthR(\u001b[32mcmd50.sc\u001b[39m:\u001b[32m5\u001b[39m)\n  ammonite.$sess.cmd50$Helper.lengthR(\u001b[32mcmd50.sc\u001b[39m:\u001b[32m5\u001b[39m)\n  ammonite.$sess.cmd50$Helper.lengthR(\u001b[32mcmd50.sc\u001b[39m:\u001b[32m5\u001b[39m)\n  ammonite.$sess.cmd50$Helper.lengthR(\u001b[32mcmd50.sc\u001b[39m:\u001b[32m5\u001b[39m)\n  ammonite.$sess.cmd50$Helper.lengthR(\u001b[32mcmd50.sc\u001b[39m:\u001b[32m5\u001b[39m)\n  ammonite.$sess.cmd50$Helper.lengthR(\u001b[32mcmd50.sc\u001b[39m:\u001b[32m5\u001b[39m)\n  ammonite.$sess.cmd50$Helper.lengthR(\u001b[32mcmd50.sc\u001b[39m:\u001b[32m5\u001b[39m)\n  ammonite.$sess.cmd50$Helper.lengthR(\u001b[32mcmd50.sc\u001b[39m:\u001b[32m5\u001b[39m)\n  ammonite.$sess.cmd50$Helper.lengthR(\u001b[32mcmd50.sc\u001b[39m:\u001b[32m5\u001b[39m)\n  ammonite.$sess.cmd50$Helper.lengthR(\u001b[32mcmd50.sc\u001b[39m:\u001b[32m5\u001b[39m)\n  ammonite.$sess.cmd50$Helper.lengthR(\u001b[32mcmd50.sc\u001b[39m:\u001b[32m5\u001b[39m)\n  ammonite.$sess.cmd50$Helper.lengthR(\u001b[32mcmd50.sc\u001b[39m:\u001b[32m5\u001b[39m)\n  ammonite.$sess.cmd50$Helper.lengthR(\u001b[32mcmd50.sc\u001b[39m:\u001b[32m5\u001b[39m)\n  ammonite.$sess.cmd50$Helper.lengthR(\u001b[32mcmd50.sc\u001b[39m:\u001b[32m5\u001b[39m)\n  ammonite.$sess.cmd50$Helper.lengthR(\u001b[32mcmd50.sc\u001b[39m:\u001b[32m5\u001b[39m)\n  ammonite.$sess.cmd50$Helper.lengthR(\u001b[32mcmd50.sc\u001b[39m:\u001b[32m5\u001b[39m)\n  ammonite.$sess.cmd50$Helper.lengthR(\u001b[32mcmd50.sc\u001b[39m:\u001b[32m5\u001b[39m)\n  ammonite.$sess.cmd50$Helper.lengthR(\u001b[32mcmd50.sc\u001b[39m:\u001b[32m5\u001b[39m)\n  ammonite.$sess.cmd50$Helper.lengthR(\u001b[32mcmd50.sc\u001b[39m:\u001b[32m5\u001b[39m)\n  ammonite.$sess.cmd50$Helper.lengthR(\u001b[32mcmd50.sc\u001b[39m:\u001b[32m5\u001b[39m)\n  ammonite.$sess.cmd50$Helper.lengthR(\u001b[32mcmd50.sc\u001b[39m:\u001b[32m5\u001b[39m)\n  ammonite.$sess.cmd50$Helper.lengthR(\u001b[32mcmd50.sc\u001b[39m:\u001b[32m5\u001b[39m)\n  ammonite.$sess.cmd50$Helper.lengthR(\u001b[32mcmd50.sc\u001b[39m:\u001b[32m5\u001b[39m)\n  ammonite.$sess.cmd50$Helper.lengthR(\u001b[32mcmd50.sc\u001b[39m:\u001b[32m5\u001b[39m)\n  ammonite.$sess.cmd50$Helper.lengthR(\u001b[32mcmd50.sc\u001b[39m:\u001b[32m5\u001b[39m)\n  ammonite.$sess.cmd50$Helper.lengthR(\u001b[32mcmd50.sc\u001b[39m:\u001b[32m5\u001b[39m)\n  ammonite.$sess.cmd50$Helper.lengthR(\u001b[32mcmd50.sc\u001b[39m:\u001b[32m5\u001b[39m)\n  ammonite.$sess.cmd50$Helper.lengthR(\u001b[32mcmd50.sc\u001b[39m:\u001b[32m5\u001b[39m)\n  ammonite.$sess.cmd50$Helper.lengthR(\u001b[32mcmd50.sc\u001b[39m:\u001b[32m5\u001b[39m)\n  ammonite.$sess.cmd50$Helper.lengthR(\u001b[32mcmd50.sc\u001b[39m:\u001b[32m5\u001b[39m)\n  ammonite.$sess.cmd50$Helper.lengthR(\u001b[32mcmd50.sc\u001b[39m:\u001b[32m5\u001b[39m)\n  ammonite.$sess.cmd50$Helper.lengthR(\u001b[32mcmd50.sc\u001b[39m:\u001b[32m5\u001b[39m)\n  ammonite.$sess.cmd50$Helper.lengthR(\u001b[32mcmd50.sc\u001b[39m:\u001b[32m5\u001b[39m)\n  ammonite.$sess.cmd50$Helper.lengthR(\u001b[32mcmd50.sc\u001b[39m:\u001b[32m5\u001b[39m)\n  ammonite.$sess.cmd50$Helper.lengthR(\u001b[32mcmd50.sc\u001b[39m:\u001b[32m5\u001b[39m)\n  ammonite.$sess.cmd50$Helper.lengthR(\u001b[32mcmd50.sc\u001b[39m:\u001b[32m5\u001b[39m)\n  ammonite.$sess.cmd50$Helper.lengthR(\u001b[32mcmd50.sc\u001b[39m:\u001b[32m5\u001b[39m)\n  ammonite.$sess.cmd50$Helper.lengthR(\u001b[32mcmd50.sc\u001b[39m:\u001b[32m5\u001b[39m)\n  ammonite.$sess.cmd50$Helper.lengthR(\u001b[32mcmd50.sc\u001b[39m:\u001b[32m5\u001b[39m)\n  ammonite.$sess.cmd50$Helper.lengthR(\u001b[32mcmd50.sc\u001b[39m:\u001b[32m5\u001b[39m)\n  ammonite.$sess.cmd50$Helper.lengthR(\u001b[32mcmd50.sc\u001b[39m:\u001b[32m5\u001b[39m)\n  ammonite.$sess.cmd50$Helper.lengthR(\u001b[32mcmd50.sc\u001b[39m:\u001b[32m5\u001b[39m)\n  ammonite.$sess.cmd50$Helper.lengthR(\u001b[32mcmd50.sc\u001b[39m:\u001b[32m5\u001b[39m)\n  ammonite.$sess.cmd50$Helper.lengthR(\u001b[32mcmd50.sc\u001b[39m:\u001b[32m5\u001b[39m)\n  ammonite.$sess.cmd50$Helper.lengthR(\u001b[32mcmd50.sc\u001b[39m:\u001b[32m5\u001b[39m)\n  ammonite.$sess.cmd50$Helper.lengthR(\u001b[32mcmd50.sc\u001b[39m:\u001b[32m5\u001b[39m)\n  ammonite.$sess.cmd50$Helper.lengthR(\u001b[32mcmd50.sc\u001b[39m:\u001b[32m5\u001b[39m)\n  ammonite.$sess.cmd50$Helper.lengthR(\u001b[32mcmd50.sc\u001b[39m:\u001b[32m5\u001b[39m)\n  ammonite.$sess.cmd50$Helper.lengthR(\u001b[32mcmd50.sc\u001b[39m:\u001b[32m5\u001b[39m)\n  ammonite.$sess.cmd50$Helper.lengthR(\u001b[32mcmd50.sc\u001b[39m:\u001b[32m5\u001b[39m)\n  ammonite.$sess.cmd50$Helper.lengthR(\u001b[32mcmd50.sc\u001b[39m:\u001b[32m5\u001b[39m)\n  ammonite.$sess.cmd50$Helper.lengthR(\u001b[32mcmd50.sc\u001b[39m:\u001b[32m5\u001b[39m)\n  ammonite.$sess.cmd50$Helper.lengthR(\u001b[32mcmd50.sc\u001b[39m:\u001b[32m5\u001b[39m)\n  ammonite.$sess.cmd50$Helper.lengthR(\u001b[32mcmd50.sc\u001b[39m:\u001b[32m5\u001b[39m)\n  ammonite.$sess.cmd50$Helper.lengthR(\u001b[32mcmd50.sc\u001b[39m:\u001b[32m5\u001b[39m)\n  ammonite.$sess.cmd50$Helper.lengthR(\u001b[32mcmd50.sc\u001b[39m:\u001b[32m5\u001b[39m)\n  ammonite.$sess.cmd50$Helper.lengthR(\u001b[32mcmd50.sc\u001b[39m:\u001b[32m5\u001b[39m)\n  ammonite.$sess.cmd50$Helper.lengthR(\u001b[32mcmd50.sc\u001b[39m:\u001b[32m5\u001b[39m)\n  ammonite.$sess.cmd50$Helper.lengthR(\u001b[32mcmd50.sc\u001b[39m:\u001b[32m5\u001b[39m)\n  ammonite.$sess.cmd50$Helper.lengthR(\u001b[32mcmd50.sc\u001b[39m:\u001b[32m5\u001b[39m)\n  ammonite.$sess.cmd50$Helper.lengthR(\u001b[32mcmd50.sc\u001b[39m:\u001b[32m5\u001b[39m)\n  ammonite.$sess.cmd50$Helper.lengthR(\u001b[32mcmd50.sc\u001b[39m:\u001b[32m5\u001b[39m)\n  ammonite.$sess.cmd50$Helper.lengthR(\u001b[32mcmd50.sc\u001b[39m:\u001b[32m5\u001b[39m)\n  ammonite.$sess.cmd50$Helper.lengthR(\u001b[32mcmd50.sc\u001b[39m:\u001b[32m5\u001b[39m)\n  ammonite.$sess.cmd50$Helper.lengthR(\u001b[32mcmd50.sc\u001b[39m:\u001b[32m5\u001b[39m)\n  ammonite.$sess.cmd50$Helper.lengthR(\u001b[32mcmd50.sc\u001b[39m:\u001b[32m5\u001b[39m)\n  ammonite.$sess.cmd50$Helper.lengthR(\u001b[32mcmd50.sc\u001b[39m:\u001b[32m5\u001b[39m)\n  ammonite.$sess.cmd50$Helper.lengthR(\u001b[32mcmd50.sc\u001b[39m:\u001b[32m5\u001b[39m)\n  ammonite.$sess.cmd50$Helper.lengthR(\u001b[32mcmd50.sc\u001b[39m:\u001b[32m5\u001b[39m)\n  ammonite.$sess.cmd50$Helper.lengthR(\u001b[32mcmd50.sc\u001b[39m:\u001b[32m5\u001b[39m)\n  ammonite.$sess.cmd50$Helper.lengthR(\u001b[32mcmd50.sc\u001b[39m:\u001b[32m5\u001b[39m)\n  ammonite.$sess.cmd50$Helper.lengthR(\u001b[32mcmd50.sc\u001b[39m:\u001b[32m5\u001b[39m)\n  ammonite.$sess.cmd50$Helper.lengthR(\u001b[32mcmd50.sc\u001b[39m:\u001b[32m5\u001b[39m)\n  ammonite.$sess.cmd50$Helper.lengthR(\u001b[32mcmd50.sc\u001b[39m:\u001b[32m5\u001b[39m)\n  ammonite.$sess.cmd50$Helper.lengthR(\u001b[32mcmd50.sc\u001b[39m:\u001b[32m5\u001b[39m)\n  ammonite.$sess.cmd50$Helper.lengthR(\u001b[32mcmd50.sc\u001b[39m:\u001b[32m5\u001b[39m)\n  ammonite.$sess.cmd50$Helper.lengthR(\u001b[32mcmd50.sc\u001b[39m:\u001b[32m5\u001b[39m)\n  ammonite.$sess.cmd50$Helper.lengthR(\u001b[32mcmd50.sc\u001b[39m:\u001b[32m5\u001b[39m)\n  ammonite.$sess.cmd50$Helper.lengthR(\u001b[32mcmd50.sc\u001b[39m:\u001b[32m5\u001b[39m)\n  ammonite.$sess.cmd50$Helper.lengthR(\u001b[32mcmd50.sc\u001b[39m:\u001b[32m5\u001b[39m)\n  ammonite.$sess.cmd50$Helper.lengthR(\u001b[32mcmd50.sc\u001b[39m:\u001b[32m5\u001b[39m)\n  ammonite.$sess.cmd50$Helper.lengthR(\u001b[32mcmd50.sc\u001b[39m:\u001b[32m5\u001b[39m)\n  ammonite.$sess.cmd50$Helper.lengthR(\u001b[32mcmd50.sc\u001b[39m:\u001b[32m5\u001b[39m)\n  ammonite.$sess.cmd50$Helper.lengthR(\u001b[32mcmd50.sc\u001b[39m:\u001b[32m5\u001b[39m)\n  ammonite.$sess.cmd50$Helper.lengthR(\u001b[32mcmd50.sc\u001b[39m:\u001b[32m5\u001b[39m)\n  ammonite.$sess.cmd50$Helper.lengthR(\u001b[32mcmd50.sc\u001b[39m:\u001b[32m5\u001b[39m)\n  ammonite.$sess.cmd50$Helper.lengthR(\u001b[32mcmd50.sc\u001b[39m:\u001b[32m5\u001b[39m)\n  ammonite.$sess.cmd50$Helper.lengthR(\u001b[32mcmd50.sc\u001b[39m:\u001b[32m5\u001b[39m)\n  ammonite.$sess.cmd50$Helper.lengthR(\u001b[32mcmd50.sc\u001b[39m:\u001b[32m5\u001b[39m)\n  ammonite.$sess.cmd50$Helper.lengthR(\u001b[32mcmd50.sc\u001b[39m:\u001b[32m5\u001b[39m)\n  ammonite.$sess.cmd50$Helper.lengthR(\u001b[32mcmd50.sc\u001b[39m:\u001b[32m5\u001b[39m)\n  ammonite.$sess.cmd50$Helper.lengthR(\u001b[32mcmd50.sc\u001b[39m:\u001b[32m5\u001b[39m)\n  ammonite.$sess.cmd50$Helper.lengthR(\u001b[32mcmd50.sc\u001b[39m:\u001b[32m5\u001b[39m)\n  ammonite.$sess.cmd50$Helper.lengthR(\u001b[32mcmd50.sc\u001b[39m:\u001b[32m5\u001b[39m)\n  ammonite.$sess.cmd50$Helper.lengthR(\u001b[32mcmd50.sc\u001b[39m:\u001b[32m5\u001b[39m)\n  ammonite.$sess.cmd50$Helper.lengthR(\u001b[32mcmd50.sc\u001b[39m:\u001b[32m5\u001b[39m)\n  ammonite.$sess.cmd50$Helper.lengthR(\u001b[32mcmd50.sc\u001b[39m:\u001b[32m5\u001b[39m)\n  ammonite.$sess.cmd50$Helper.lengthR(\u001b[32mcmd50.sc\u001b[39m:\u001b[32m5\u001b[39m)\n  ammonite.$sess.cmd50$Helper.lengthR(\u001b[32mcmd50.sc\u001b[39m:\u001b[32m5\u001b[39m)\n  ammonite.$sess.cmd50$Helper.lengthR(\u001b[32mcmd50.sc\u001b[39m:\u001b[32m5\u001b[39m)\n  ammonite.$sess.cmd50$Helper.lengthR(\u001b[32mcmd50.sc\u001b[39m:\u001b[32m5\u001b[39m)\n  ammonite.$sess.cmd50$Helper.lengthR(\u001b[32mcmd50.sc\u001b[39m:\u001b[32m5\u001b[39m)\n  ammonite.$sess.cmd50$Helper.lengthR(\u001b[32mcmd50.sc\u001b[39m:\u001b[32m5\u001b[39m)\n  ammonite.$sess.cmd50$Helper.lengthR(\u001b[32mcmd50.sc\u001b[39m:\u001b[32m5\u001b[39m)\n  ammonite.$sess.cmd50$Helper.lengthR(\u001b[32mcmd50.sc\u001b[39m:\u001b[32m5\u001b[39m)\n  ammonite.$sess.cmd50$Helper.lengthR(\u001b[32mcmd50.sc\u001b[39m:\u001b[32m5\u001b[39m)\n  ammonite.$sess.cmd50$Helper.lengthR(\u001b[32mcmd50.sc\u001b[39m:\u001b[32m5\u001b[39m)\n  ammonite.$sess.cmd50$Helper.lengthR(\u001b[32mcmd50.sc\u001b[39m:\u001b[32m5\u001b[39m)\n  ammonite.$sess.cmd50$Helper.lengthR(\u001b[32mcmd50.sc\u001b[39m:\u001b[32m5\u001b[39m)\n  ammonite.$sess.cmd50$Helper.lengthR(\u001b[32mcmd50.sc\u001b[39m:\u001b[32m5\u001b[39m)\n  ammonite.$sess.cmd50$Helper.lengthR(\u001b[32mcmd50.sc\u001b[39m:\u001b[32m5\u001b[39m)\n  ammonite.$sess.cmd50$Helper.lengthR(\u001b[32mcmd50.sc\u001b[39m:\u001b[32m5\u001b[39m)"
     ]
    }
   ],
   "source": [
    "// Plain recursive\n",
    "lengthR(List.fill(10000)(0))"
   ]
  },
  {
   "cell_type": "markdown",
   "metadata": {},
   "source": [
    "### Unit testing with `scalatest`"
   ]
  },
  {
   "cell_type": "code",
   "execution_count": 2,
   "metadata": {},
   "outputs": [
    {
     "data": {
      "text/plain": [
       "\u001b[32mimport \u001b[39m\u001b[36m$ivy.$                               \n",
       "\u001b[39m\n",
       "\u001b[32mimport \u001b[39m\u001b[36morg.scalatest._\u001b[39m"
      ]
     },
     "execution_count": 2,
     "metadata": {},
     "output_type": "execute_result"
    }
   ],
   "source": [
    "import $ivy.`org.scalatest::scalatest:3.0.8`\n",
    "import org.scalatest._"
   ]
  },
  {
   "cell_type": "markdown",
   "metadata": {},
   "source": [
    "From now on, we will also make extensive use of unit testing for the different functions that we implement. And we will use the [`scalatest`](http://www.scalatest.org/) library for that purpose. In particular, for each function we will implement a test catalogue that test it against different test cases. For instance, this is a possible test class for the `length` function:"
   ]
  },
  {
   "cell_type": "code",
   "execution_count": 57,
   "metadata": {},
   "outputs": [
    {
     "data": {
      "text/plain": [
       "defined \u001b[32mclass\u001b[39m \u001b[36mTestLength\u001b[39m"
      ]
     },
     "execution_count": 57,
     "metadata": {},
     "output_type": "execute_result"
    }
   ],
   "source": [
    "class TestLength(lengthF: List[Int] => Int)\n",
    "    extends FlatSpec with Matchers{\n",
    "\n",
    "    \"length\" should \"work\" in {\n",
    "        lengthF(List()) shouldBe 0\n",
    "        lengthF(List(1)) shouldBe 1\n",
    "        lengthF(List(1,2,3,4)) shouldBe 4\n",
    "    }\n",
    "}\n"
   ]
  },
  {
   "cell_type": "markdown",
   "metadata": {},
   "source": [
    "The method `shouldBe` is a _matcher_. The scalatest library offers an extensive catalogue of [them](http://www.scalatest.org/user_guide/using_matchers). Similarly, scalatest also support many different [testing styles](http://www.scalatest.org/user_guide/selecting_a_style). The chosen one here was `FlatSpec`. In order to execute the test catalogue we can simply use the scalatest method `run`:"
   ]
  },
  {
   "cell_type": "code",
   "execution_count": 58,
   "metadata": {},
   "outputs": [
    {
     "data": {
      "text/plain": [
       "\u001b[36mtestingCatalogue\u001b[39m: \u001b[32mTestLength\u001b[39m = cmd56$Helper$TestLength"
      ]
     },
     "execution_count": 58,
     "metadata": {},
     "output_type": "execute_result"
    }
   ],
   "source": [
    "val testingCatalogue: TestLength = \n",
    "    new TestLength(lengthI)\n",
    "\n"
   ]
  },
  {
   "cell_type": "code",
   "execution_count": 60,
   "metadata": {},
   "outputs": [
    {
     "name": "stdout",
     "output_type": "stream",
     "text": [
      "\u001b[32mcmd56$Helper$TestLength:\u001b[0m\n",
      "\u001b[32mlength\u001b[0m\n",
      "\u001b[32m- should work\u001b[0m\n",
      "\u001b[32mcmd56$Helper$TestLength:\u001b[0m\n",
      "\u001b[32mlength\u001b[0m\n",
      "\u001b[32m- should work\u001b[0m\n",
      "\u001b[32mcmd56$Helper$TestLength:\u001b[0m\n",
      "\u001b[32mlength\u001b[0m\n",
      "\u001b[32m- should work\u001b[0m\n"
     ]
    }
   ],
   "source": [
    "run(testingCatalogue)\n",
    "run(new TestLength(lengthTR))\n",
    "run(new TestLength(lengthR))"
   ]
  },
  {
   "cell_type": "markdown",
   "metadata": {},
   "source": [
    "### Example: adding numbers"
   ]
  },
  {
   "cell_type": "markdown",
   "metadata": {},
   "source": [
    "Let's implement a function that sums all the numbers of a list."
   ]
  },
  {
   "cell_type": "code",
   "execution_count": 65,
   "metadata": {},
   "outputs": [
    {
     "data": {
      "text/plain": [
       "defined \u001b[32mclass\u001b[39m \u001b[36mTestSum\u001b[39m"
      ]
     },
     "execution_count": 65,
     "metadata": {},
     "output_type": "execute_result"
    }
   ],
   "source": [
    "class TestSum(sum: List[Int] => Int) \n",
    "    extends FlatSpec with Matchers{\n",
    "    \"sum\" should \"work\" in {\n",
    "        \n",
    "        sum(Nil) shouldBe 0\n",
    "        sum(List(5)) shouldBe 5\n",
    "        sum(List(1,2,3)) shouldBe 6\n",
    "    }\n",
    "}"
   ]
  },
  {
   "cell_type": "code",
   "execution_count": 68,
   "metadata": {},
   "outputs": [
    {
     "data": {
      "text/plain": [
       "defined \u001b[32mfunction\u001b[39m \u001b[36msum\u001b[39m"
      ]
     },
     "execution_count": 68,
     "metadata": {},
     "output_type": "execute_result"
    }
   ],
   "source": [
    "// Recursively\n",
    "\n",
    "def sum(list: List[Int]): Int = \n",
    "    list match {\n",
    "        case Nil => 0 : Int\n",
    "        //case head :: Nil => head\n",
    "        case head :: tail => \n",
    "            head + sum(tail) : Int\n",
    "    }"
   ]
  },
  {
   "cell_type": "code",
   "execution_count": 69,
   "metadata": {},
   "outputs": [
    {
     "name": "stdout",
     "output_type": "stream",
     "text": [
      "\u001b[32mcmd64$Helper$TestSum:\u001b[0m\n",
      "\u001b[32msum\u001b[0m\n",
      "\u001b[32m- should work\u001b[0m\n"
     ]
    }
   ],
   "source": [
    "run(new TestSum(sum))"
   ]
  },
  {
   "cell_type": "code",
   "execution_count": 69,
   "metadata": {},
   "outputs": [],
   "source": [
    "// With tail-recursion\n",
    "\n"
   ]
  },
  {
   "cell_type": "code",
   "execution_count": null,
   "metadata": {},
   "outputs": [],
   "source": []
  },
  {
   "cell_type": "markdown",
   "metadata": {},
   "source": [
    "### Example: multiplying list elements"
   ]
  },
  {
   "cell_type": "markdown",
   "metadata": {},
   "source": [
    "Let's multiply the elements of a list. If the list is empty we return the identity element for integers."
   ]
  },
  {
   "cell_type": "code",
   "execution_count": null,
   "metadata": {},
   "outputs": [],
   "source": [
    "object TestProduct extends FlatSpec with Matchers{\n",
    "    \"product\" should \"work\" in {\n",
    "    }\n",
    "}"
   ]
  },
  {
   "cell_type": "markdown",
   "metadata": {},
   "source": [
    "This is the common recursive implementation:"
   ]
  },
  {
   "cell_type": "code",
   "execution_count": null,
   "metadata": {},
   "outputs": [],
   "source": []
  },
  {
   "cell_type": "markdown",
   "metadata": {},
   "source": [
    "It works as expected: "
   ]
  },
  {
   "cell_type": "code",
   "execution_count": null,
   "metadata": {},
   "outputs": [],
   "source": [
    "run(TestProduct)"
   ]
  },
  {
   "cell_type": "markdown",
   "metadata": {},
   "source": [
    "But we can optimize the function a little bit. Note that if the number 0 belongs to the list, then the result is 0, no matter how many elements the list has. So, once we find the element 0 it's a waste of resources to make the recursive call. Let's take this into account."
   ]
  },
  {
   "cell_type": "code",
   "execution_count": null,
   "metadata": {},
   "outputs": [],
   "source": [
    "/*def product(list: List[Int]): Int =\n",
    "    list match {\n",
    "        case Nil => 1\n",
    "        case head :: tail => head * product(tail)\n",
    "    }\n",
    "    */"
   ]
  },
  {
   "cell_type": "code",
   "execution_count": null,
   "metadata": {},
   "outputs": [],
   "source": [
    "run(TestProduct)"
   ]
  },
  {
   "cell_type": "markdown",
   "metadata": {},
   "source": [
    "A similar optimization can be made for the tail-recursive implementation."
   ]
  },
  {
   "cell_type": "markdown",
   "metadata": {},
   "source": [
    "### Example: membership"
   ]
  },
  {
   "cell_type": "markdown",
   "metadata": {},
   "source": [
    "Let's implement a function that given a list and an element, returns whether the element belongs to that list."
   ]
  },
  {
   "cell_type": "code",
   "execution_count": null,
   "metadata": {},
   "outputs": [],
   "source": [
    "object TestMember extends FlatSpec with Matchers{\n",
    "    \"member\" should \"work\" in {\n",
    "    }\n",
    "}"
   ]
  },
  {
   "cell_type": "code",
   "execution_count": null,
   "metadata": {},
   "outputs": [],
   "source": []
  },
  {
   "cell_type": "code",
   "execution_count": null,
   "metadata": {},
   "outputs": [],
   "source": [
    "run(TestMember)"
   ]
  },
  {
   "cell_type": "markdown",
   "metadata": {},
   "source": [
    "We can also pattern match against a specific value as follows:"
   ]
  },
  {
   "cell_type": "code",
   "execution_count": null,
   "metadata": {},
   "outputs": [],
   "source": []
  },
  {
   "cell_type": "markdown",
   "metadata": {},
   "source": [
    "### Example: last element"
   ]
  },
  {
   "cell_type": "markdown",
   "metadata": {},
   "source": [
    "Let's implement a function that returns the last element of a given list. Note that an empty list does not have elements, and, hence, does not have a last element."
   ]
  },
  {
   "cell_type": "code",
   "execution_count": 4,
   "metadata": {},
   "outputs": [
    {
     "data": {
      "text/plain": [
       "defined \u001b[32mclass\u001b[39m \u001b[36mTestLast\u001b[39m"
      ]
     },
     "execution_count": 4,
     "metadata": {},
     "output_type": "execute_result"
    }
   ],
   "source": [
    "class TestLast(last: List[Int] => Option[Int]) \n",
    "extends FlatSpec with Matchers{\n",
    "    \"last\" should \"work\" in {\n",
    "        last(List(1,2,3)) shouldBe Some(3)\n",
    "        last(List(1)) shouldBe Some(1)\n",
    "        last(List()) shouldBe None\n",
    "    }\n",
    "}"
   ]
  },
  {
   "cell_type": "code",
   "execution_count": 8,
   "metadata": {},
   "outputs": [
    {
     "data": {
      "text/plain": [
       "defined \u001b[32mfunction\u001b[39m \u001b[36mlast\u001b[39m"
      ]
     },
     "execution_count": 8,
     "metadata": {},
     "output_type": "execute_result"
    }
   ],
   "source": [
    "def last[A](list: List[A]): Option[A] = \n",
    "    list match {\n",
    "        case Nil => \n",
    "            None : Option[A]\n",
    "        case head :: tail => \n",
    "            tail match {\n",
    "                case Nil => \n",
    "                    Some(head) : Option[A]\n",
    "                case head2 :: tail2 => \n",
    "                    last(tail) : Option[A]\n",
    "            } \n",
    "    }"
   ]
  },
  {
   "cell_type": "code",
   "execution_count": 8,
   "metadata": {},
   "outputs": [
    {
     "data": {
      "text/plain": [
       "defined \u001b[32mfunction\u001b[39m \u001b[36mlast\u001b[39m"
      ]
     },
     "execution_count": 8,
     "metadata": {},
     "output_type": "execute_result"
    }
   ],
   "source": [
    "def last[A](list: List[A]): Option[A] = \n",
    "    list match {\n",
    "        case Nil => \n",
    "            None : Option[A]\n",
    "        case head :: tail => \n",
    "            tail match {\n",
    "                case Nil => \n",
    "                    Some(head) : Option[A]\n",
    "                case _ :: _ => \n",
    "                    last(tail) : Option[A]\n",
    "            } \n",
    "    }"
   ]
  },
  {
   "cell_type": "code",
   "execution_count": 9,
   "metadata": {},
   "outputs": [
    {
     "data": {
      "text/plain": [
       "defined \u001b[32mfunction\u001b[39m \u001b[36mlast\u001b[39m"
      ]
     },
     "execution_count": 9,
     "metadata": {},
     "output_type": "execute_result"
    }
   ],
   "source": [
    "def last[A](list: List[A]): Option[A] = \n",
    "    list match {\n",
    "        case Nil => \n",
    "            None : Option[A]\n",
    "        case head :: tail => \n",
    "            if (tail.isEmpty) Some(head)\n",
    "            else last(tail)\n",
    "    }"
   ]
  },
  {
   "cell_type": "code",
   "execution_count": 9,
   "metadata": {},
   "outputs": [
    {
     "data": {
      "text/plain": [
       "defined \u001b[32mfunction\u001b[39m \u001b[36mlast\u001b[39m"
      ]
     },
     "execution_count": 9,
     "metadata": {},
     "output_type": "execute_result"
    }
   ],
   "source": [
    "def last[A](list: List[A]): Option[A] = \n",
    "    list match {\n",
    "        case Nil => \n",
    "            None : Option[A]\n",
    "        case head :: Nil => \n",
    "            Some(head) : Option[A]\n",
    "        case head :: head2 :: tail2 => \n",
    "            //last(tail) : Option[A]\n",
    "            last(head2 :: tail2) : Option[A]\n",
    "    }"
   ]
  },
  {
   "cell_type": "code",
   "execution_count": 9,
   "metadata": {},
   "outputs": [
    {
     "data": {
      "text/plain": [
       "defined \u001b[32mfunction\u001b[39m \u001b[36mlast\u001b[39m"
      ]
     },
     "execution_count": 9,
     "metadata": {},
     "output_type": "execute_result"
    }
   ],
   "source": [
    "def last[A](list: List[A]): Option[A] = \n",
    "    list match {\n",
    "        case Nil => \n",
    "            None : Option[A]\n",
    "        case head :: Nil => \n",
    "            Some(head) : Option[A]\n",
    "        case ::(head, tail) => \n",
    "            last(tail) : Option[A]            \n",
    "    }"
   ]
  },
  {
   "cell_type": "code",
   "execution_count": 13,
   "metadata": {},
   "outputs": [
    {
     "data": {
      "text/plain": [
       "defined \u001b[32mfunction\u001b[39m \u001b[36mlast\u001b[39m"
      ]
     },
     "execution_count": 13,
     "metadata": {},
     "output_type": "execute_result"
    }
   ],
   "source": [
    "def last[A]: List[A] => Option[A] = \n",
    "    (list : List[A]) => \n",
    "        list match {\n",
    "            case Nil => \n",
    "                None : Option[A]\n",
    "            case head :: Nil => \n",
    "                Some(head) : Option[A]\n",
    "            case ::(head, tail) => \n",
    "                last(tail) : Option[A]            \n",
    "        }"
   ]
  },
  {
   "cell_type": "code",
   "execution_count": 15,
   "metadata": {},
   "outputs": [
    {
     "data": {
      "text/plain": [
       "defined \u001b[32mfunction\u001b[39m \u001b[36mlast\u001b[39m"
      ]
     },
     "execution_count": 15,
     "metadata": {},
     "output_type": "execute_result"
    }
   ],
   "source": [
    "def last[A]: List[A] => Option[A] = \n",
    "    {\n",
    "        case Nil => \n",
    "            None\n",
    "        case head :: Nil => \n",
    "            Some(head)\n",
    "        case _ :: tail => \n",
    "            last(tail)          \n",
    "    }"
   ]
  },
  {
   "cell_type": "code",
   "execution_count": 16,
   "metadata": {},
   "outputs": [
    {
     "data": {
      "text/plain": [
       "defined \u001b[32mfunction\u001b[39m \u001b[36mlast\u001b[39m"
      ]
     },
     "execution_count": 16,
     "metadata": {},
     "output_type": "execute_result"
    }
   ],
   "source": [
    "def last[A](list: List[A]): Option[A] = \n",
    "    list match {\n",
    "        case Nil => \n",
    "            None\n",
    "        case head :: Nil => \n",
    "            Some(head)\n",
    "        case _ :: tail => \n",
    "            last(tail)          \n",
    "    }"
   ]
  },
  {
   "cell_type": "code",
   "execution_count": 14,
   "metadata": {},
   "outputs": [
    {
     "data": {
      "text/plain": [
       "defined \u001b[32mfunction\u001b[39m \u001b[36mlast\u001b[39m"
      ]
     },
     "execution_count": 14,
     "metadata": {},
     "output_type": "execute_result"
    }
   ],
   "source": [
    "def last[A]: List[A] => Option[A] = \n",
    "    _ match {\n",
    "        case Nil => \n",
    "            None : Option[A]\n",
    "        case head :: Nil => \n",
    "            Some(head) : Option[A]\n",
    "        case ::(head, tail) => \n",
    "            last(tail) : Option[A]            \n",
    "    }"
   ]
  },
  {
   "cell_type": "code",
   "execution_count": null,
   "metadata": {},
   "outputs": [],
   "source": [
    "object Std{\n",
    "    sealed abstract class List[A]\n",
    "    case object Nil extends List[Nothing]\n",
    "    case class ::[A](head: A, tail: List[A]) extends List[A]\n",
    "}"
   ]
  },
  {
   "cell_type": "code",
   "execution_count": 12,
   "metadata": {},
   "outputs": [
    {
     "name": "stdout",
     "output_type": "stream",
     "text": [
      "\u001b[32mcmd3$Helper$TestLast:\u001b[0m\n",
      "\u001b[32mlast\u001b[0m\n",
      "\u001b[32m- should work\u001b[0m\n"
     ]
    }
   ],
   "source": [
    "run(new TestLast(last))"
   ]
  },
  {
   "cell_type": "markdown",
   "metadata": {},
   "source": [
    "### Example: insert last"
   ]
  },
  {
   "cell_type": "markdown",
   "metadata": {},
   "source": [
    "Now, a function that allows us to insert an element at the end of the list. "
   ]
  },
  {
   "cell_type": "code",
   "execution_count": 22,
   "metadata": {},
   "outputs": [
    {
     "data": {
      "text/plain": [
       "defined \u001b[32mclass\u001b[39m \u001b[36mTestInsertLast\u001b[39m"
      ]
     },
     "execution_count": 22,
     "metadata": {},
     "output_type": "execute_result"
    }
   ],
   "source": [
    "class TestInsertLast(\n",
    "    insertLast: (List[Int], Int) => List[Int]) \n",
    "extends FlatSpec with Matchers{\n",
    "    \"insertLast\" should \"work\" in {\n",
    "        insertLast(List[Int](), 1) shouldBe \n",
    "            (List(1) : List[Int])\n",
    "        insertLast(List(1), 2) shouldBe \n",
    "            (List(1,2) : List[Int])\n",
    "        insertLast(List(1,2,3,4), 5) shouldBe \n",
    "            List(1,2,3,4) :+ 5\n",
    "    }\n",
    "}"
   ]
  },
  {
   "cell_type": "code",
   "execution_count": 21,
   "metadata": {},
   "outputs": [
    {
     "data": {
      "text/plain": [
       "\u001b[36mres20\u001b[39m: \u001b[32mList\u001b[39m[\u001b[32mInt\u001b[39m] = \u001b[33mList\u001b[39m(\u001b[32m1\u001b[39m, \u001b[32m2\u001b[39m, \u001b[32m3\u001b[39m, \u001b[32m4\u001b[39m)"
      ]
     },
     "execution_count": 21,
     "metadata": {},
     "output_type": "execute_result"
    }
   ],
   "source": [
    "List(1,2,3) :+ 4"
   ]
  },
  {
   "cell_type": "code",
   "execution_count": 25,
   "metadata": {},
   "outputs": [
    {
     "data": {
      "text/plain": [
       "defined \u001b[32mfunction\u001b[39m \u001b[36minsertLast\u001b[39m"
      ]
     },
     "execution_count": 25,
     "metadata": {},
     "output_type": "execute_result"
    }
   ],
   "source": [
    "def insertLast[A](list: List[A], a: A): List[A] = \n",
    "    list match {\n",
    "        case Nil => \n",
    "            List(a) : List[A]\n",
    "        case head :: tail => \n",
    "            head :: insertLast(tail, a) : List[A]\n",
    "    }"
   ]
  },
  {
   "cell_type": "code",
   "execution_count": 26,
   "metadata": {},
   "outputs": [
    {
     "name": "stdout",
     "output_type": "stream",
     "text": [
      "\u001b[32mcmd21$Helper$TestInsertLast:\u001b[0m\n",
      "\u001b[32minsertLast\u001b[0m\n",
      "\u001b[31m- should work *** FAILED ***\u001b[0m\n",
      "\u001b[31m  List() was not equal to List(1) (cmd21.sc:5)\u001b[0m\n"
     ]
    }
   ],
   "source": [
    "run(new TestInsertLast(insertLast))"
   ]
  },
  {
   "cell_type": "markdown",
   "metadata": {},
   "source": [
    "### Example: reverse lists"
   ]
  },
  {
   "cell_type": "markdown",
   "metadata": {},
   "source": [
    "Implement a function which receives a list and returns its reverse."
   ]
  },
  {
   "cell_type": "code",
   "execution_count": 28,
   "metadata": {},
   "outputs": [
    {
     "data": {
      "text/plain": [
       "defined \u001b[32mclass\u001b[39m \u001b[36mTestReverse\u001b[39m"
      ]
     },
     "execution_count": 28,
     "metadata": {},
     "output_type": "execute_result"
    }
   ],
   "source": [
    "class TestReverse(\n",
    "    reverse: List[Int] => List[Int]\n",
    ") extends FlatSpec with Matchers{\n",
    "    \"reverse\" should \"work\" in {\n",
    "        reverse(List()) shouldBe List()\n",
    "        reverse(List(1,2,3)) shouldBe List(3,2,1)\n",
    "        reverse(1 :: List(2,3)) shouldBe \n",
    "            List(3,2) :+ 1\n",
    "        reverse(List(1)) shouldBe List(1)\n",
    "        reverse(List(1,2,3,2,1)) shouldBe List(1,2,3,2,1)\n",
    "        reverse(1::List(2,3,2,1)) shouldBe \n",
    "            List(1,2,3,2) :+ 1\n",
    "    }\n",
    "}"
   ]
  },
  {
   "cell_type": "code",
   "execution_count": 29,
   "metadata": {},
   "outputs": [
    {
     "data": {
      "text/plain": [
       "defined \u001b[32mfunction\u001b[39m \u001b[36mreverseR\u001b[39m"
      ]
     },
     "execution_count": 29,
     "metadata": {},
     "output_type": "execute_result"
    }
   ],
   "source": [
    "// Recursively: Really inefficient \n",
    "def reverseR[A](list: List[A]): List[A] = \n",
    "    list match {\n",
    "        case Nil => \n",
    "            Nil : List[A]\n",
    "        case head :: tail => \n",
    "            val reverseTail: List[A] = reverseR(tail)\n",
    "            reverseTail :+ head : List[A]\n",
    "    }"
   ]
  },
  {
   "cell_type": "code",
   "execution_count": 33,
   "metadata": {},
   "outputs": [
    {
     "data": {
      "text/plain": [
       "defined \u001b[32mfunction\u001b[39m \u001b[36mreverseR\u001b[39m"
      ]
     },
     "execution_count": 33,
     "metadata": {},
     "output_type": "execute_result"
    }
   ],
   "source": [
    "// Recursively: Really inefficient \n",
    "def reverseR[A](list: List[A]): List[A] = \n",
    "    list match {\n",
    "        case Nil => \n",
    "            Nil\n",
    "        case head :: tail => \n",
    "            reverseR(tail) :+ head\n",
    "    }"
   ]
  },
  {
   "cell_type": "code",
   "execution_count": 30,
   "metadata": {},
   "outputs": [
    {
     "name": "stdout",
     "output_type": "stream",
     "text": [
      "\u001b[32mcmd27$Helper$TestReverse:\u001b[0m\n",
      "\u001b[32mreverse\u001b[0m\n",
      "\u001b[32m- should work\u001b[0m\n"
     ]
    }
   ],
   "source": [
    "run(new TestReverse(reverseR))"
   ]
  },
  {
   "cell_type": "code",
   "execution_count": 35,
   "metadata": {},
   "outputs": [
    {
     "data": {
      "text/plain": [
       "defined \u001b[32mfunction\u001b[39m \u001b[36mreverseI\u001b[39m"
      ]
     },
     "execution_count": 35,
     "metadata": {},
     "output_type": "execute_result"
    }
   ],
   "source": [
    "// out = Nil\n",
    "// aux = 1 :: 2 :: 3 :: Nil\n",
    "// 1 it.\n",
    "// out = 1 :: Nil\n",
    "// aux = 2 :: 3 :: Nil\n",
    "// 2 it. \n",
    "// out = 2 :: (1 :: Nil)\n",
    "// aux = 3 :: Nil\n",
    "// 3 it. \n",
    "// out = 3 :: 2 :: 1 :: Nil\n",
    "// aux = Nil\n",
    "\n",
    "// Tail-recursive, efficiently\n",
    "def reverseI[A](list: List[A]): List[A] = {\n",
    "    var out: List[A] = List()\n",
    "    var aux: List[A] = list\n",
    "    while (aux != Nil) {\n",
    "        out = aux.head :: out\n",
    "        aux = aux.tail\n",
    "    }\n",
    "    out\n",
    "}"
   ]
  },
  {
   "cell_type": "code",
   "execution_count": 37,
   "metadata": {},
   "outputs": [
    {
     "data": {
      "text/plain": [
       "defined \u001b[32mfunction\u001b[39m \u001b[36mreverseI\u001b[39m"
      ]
     },
     "execution_count": 37,
     "metadata": {},
     "output_type": "execute_result"
    }
   ],
   "source": [
    "// out = Nil\n",
    "// aux = 1 :: 2 :: 3 :: Nil\n",
    "// 1 it.\n",
    "// out = 1 :: Nil\n",
    "// aux = 2 :: 3 :: Nil\n",
    "// 2 it. \n",
    "// out = 2 :: (1 :: Nil)\n",
    "// aux = 3 :: Nil\n",
    "// 3 it. \n",
    "// out = 3 :: 2 :: 1 :: Nil\n",
    "// aux = Nil\n",
    "\n",
    "// Tail-recursive, efficiently\n",
    "def reverseT[A](list: List[A]): List[A] = {\n",
    "    \n",
    "    def revAux(out: List[A], aux: List[A]): List[A] = \n",
    "        aux match {\n",
    "            case Nil => out\n",
    "            case head :: tail => \n",
    "                revAux(head :: out, tail)\n",
    "        }\n",
    "    /*\n",
    "    var out: List[A] = List()\n",
    "    var aux: List[A] = list\n",
    "    while (aux != Nil) {\n",
    "        out = aux.head :: out\n",
    "        aux = aux.tail\n",
    "    }\n",
    "    out*/\n",
    "    revAux(List(), list)\n",
    "}"
   ]
  },
  {
   "cell_type": "code",
   "execution_count": 38,
   "metadata": {},
   "outputs": [
    {
     "name": "stdout",
     "output_type": "stream",
     "text": [
      "\u001b[32mcmd27$Helper$TestReverse:\u001b[0m\n",
      "\u001b[32mreverse\u001b[0m\n",
      "\u001b[32m- should work\u001b[0m\n"
     ]
    }
   ],
   "source": [
    "run(new TestReverse(reverseT))"
   ]
  },
  {
   "cell_type": "markdown",
   "metadata": {},
   "source": [
    "### Example: concatenate lists"
   ]
  },
  {
   "cell_type": "markdown",
   "metadata": {},
   "source": [
    "Let's implement this function step-by-step, following the types. We start from the signature of the desired function:"
   ]
  },
  {
   "cell_type": "code",
   "execution_count": null,
   "metadata": {},
   "outputs": [],
   "source": [
    "object TestConcatenate extends FlatSpec with Matchers{\n",
    "    \"concatenate\" should \"work\" in {\n",
    "    }\n",
    "}"
   ]
  },
  {
   "cell_type": "code",
   "execution_count": null,
   "metadata": {},
   "outputs": [],
   "source": [
    "// Recursive"
   ]
  },
  {
   "cell_type": "code",
   "execution_count": null,
   "metadata": {},
   "outputs": [],
   "source": [
    "run(TestConcatenate)"
   ]
  },
  {
   "cell_type": "code",
   "execution_count": null,
   "metadata": {},
   "outputs": [],
   "source": [
    "// Tail-recursive"
   ]
  },
  {
   "cell_type": "code",
   "execution_count": null,
   "metadata": {},
   "outputs": [],
   "source": [
    "run(TestConcatenate)"
   ]
  }
 ],
 "metadata": {
  "kernelspec": {
   "display_name": "Scala",
   "language": "scala",
   "name": "scala"
  },
  "language_info": {
   "codemirror_mode": "text/x-scala",
   "file_extension": ".scala",
   "mimetype": "text/x-scala",
   "name": "scala",
   "nbconvert_exporter": "script",
   "version": "2.12.11"
  }
 },
 "nbformat": 4,
 "nbformat_minor": 2
}
