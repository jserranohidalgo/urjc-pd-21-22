{
 "cells": [
  {
   "cell_type": "markdown",
   "metadata": {},
   "source": [
    "# Higher-order functions"
   ]
  },
  {
   "cell_type": "markdown",
   "metadata": {},
   "source": [
    "In this notebook, we will see that higher-order functions (HOFs) are essential modularity devices, and we will introduce the most common higher-order functions that operate over many different data structures."
   ]
  },
  {
   "cell_type": "code",
   "execution_count": 1,
   "metadata": {},
   "outputs": [
    {
     "data": {
      "text/plain": [
       "\u001b[32mimport \u001b[39m\u001b[36m$ivy.$                               \n",
       "\u001b[39m\n",
       "\u001b[32mimport \u001b[39m\u001b[36m_root_.org.scalatest._\u001b[39m"
      ]
     },
     "execution_count": 1,
     "metadata": {},
     "output_type": "execute_result"
    }
   ],
   "source": [
    "import $ivy.`org.scalatest::scalatest:3.0.8`\n",
    "import _root_.org.scalatest._"
   ]
  },
  {
   "cell_type": "markdown",
   "metadata": {},
   "source": [
    "### References\n",
    "\n",
    "[__Programming in Scala, \n",
    "A comprehensive step-by-step guide__](https://www.artima.com/shop/programming_in_scala_3ed) Third Edition.\n",
    "by Martin Odersky, Lex Spoon, and Bill Venners. \n",
    "\n",
    "- Chapter 6. Functional objects\n",
    "- Chapter 8. Functions and closures\n",
    "- Chapter 16. Working with Lists\n",
    "- Chapter 23. For Expressions Revisited\n",
    "\n",
    "[__Functional programming in Scala__](https://www.manning.com/books/functional-programming-in-scala), by Paul Chiusano and Runar Bjarnason.\n",
    "\n",
    "- Chapter 3. Functional data structures\n",
    "\n",
    "[__Functional programming simplified__](https://alvinalexander.com/downloads/fpsimplified-free-preview.pdf), by Alvin Alexander.\n",
    "\n",
    "- Chapter 22. Functions Are Variables, Too\n",
    "- Chapter 23. Using Methods As If They Were Functions\n",
    "- Chapter 24. How to Write Functions That Take Functions as Input Parameters\n",
    "- Chapter 25. How to Write a ‘map’ Function\n",
    "- Chapter 27. Functions Can Have Multiple Parameter Groups\n",
    "- Chapter 28. Partially-Applied Functions (and Currying)"
   ]
  },
  {
   "cell_type": "code",
   "execution_count": null,
   "metadata": {},
   "outputs": [],
   "source": [
    "def compose[A, B, C](f: B => C, g: A => B): A => C = \n",
    "    (a: A) => f(g(a))"
   ]
  },
  {
   "cell_type": "code",
   "execution_count": null,
   "metadata": {},
   "outputs": [],
   "source": [
    "def curry[A, B, C](f: (A, B) => C): A => (B => C) = \n",
    "    ???"
   ]
  },
  {
   "cell_type": "markdown",
   "metadata": {},
   "source": [
    "## `FoldRight`: divide and conquer"
   ]
  },
  {
   "cell_type": "markdown",
   "metadata": {},
   "source": [
    "HOFs shine when the time comes to break monoliths. For instance, let's consider the following two functions:"
   ]
  },
  {
   "cell_type": "code",
   "execution_count": null,
   "metadata": {},
   "outputs": [],
   "source": [
    "def sum(list: List[Int]): Int = \n",
    "    list match {\n",
    "        case Nil => 0\n",
    "        case (head: Int) :: (tail: List[Int]) => \n",
    "            val sumTail: Int = sum(tail)\n",
    "            head + sumTail\n",
    "    }"
   ]
  },
  {
   "cell_type": "code",
   "execution_count": null,
   "metadata": {},
   "outputs": [],
   "source": [
    "def multiply(list: List[Int]): Int = \n",
    "    list match {\n",
    "        case Nil => 1\n",
    "        case (head: Int) :: (tail: List[Int]) => \n",
    "            val multiplyTail: Int = multiply(tail)\n",
    "            head * multiplyTail\n",
    "    }"
   ]
  },
  {
   "cell_type": "markdown",
   "metadata": {},
   "source": [
    "These functions clearly share a common logic: their only differences are the value which is returned when the list is empty, and the function used to combine numbers (`+` and `*`, respectively). We can abstract away these differences and arrive to a more generic function which encodes that common logic:"
   ]
  },
  {
   "cell_type": "code",
   "execution_count": null,
   "metadata": {},
   "outputs": [],
   "source": [
    "def foldRight(list: List[Int])(\n",
    "    nil: Int, \n",
    "    cons: (Int, Int) => Int): Int = \n",
    "    list match {\n",
    "        case Nil => nil\n",
    "        case (head: Int) :: (tail: List[Int]) => \n",
    "            val tailSol: Int = foldRight(tail)(nil, cons)\n",
    "            cons(head, tailSol): Int\n",
    "    }"
   ]
  },
  {
   "cell_type": "markdown",
   "metadata": {},
   "source": [
    "which allows us to re-define in a modular way the `sum` and `multiply` functions:"
   ]
  },
  {
   "cell_type": "code",
   "execution_count": null,
   "metadata": {},
   "outputs": [],
   "source": [
    "def sum(list: List[Int]): Int = \n",
    "    foldRight(list)(\n",
    "        0 , \n",
    "        (head: Int, tailSum: Int) => head + tailSum : Int\n",
    "    )"
   ]
  },
  {
   "cell_type": "code",
   "execution_count": null,
   "metadata": {},
   "outputs": [],
   "source": [
    "def sum(list: List[Int]): Int = \n",
    "    foldRight(list)(0 , _ + _)"
   ]
  },
  {
   "cell_type": "code",
   "execution_count": null,
   "metadata": {},
   "outputs": [],
   "source": [
    "List(1,2,3,4,5).foldRight(0)(_ + _)"
   ]
  },
  {
   "cell_type": "code",
   "execution_count": null,
   "metadata": {},
   "outputs": [],
   "source": [
    "sum(List(1,2,3,4,5))"
   ]
  },
  {
   "cell_type": "code",
   "execution_count": null,
   "metadata": {},
   "outputs": [],
   "source": [
    "def multiply(list: List[Int]): Int = \n",
    "    foldRight(list)(\n",
    "        ??? : Int, \n",
    "        (head: Int, tailSol: Int) => \n",
    "            ??? : Int)"
   ]
  },
  {
   "cell_type": "code",
   "execution_count": null,
   "metadata": {},
   "outputs": [],
   "source": [
    "def multiply(list: List[Int]): Int = \n",
    "    foldRight(list)(\n",
    "        1 : Int, \n",
    "        (head: Int, tailMultiplication: Int) => \n",
    "            head * tailMultiplication : Int)"
   ]
  },
  {
   "cell_type": "code",
   "execution_count": null,
   "metadata": {},
   "outputs": [],
   "source": [
    "def multiply(list: List[Int]): Int = \n",
    "    foldRight(list)(1, _ * _)"
   ]
  },
  {
   "cell_type": "markdown",
   "metadata": {},
   "source": [
    "But we don't need to constrain ourselves to integers. In its generic version, the `combine` function is actually the `foldRight` higher-order function (for `List`s):"
   ]
  },
  {
   "cell_type": "code",
   "execution_count": null,
   "metadata": {},
   "outputs": [],
   "source": [
    "def sorted(list: List[Int]): Boolean = \n",
    "    list match {\n",
    "        case Nil => true \n",
    "        case head :: tail => \n",
    "            val tailSorted: Boolean = sorted(tail)\n",
    "            tail match {\n",
    "                case Nil => true\n",
    "                case head2 :: tail2 => \n",
    "                    head < head2 && tailSorted\n",
    "            }\n",
    "    }"
   ]
  },
  {
   "cell_type": "code",
   "execution_count": null,
   "metadata": {},
   "outputs": [],
   "source": [
    "def sorted(list: List[Int]): Boolean = \n",
    "    list match {\n",
    "        case head1 :: head2 :: tail => \n",
    "            head1 < head2 && sorted(head2 :: tail)\n",
    "        case _ => true\n",
    "    }"
   ]
  },
  {
   "cell_type": "code",
   "execution_count": null,
   "metadata": {},
   "outputs": [],
   "source": [
    "sorted(List(1,6,2,3,4))"
   ]
  },
  {
   "cell_type": "code",
   "execution_count": null,
   "metadata": {},
   "outputs": [],
   "source": [
    "def foldRight[A, B](list: List[A])(\n",
    "    nil: B, \n",
    "    cons: (A, B) => B): B = \n",
    "    list match {\n",
    "        case Nil => nil\n",
    "        case (head: A) :: (tail: List[A]) => \n",
    "            val tailSol: B = foldRight(tail)(nil, cons)\n",
    "            cons(head, tailSol): B\n",
    "    }"
   ]
  },
  {
   "cell_type": "code",
   "execution_count": null,
   "metadata": {},
   "outputs": [],
   "source": [
    "def sorted(list: List[Int]): Boolean = \n",
    "    foldRight(list)(\n",
    "        ??? : Boolean, \n",
    "        (head: Int, tailSorted: Boolean) => \n",
    "            /*\n",
    "            tail match {\n",
    "                case Nil => true\n",
    "                case head2 :: tail2 => \n",
    "                    head < head2 && tailSorted\n",
    "            }\n",
    "            */??? : Boolean)"
   ]
  },
  {
   "cell_type": "code",
   "execution_count": null,
   "metadata": {},
   "outputs": [],
   "source": [
    "def sorted(list: List[Int]): Boolean = \n",
    "    foldRight(list)(\n",
    "        (Nil, true) : (List[Int], Boolean), \n",
    "        (head: Int, tailSol: (List[Int], Boolean)) => \n",
    "            tailSol._1 match {\n",
    "                case Nil => \n",
    "                    (head:: tailSol._1, true)\n",
    "                case head2 :: tail2 => \n",
    "                    (head :: tailSol._1, \n",
    "                     head < head2 && tailSol._2)\n",
    "            })._2"
   ]
  },
  {
   "cell_type": "code",
   "execution_count": null,
   "metadata": {},
   "outputs": [],
   "source": [
    "sorted(List(1,2,7, 3,4,5)\n",
    "      )"
   ]
  },
  {
   "cell_type": "markdown",
   "metadata": {},
   "source": [
    "Graphically, we can explain the behaviour of `foldRight` as follows: "
   ]
  },
  {
   "cell_type": "markdown",
   "metadata": {},
   "source": [
    "![with elements](../images/foldRight.1.svg)\n",
    "\n",
    "(all images credit to [Scala Visual Reference](https://superruzafa.github.io/visual-scala-reference/))"
   ]
  },
  {
   "cell_type": "markdown",
   "metadata": {},
   "source": [
    "We can understand `foldRight` as an implementation of the divide-and-conquer design pattern: first, divide your problems in subproblems; second, solve these sub-problems; last, compose their solutions to obtain the solution to the overall problem. If the sub-problems are simple enough they can be solved directly; otherwise, they are solved recursively. In the case of lists:\n",
    "- The problem is obtaining a value of type `B` for a given list.\n",
    "- The only sub-problem corresponds to the tail of that list. \n",
    "- The arguments of the `foldRight` function tell us how to obtain the solution for the empty list (the atomic problem which can not be further decomposed), and how to obtain the solution from the solution to the sub-problem."
   ]
  },
  {
   "cell_type": "markdown",
   "metadata": {},
   "source": [
    "From this perspective, the implementation of `sum` and `multiply` is exactly the same as before when we used the function `combine`, although we can explain them differently:"
   ]
  },
  {
   "cell_type": "code",
   "execution_count": null,
   "metadata": {},
   "outputs": [],
   "source": [
    "def sum(list: List[Int]): Int = \n",
    "    ???"
   ]
  },
  {
   "cell_type": "code",
   "execution_count": null,
   "metadata": {},
   "outputs": [],
   "source": [
    "def multiply(list: List[Int]): Int = \n",
    "    ???"
   ]
  },
  {
   "cell_type": "markdown",
   "metadata": {},
   "source": [
    "#### Improved type-inference"
   ]
  },
  {
   "cell_type": "markdown",
   "metadata": {},
   "source": [
    "Technically, you may have noticed that we have to give extra type information in the invocations to `foldRight`. In fact, the following code doesn't compile. Check it yourself!"
   ]
  },
  {
   "cell_type": "code",
   "execution_count": null,
   "metadata": {},
   "outputs": [],
   "source": [
    "\n",
    "def multiply(list: List[Int]): Int = \n",
    "    foldRight(list)(1)((a, b) => a * b)\n",
    "    //list.foldRight(1)(_ * _)"
   ]
  },
  {
   "cell_type": "markdown",
   "metadata": {},
   "source": [
    "In order to help the Scala compiler to infer the type parameters of the `foldRight` function, we need to change its signature a little bit: "
   ]
  },
  {
   "cell_type": "code",
   "execution_count": null,
   "metadata": {},
   "outputs": [],
   "source": []
  },
  {
   "cell_type": "code",
   "execution_count": null,
   "metadata": {},
   "outputs": [],
   "source": [
    "def foldRight[A, B](list: List[A])(\n",
    "    nil: B)( \n",
    "    cons: (A, B) => B): B = \n",
    "    list match {\n",
    "        case Nil => nil\n",
    "        case (head: A) :: (tail: List[A]) => \n",
    "            val tailSol: B = foldRight(tail)(nil)(cons)\n",
    "            cons(head, tailSol): B\n",
    "    }"
   ]
  },
  {
   "cell_type": "markdown",
   "metadata": {},
   "source": [
    "By splitting the second parameter list, we allow the Scala compiler to infer the type of `B`, before it analyses the type of the `cons` argument. Now this works:"
   ]
  },
  {
   "cell_type": "code",
   "execution_count": null,
   "metadata": {},
   "outputs": [],
   "source": []
  },
  {
   "cell_type": "markdown",
   "metadata": {},
   "source": [
    "#### HOFs in the Scala API"
   ]
  },
  {
   "cell_type": "markdown",
   "metadata": {},
   "source": [
    "The `foldRight` HOF, as all the HOFs that we will explain in this notebook, are actually part of the standard Collections library of Scala. Typically, they are implemented as member methods of the corresponding collection class. For lists, the [Scala API](https://www.scala-lang.org/api/2.13.1/scala/collection/immutable/List.html) offers something like this:"
   ]
  },
  {
   "cell_type": "code",
   "execution_count": null,
   "metadata": {},
   "outputs": [],
   "source": [
    "object Standard{\n",
    "    class List[A]{\n",
    "        def foldRight[B](b: B)(f: (B, A) => B): B = ???\n",
    "    }\n",
    "}"
   ]
  },
  {
   "cell_type": "markdown",
   "metadata": {},
   "source": [
    "So, invocations of the standard `foldRight` do not receive the list as argument, but are common method invocations on some `List` instance:"
   ]
  },
  {
   "cell_type": "code",
   "execution_count": null,
   "metadata": {},
   "outputs": [],
   "source": []
  },
  {
   "cell_type": "markdown",
   "metadata": {},
   "source": [
    "Normally, we will use standard HOFs instead of our home-made versions, once they are explained. "
   ]
  },
  {
   "cell_type": "markdown",
   "metadata": {},
   "source": [
    "## The Hall of Fame of HOFs"
   ]
  },
  {
   "cell_type": "markdown",
   "metadata": {},
   "source": [
    "Besides `compose`, `andThen` and `foldRight`, there are other famous higher-order functions which work great as modularity devices: "
   ]
  },
  {
   "cell_type": "code",
   "execution_count": null,
   "metadata": {},
   "outputs": [],
   "source": [
    "def foldRight[A, B](list: List[A])(nil: B)(cons: (A, B) => B): B = ???\n",
    "def foldLeft[A, B](list: List[A])(b: B)(f: (B, A) => B): B = ???\n",
    "def filter[A](list: List[A])(f: A => Boolean): List[A] = ???\n",
    "def map[A, B](list: List[A])(f: A => B): List[B] = ???\n",
    "def flatMap[A, B](list: List[A])(f: A => List[B]): List[B] = ???"
   ]
  },
  {
   "cell_type": "markdown",
   "metadata": {},
   "source": [
    "But most of these functions do not only work for `List`, they work also for `Option`, `Either[A, ?]`, and many other data structures. For instance:"
   ]
  },
  {
   "cell_type": "code",
   "execution_count": null,
   "metadata": {},
   "outputs": [],
   "source": [
    "def foldRight[A, B](opt: Option[A])(none: B)(some: A => B): B = ???\n",
    "def filter[A](opt: Option[A])(f: A => Boolean): Option[A] = ???\n",
    "def map[A, B](opt: Option[A])(f: A => B): Option[B] = ???  \n",
    "def flatMap[A, B](opt: Option[A])(f: A => Option[B] ): Option[B] = ???"
   ]
  },
  {
   "cell_type": "code",
   "execution_count": null,
   "metadata": {},
   "outputs": [],
   "source": [
    "def foldRight[A, B, C](opt: Either[A, B])(\n",
    "    left: A => C, right: B => C): C = ???\n",
    "def filter[A, B](opt: Either[A, B])(f: B => Boolean): Either[A, B] = ???\n",
    "def map[A, B, C](opt: Either[A, B])(f: B => C): Either[A, C] = ???  \n",
    "def flatMap[A, B, C](opt: Either[A, B])(f: B => Either[A, C] ): Either[A, C] = ???"
   ]
  },
  {
   "cell_type": "markdown",
   "metadata": {},
   "source": [
    "The `fold` function is the catamorphism for `Option` and `Either[A, ?]`, in the same way than `foldRight` is the catamorphism for lists (we will see catamorphisms later on). "
   ]
  },
  {
   "cell_type": "markdown",
   "metadata": {},
   "source": [
    "## FoldLeft: a better loop"
   ]
  },
  {
   "cell_type": "markdown",
   "metadata": {},
   "source": [
    "The `foldLeft` HOF is the functional way to implement common imperative algorithms. For instance:"
   ]
  },
  {
   "cell_type": "code",
   "execution_count": null,
   "metadata": {},
   "outputs": [],
   "source": [
    "def length[A](list: List[A]): Int = {\n",
    "    var out: Int = 0\n",
    "    for (e <- list)\n",
    "        out += 1\n",
    "    out\n",
    "}"
   ]
  },
  {
   "cell_type": "code",
   "execution_count": null,
   "metadata": {},
   "outputs": [],
   "source": [
    "// out / aux\n",
    "Nil\n",
    "1 :: 2 :: 3 :: Nil\n",
    "//\n",
    "1 :: Nil\n",
    "2 :: 3 :: Nil\n",
    "// \n",
    "2 :: (1 :: Nil)\n",
    "3 :: Nil\n",
    "//\n",
    "3 :: (2 :: (1 :: Nil))\n",
    "Nil"
   ]
  },
  {
   "cell_type": "code",
   "execution_count": null,
   "metadata": {},
   "outputs": [],
   "source": [
    "def reverse[A](list: List[A]): List[A] =  {\n",
    "    var out: List[A] = Nil\n",
    "    for (e <- list)\n",
    "        out = e :: out\n",
    "    out\n",
    "}"
   ]
  },
  {
   "cell_type": "markdown",
   "metadata": {},
   "source": [
    "The following implementation abstracts away the differences in the above functions, and declares two additional parameters: the initial value of a mutable variable, and the update function executed in every step of the loop."
   ]
  },
  {
   "cell_type": "code",
   "execution_count": null,
   "metadata": {},
   "outputs": [],
   "source": [
    "// def sorted(list: List[Int]): Boolean\n",
    "// def length[A](list: List[A]): Int\n",
    "// def reverse[A](list: List[A]): List[A]\n",
    "def foldLeft[A, B](list: List[A])(\n",
    "        initial: B,\n",
    "        update: (B, A) => B): B =  {\n",
    "    var out: B = initial\n",
    "    for (e <- list)\n",
    "        out = update(out: B, e)\n",
    "    out\n",
    "}"
   ]
  },
  {
   "cell_type": "code",
   "execution_count": null,
   "metadata": {},
   "outputs": [],
   "source": [
    "def reverse[A](list: List[A]): List[A] = \n",
    "    foldLeft(list)(\n",
    "        Nil : List[A], \n",
    "        (e: A, out: List[A]) => \n",
    "            e :: out : List[A])"
   ]
  },
  {
   "cell_type": "code",
   "execution_count": null,
   "metadata": {},
   "outputs": [],
   "source": [
    "def reverse[A](list: List[A]): List[A] = \n",
    "    list.foldLeft[List[A]](\n",
    "        Nil)(\n",
    "        (out, e) => \n",
    "            e :: out)"
   ]
  },
  {
   "cell_type": "code",
   "execution_count": null,
   "metadata": {},
   "outputs": [],
   "source": [
    "def length[A](list: List[A]): Int = \n",
    "    list.foldLeft(0)(\n",
    "        (out: Int, _: A) => out + 1\n",
    "    )"
   ]
  },
  {
   "cell_type": "code",
   "execution_count": null,
   "metadata": {},
   "outputs": [],
   "source": []
  },
  {
   "cell_type": "markdown",
   "metadata": {},
   "source": [
    "Similarly, the `foldLeft` function is typically used where a tail-recursive function is needed. Its recursive implementation is naturally tail-recursive:"
   ]
  },
  {
   "cell_type": "code",
   "execution_count": null,
   "metadata": {},
   "outputs": [],
   "source": [
    "//@annotation.tailrec\n",
    "def foldLeft[A, B](list: List[A])(out: B)(update: (B, A) => B): B =\n",
    "    ???"
   ]
  },
  {
   "cell_type": "markdown",
   "metadata": {},
   "source": [
    "Using `foldLeft` we can implement functions at a higher-level of abstraction, i.e. using constructs which are nearer to the problem-domain, without caring about mutable variables, tail-safe recursion, etc. Its use also leads to very concise (and readable!) implementations. For instance, these are (almost) one-liner implementations of some of the functions of the last notebook on recursive functions:"
   ]
  },
  {
   "cell_type": "code",
   "execution_count": null,
   "metadata": {},
   "outputs": [],
   "source": [
    "def length[A](list: List[A]): Int = \n",
    "    ???"
   ]
  },
  {
   "cell_type": "code",
   "execution_count": null,
   "metadata": {},
   "outputs": [],
   "source": [
    "def sum(list: List[Int]): Int = \n",
    "    ???"
   ]
  },
  {
   "cell_type": "code",
   "execution_count": null,
   "metadata": {},
   "outputs": [],
   "source": [
    "def reverse[A](list: List[A]): List[A] = \n",
    "    ???"
   ]
  },
  {
   "cell_type": "markdown",
   "metadata": {},
   "source": [
    "But we may also use the `foldRight` function to implement them:"
   ]
  },
  {
   "cell_type": "code",
   "execution_count": null,
   "metadata": {},
   "outputs": [],
   "source": [
    "def length[A](list: List[A]): Int = \n",
    "    ???"
   ]
  },
  {
   "cell_type": "code",
   "execution_count": null,
   "metadata": {},
   "outputs": [],
   "source": [
    "def sum(list: List[Int]): Int = \n",
    "    ???"
   ]
  },
  {
   "cell_type": "code",
   "execution_count": null,
   "metadata": {},
   "outputs": [],
   "source": [
    "def reverse[A](list: List[A]): List[A] = \n",
    "    ???"
   ]
  },
  {
   "cell_type": "markdown",
   "metadata": {},
   "source": [
    "Functionally, both versions are equivalent, but the ones using `foldLeft` are more efficient. In particular, the `foldRight` version of `reverse` has cuadratic complexity. "
   ]
  },
  {
   "cell_type": "markdown",
   "metadata": {},
   "source": [
    "#### Implementing `foldRight` with `foldLeft`"
   ]
  },
  {
   "cell_type": "markdown",
   "metadata": {},
   "source": [
    "The implementation that we gave for `foldRight` was not tail-recursive, so this will blow up the stack:"
   ]
  },
  {
   "cell_type": "code",
   "execution_count": null,
   "metadata": {},
   "outputs": [],
   "source": [
    "foldRight[Int, Int](List.fill(100000)(1))(0)((_,_)=> 0)"
   ]
  },
  {
   "cell_type": "markdown",
   "metadata": {},
   "source": [
    "In order to obtain a better implementation, we may first reverse the list and use `foldLeft` as follows: "
   ]
  },
  {
   "cell_type": "code",
   "execution_count": null,
   "metadata": {},
   "outputs": [],
   "source": [
    "def foldRightTR[A, B](list: List[A])(nil: B)(cons: (A, B) => B): B = \n",
    "    ???"
   ]
  },
  {
   "cell_type": "markdown",
   "metadata": {},
   "source": [
    "This implementation works right with big lists:"
   ]
  },
  {
   "cell_type": "code",
   "execution_count": null,
   "metadata": {},
   "outputs": [],
   "source": [
    "// foldRightTR[Int, Int](List.fill(100000)(1))(0)((_,_)=> 0)"
   ]
  },
  {
   "cell_type": "markdown",
   "metadata": {},
   "source": [
    "#### Implementing `foldLeft` with `foldRight`"
   ]
  },
  {
   "cell_type": "markdown",
   "metadata": {},
   "source": [
    "This is also possible, though challenging. We start from the tail-recursive implementation of `foldLeft`. First, we rearrange the arguments so that it now returns a function instead of a plain value of type `B`. "
   ]
  },
  {
   "cell_type": "code",
   "execution_count": null,
   "metadata": {},
   "outputs": [],
   "source": [
    "def foldLeft[A, B](list: List[A])(out: B)(update: (B, A) => B): B =\n",
    "    list match {\n",
    "        case Nil => out\n",
    "        case head :: tail => \n",
    "            foldLeft(tail)(update(out, head))(update)\n",
    "    }"
   ]
  },
  {
   "cell_type": "markdown",
   "metadata": {},
   "source": [
    "This was in order to better expose the recursion pattern of `foldRight`. The solution is now obtained simply by noticing that `foldLeft(tail)(update)` is the solution for the tail:"
   ]
  },
  {
   "cell_type": "code",
   "execution_count": null,
   "metadata": {},
   "outputs": [],
   "source": [
    "def foldLeftAux[A, B](list: List[A])(update: (B, A) => B): B => B =\n",
    "    ???"
   ]
  },
  {
   "cell_type": "markdown",
   "metadata": {},
   "source": [
    "The original signature can then be implemented as follows: "
   ]
  },
  {
   "cell_type": "code",
   "execution_count": null,
   "metadata": {},
   "outputs": [],
   "source": [
    "def foldLeft[A, B](list: List[A])(out: B)(update: (B, A) => B): B =\n",
    "    ???"
   ]
  },
  {
   "cell_type": "markdown",
   "metadata": {},
   "source": [
    "## The `map` HOF"
   ]
  },
  {
   "cell_type": "code",
   "execution_count": 1,
   "metadata": {},
   "outputs": [
    {
     "data": {
      "text/plain": [
       "\u001b[36mres0\u001b[39m: \u001b[32mInt\u001b[39m = \u001b[32m13\u001b[39m"
      ]
     },
     "execution_count": 1,
     "metadata": {},
     "output_type": "execute_result"
    }
   ],
   "source": [
    "\"llegáis tarde\".length"
   ]
  },
  {
   "cell_type": "code",
   "execution_count": 4,
   "metadata": {},
   "outputs": [
    {
     "data": {
      "text/plain": [
       "\u001b[36mres3\u001b[39m: \u001b[32mBoolean\u001b[39m = true"
      ]
     },
     "execution_count": 4,
     "metadata": {},
     "output_type": "execute_result"
    }
   ],
   "source": [
    "lengths(List(\"hola\", \"\", \"adios\")) == List(4, 0, 5)"
   ]
  },
  {
   "cell_type": "code",
   "execution_count": 6,
   "metadata": {},
   "outputs": [
    {
     "data": {
      "text/plain": [
       "defined \u001b[32mfunction\u001b[39m \u001b[36mevens\u001b[39m"
      ]
     },
     "execution_count": 6,
     "metadata": {},
     "output_type": "execute_result"
    }
   ],
   "source": [
    "def evens(list: List[String]): List[Boolean] = \n",
    "    list match {\n",
    "        case Nil => Nil : List[Boolean]\n",
    "        case head :: tail => \n",
    "            val tailEvens: List[Boolean] = evens(tail)\n",
    "            (head.length % 2 == 0) :: tailEvens : List[Boolean]\n",
    "    }"
   ]
  },
  {
   "cell_type": "code",
   "execution_count": 8,
   "metadata": {},
   "outputs": [
    {
     "data": {
      "text/plain": [
       "defined \u001b[32mfunction\u001b[39m \u001b[36mevens\u001b[39m"
      ]
     },
     "execution_count": 8,
     "metadata": {},
     "output_type": "execute_result"
    }
   ],
   "source": [
    "def evens(list: List[String]): List[Boolean] = \n",
    "    map(list)((s : String) => (s.length % 2 == 0) : Boolean)"
   ]
  },
  {
   "cell_type": "code",
   "execution_count": 11,
   "metadata": {},
   "outputs": [
    {
     "data": {
      "text/plain": [
       "defined \u001b[32mfunction\u001b[39m \u001b[36mevens\u001b[39m"
      ]
     },
     "execution_count": 11,
     "metadata": {},
     "output_type": "execute_result"
    }
   ],
   "source": [
    "def evens(list: List[String]): List[Boolean] = \n",
    "    map(list)(_.length % 2 == 0)"
   ]
  },
  {
   "cell_type": "code",
   "execution_count": 13,
   "metadata": {},
   "outputs": [
    {
     "data": {
      "text/plain": [
       "defined \u001b[32mfunction\u001b[39m \u001b[36mevens\u001b[39m"
      ]
     },
     "execution_count": 13,
     "metadata": {},
     "output_type": "execute_result"
    }
   ],
   "source": [
    "def evens(list: List[String]): List[Boolean] = \n",
    "    list.map(_.length % 2 == 0)"
   ]
  },
  {
   "cell_type": "code",
   "execution_count": 3,
   "metadata": {},
   "outputs": [
    {
     "data": {
      "text/plain": [
       "defined \u001b[32mfunction\u001b[39m \u001b[36mlengths\u001b[39m"
      ]
     },
     "execution_count": 3,
     "metadata": {},
     "output_type": "execute_result"
    }
   ],
   "source": [
    "def lengths(list: List[String]): List[Int] = \n",
    "    list match {\n",
    "        case Nil => Nil : List[Int]\n",
    "        case head :: tail => \n",
    "            val tailLengths: List[Int] = lengths(tail)\n",
    "            head.length :: tailLengths : List[Int]\n",
    "    }"
   ]
  },
  {
   "cell_type": "code",
   "execution_count": 5,
   "metadata": {},
   "outputs": [
    {
     "data": {
      "text/plain": [
       "defined \u001b[32mfunction\u001b[39m \u001b[36mlengths\u001b[39m"
      ]
     },
     "execution_count": 5,
     "metadata": {},
     "output_type": "execute_result"
    }
   ],
   "source": [
    "def lengths(list: List[String]): List[Int] = \n",
    "    list.foldRight(Nil : List[Int])( (head, tailLengths) => \n",
    "            head.length :: tailLengths : List[Int]\n",
    "    )"
   ]
  },
  {
   "cell_type": "code",
   "execution_count": 7,
   "metadata": {},
   "outputs": [
    {
     "data": {
      "text/plain": [
       "defined \u001b[32mfunction\u001b[39m \u001b[36mmap\u001b[39m"
      ]
     },
     "execution_count": 7,
     "metadata": {},
     "output_type": "execute_result"
    }
   ],
   "source": [
    "def map[A, B](list: List[A])(f: A => B): List[B] = \n",
    "    list match {\n",
    "        case Nil => Nil : List[B]\n",
    "        case (head: A) :: (tail: List[A]) => \n",
    "            val tailMapped: List[B] = map(tail)(f)\n",
    "            f(head) :: tailMapped : List[B]\n",
    "    }"
   ]
  },
  {
   "cell_type": "code",
   "execution_count": 12,
   "metadata": {},
   "outputs": [
    {
     "data": {
      "text/plain": [
       "defined \u001b[32mfunction\u001b[39m \u001b[36mmap\u001b[39m"
      ]
     },
     "execution_count": 12,
     "metadata": {},
     "output_type": "execute_result"
    }
   ],
   "source": [
    "def map[A, B](list: List[A])(f: A => B): List[B] = \n",
    "    list.foldRight(Nil : List[B])( (head: A, tailMapped) => \n",
    "            f(head) :: tailMapped : List[B]\n",
    "    )"
   ]
  },
  {
   "cell_type": "markdown",
   "metadata": {},
   "source": [
    "The `map` function is one of the essential HOFs. Its purpose is applying a function to the elements of a data structure, in such a way that the relationships between these elements do not change. The only thing that must be modified is the _content_ of the data structure, not its _shape_. This condition is expressed in the following equations:\n",
    "\n",
    "1. `map(list)(identity) == list` for all `list: List[A]`\n",
    "2. `map(map(list)(f))(g) == map(list)(g compose f)` for all `list: List[A]`, `f: A => B`, `g: B => C`"
   ]
  },
  {
   "cell_type": "markdown",
   "metadata": {},
   "source": [
    "![map](../images/map.svg)"
   ]
  },
  {
   "cell_type": "markdown",
   "metadata": {},
   "source": [
    "The implementation for lists can be done as follows:"
   ]
  },
  {
   "cell_type": "code",
   "execution_count": null,
   "metadata": {},
   "outputs": [],
   "source": [
    "def map[A, B](list: List[A])(f: A => B): List[B] = \n",
    "    ???"
   ]
  },
  {
   "cell_type": "markdown",
   "metadata": {},
   "source": [
    "The `map` function is polymorphic in `A` and `B`, but we can't pass generic functions (aka polymorphic values) as parameters using `FunctionN`classes (these classes only wrap functions from specific types to specific result types). We may create polymorphic versions of `FunctionN` clases, but in order to keep things simple, we will define the test catalogue for `map` using a specific signature chosen at random (any other may serve as well):"
   ]
  },
  {
   "cell_type": "code",
   "execution_count": 19,
   "metadata": {},
   "outputs": [
    {
     "data": {
      "text/plain": [
       "defined \u001b[32mclass\u001b[39m \u001b[36mTestMap\u001b[39m"
      ]
     },
     "execution_count": 19,
     "metadata": {},
     "output_type": "execute_result"
    }
   ],
   "source": [
    "class TestMap(\n",
    "    map: List[Int] => (Int => Boolean) => List[Boolean]\n",
    ") extends FlatSpec with Matchers{\n",
    "    \n",
    "    val isEven: Int => Boolean = _ % 2 == 0\n",
    "    val greaterThan0: Int => Boolean = _ > 0\n",
    "    \n",
    "    \"mapping an empty list\" should \"return an empty list\" in {\n",
    "        map(List())(isEven) shouldBe Nil\n",
    "    }\n",
    "    \n",
    "    \"mapping an non-empty list\" should \"only change its content\" in {\n",
    "        map(List(1))(isEven) shouldBe List(false)\n",
    "        map(List(1,2))(isEven) shouldBe \n",
    "            List(isEven(1),isEven(2))\n",
    "        map(List(1,2,3))(_ % 2 == 0) shouldBe \n",
    "            List(isEven(1),isEven(2),isEven(3))\n",
    "        map(List(1,2,3,-1))(_ > 0) shouldBe \n",
    "            List(greaterThan0(1),true,true,false)\n",
    "    }\n",
    "}"
   ]
  },
  {
   "cell_type": "markdown",
   "metadata": {},
   "source": [
    "To run the tests we will pass the `map` function for `Ìnt` and `Boolean` types:"
   ]
  },
  {
   "cell_type": "code",
   "execution_count": 21,
   "metadata": {},
   "outputs": [
    {
     "name": "stdout",
     "output_type": "stream",
     "text": [
      "\u001b[32mcmd18$Helper$TestMap:\u001b[0m\n",
      "\u001b[32mmapping an empty list\u001b[0m\n",
      "\u001b[32m- should return an empty list\u001b[0m\n",
      "\u001b[32mmapping an non-empty list\u001b[0m\n",
      "\u001b[32m- should only change its content\u001b[0m\n"
     ]
    }
   ],
   "source": [
    "run(new TestMap(map))"
   ]
  },
  {
   "cell_type": "markdown",
   "metadata": {},
   "source": [
    "The implementation of `map` is really close to the implementation of `foldRight`. Indeed, we can give a more modular implementation using this more basic HOF: "
   ]
  },
  {
   "cell_type": "code",
   "execution_count": null,
   "metadata": {},
   "outputs": [],
   "source": [
    "/*\n",
    "def foldRight[A, B](list: List[A])(nil: B)(cons: (A, B) => B): B = \n",
    "    list match {\n",
    "        case Nil => nil\n",
    "        case head :: tail => cons(head, foldRight(tail)(nil)(cons))\n",
    "    }\n",
    "*/\n",
    "\n",
    "def mapFR[A, B](list: List[A])(f: A => B): List[B] = \n",
    "    ???"
   ]
  },
  {
   "cell_type": "code",
   "execution_count": null,
   "metadata": {},
   "outputs": [],
   "source": [
    "run(new TestMap(mapFR))"
   ]
  },
  {
   "cell_type": "markdown",
   "metadata": {},
   "source": [
    "### `map` for `Option`"
   ]
  },
  {
   "cell_type": "markdown",
   "metadata": {},
   "source": [
    "The implementation of the `map` function given above works over lists, but we can also map optional values and many other data structures. The implementation for the data structure `Option` must satisfy the following test:"
   ]
  },
  {
   "cell_type": "code",
   "execution_count": 22,
   "metadata": {},
   "outputs": [
    {
     "data": {
      "text/plain": [
       "defined \u001b[32mclass\u001b[39m \u001b[36mTestMapOption\u001b[39m"
      ]
     },
     "execution_count": 22,
     "metadata": {},
     "output_type": "execute_result"
    }
   ],
   "source": [
    "class TestMapOption(\n",
    "    map: Option[Int] => (Int => Boolean) => Option[Boolean]\n",
    ") extends FlatSpec with Matchers{\n",
    "    \n",
    "    \"mapping the `None` value\" should \"return `None`\" in {\n",
    "        map(None)(_ % 2 == 0) shouldBe None\n",
    "    }\n",
    "    \n",
    "    \"mapping a `Some` value\" should \"only change its content\" in {\n",
    "        map(Option(3))(_ % 2 == 0) shouldBe Option(false)\n",
    "        map(Option(1))(_ % 2 == 0) shouldBe Option(false)\n",
    "        map(Option(2))(_ % 2 == 0) shouldBe Option(true)\n",
    "    }\n",
    "    \n",
    "        \n",
    "}"
   ]
  },
  {
   "cell_type": "markdown",
   "metadata": {},
   "source": [
    "The implementation is simple:"
   ]
  },
  {
   "cell_type": "code",
   "execution_count": null,
   "metadata": {},
   "outputs": [],
   "source": [
    "def mapOpt[A, B](maybeA: Option[A])(f: A => B): Option[B] = \n",
    "    ???"
   ]
  },
  {
   "cell_type": "code",
   "execution_count": null,
   "metadata": {},
   "outputs": [],
   "source": [
    "run(new TestMapOption(mapOpt))"
   ]
  },
  {
   "cell_type": "markdown",
   "metadata": {},
   "source": [
    "## Filtering elements"
   ]
  },
  {
   "cell_type": "markdown",
   "metadata": {},
   "source": [
    "Unlike `map`, the `filter` HOF allows us to change the shape of the data structure, removing those elements that do not satisfy a given predicate. "
   ]
  },
  {
   "cell_type": "markdown",
   "metadata": {},
   "source": [
    "![filter](../images/filter.svg)"
   ]
  },
  {
   "cell_type": "code",
   "execution_count": 25,
   "metadata": {},
   "outputs": [
    {
     "data": {
      "text/plain": [
       "defined \u001b[32mfunction\u001b[39m \u001b[36mfilterEven\u001b[39m"
      ]
     },
     "execution_count": 25,
     "metadata": {},
     "output_type": "execute_result"
    }
   ],
   "source": [
    "def filterEven(list: List[Int]): List[Int] = \n",
    "    list.foldRight(Nil: List[Int])(\n",
    "        (head: Int, tailFiltered: List[Int]) => \n",
    "            if (head % 2 == 0) head :: tailFiltered\n",
    "            else tailFiltered : List[Int]\n",
    "    )"
   ]
  },
  {
   "cell_type": "code",
   "execution_count": 32,
   "metadata": {},
   "outputs": [
    {
     "data": {
      "text/plain": [
       "\u001b[36mres31\u001b[39m: \u001b[32mBoolean\u001b[39m = true"
      ]
     },
     "execution_count": 32,
     "metadata": {},
     "output_type": "execute_result"
    }
   ],
   "source": [
    "filterEven(List(1,2,3,4))== List(2,4)"
   ]
  },
  {
   "cell_type": "code",
   "execution_count": 28,
   "metadata": {},
   "outputs": [
    {
     "ename": "",
     "evalue": "",
     "output_type": "error",
     "traceback": [
      "\u001b[31mjava.lang.StringIndexOutOfBoundsException: String index out of range: 0\u001b[39m\n  java.lang.StringLatin1.charAt(\u001b[32mStringLatin1.java\u001b[39m:\u001b[32m48\u001b[39m)\n  java.lang.String.charAt(\u001b[32mString.java\u001b[39m:\u001b[32m711\u001b[39m)\n  scala.collection.StringOps$.apply$extension(\u001b[32mStringOps.scala\u001b[39m:\u001b[32m171\u001b[39m)\n  ammonite.$sess.cmd27$Helper.<init>(\u001b[32mcmd27.sc\u001b[39m:\u001b[32m2\u001b[39m)\n  ammonite.$sess.cmd27$.<clinit>(\u001b[32mcmd27.sc\u001b[39m:\u001b[32m7\u001b[39m)"
     ]
    }
   ],
   "source": [
    "\"hola\"(0)\n",
    "\"\"(0)"
   ]
  },
  {
   "cell_type": "code",
   "execution_count": 29,
   "metadata": {},
   "outputs": [
    {
     "data": {
      "text/plain": [
       "defined \u001b[32mfunction\u001b[39m \u001b[36mstartsWithVowel\u001b[39m"
      ]
     },
     "execution_count": 29,
     "metadata": {},
     "output_type": "execute_result"
    }
   ],
   "source": [
    "def startsWithVowel(s: String): Boolean = \n",
    "    s.length > 0 && (\n",
    "        s(0) == 'a' || s(0)=='e' || s(0)=='i' || s(0)=='o' || s(0)=='u'\n",
    "    )"
   ]
  },
  {
   "cell_type": "code",
   "execution_count": 30,
   "metadata": {},
   "outputs": [
    {
     "data": {
      "text/plain": [
       "defined \u001b[32mfunction\u001b[39m \u001b[36mfilterVowel\u001b[39m"
      ]
     },
     "execution_count": 30,
     "metadata": {},
     "output_type": "execute_result"
    }
   ],
   "source": [
    "def filterVowel(list: List[String]): List[String] = \n",
    "    list.foldRight(Nil: List[String])(\n",
    "        (head: String, tailFiltered: List[String]) => \n",
    "            if (startsWithVowel(head)) head :: tailFiltered\n",
    "            else tailFiltered : List[String]\n",
    "    )"
   ]
  },
  {
   "cell_type": "code",
   "execution_count": 36,
   "metadata": {},
   "outputs": [
    {
     "data": {
      "text/plain": [
       "\u001b[36mres35_0\u001b[39m: \u001b[32mList\u001b[39m[\u001b[32mString\u001b[39m] = \u001b[33mList\u001b[39m(\u001b[32m\"abc\"\u001b[39m, \u001b[32m\"eoo\"\u001b[39m)\n",
       "\u001b[36mres35_1\u001b[39m: \u001b[32mList\u001b[39m[\u001b[32mString\u001b[39m] = \u001b[33mList\u001b[39m(\u001b[32m\"abc\"\u001b[39m, \u001b[32m\"eoo\"\u001b[39m)\n",
       "\u001b[36mres35_2\u001b[39m: \u001b[32mList\u001b[39m[\u001b[32mString\u001b[39m] = \u001b[33mList\u001b[39m(\u001b[32m\"abc\"\u001b[39m, \u001b[32m\"eoo\"\u001b[39m)\n",
       "\u001b[36mres35_3\u001b[39m: \u001b[32mList\u001b[39m[\u001b[32mBoolean\u001b[39m] = \u001b[33mList\u001b[39m(true, false, false, true)"
      ]
     },
     "execution_count": 36,
     "metadata": {},
     "output_type": "execute_result"
    }
   ],
   "source": [
    "filterVowel(List(\"abc\", \"cdd\", \"baa\", \"eoo\"))\n",
    "filterR(List(\"abc\", \"cdd\", \"baa\", \"eoo\"))(startsWithVowel)\n",
    "List(\"abc\", \"cdd\", \"baa\", \"eoo\").filter(startsWithVowel)\n",
    "List(\"abc\", \"cdd\", \"baa\", \"eoo\").map(startsWithVowel)"
   ]
  },
  {
   "cell_type": "code",
   "execution_count": 39,
   "metadata": {},
   "outputs": [
    {
     "data": {
      "text/plain": [
       "defined \u001b[32mfunction\u001b[39m \u001b[36mf\u001b[39m"
      ]
     },
     "execution_count": 39,
     "metadata": {},
     "output_type": "execute_result"
    }
   ],
   "source": [
    "def f: (String, List[Boolean]) => List[Boolean] = \n",
    "    (s: String, l: List[Boolean]) => ??? : List[Boolean]"
   ]
  },
  {
   "cell_type": "code",
   "execution_count": 31,
   "metadata": {},
   "outputs": [
    {
     "data": {
      "text/plain": [
       "defined \u001b[32mfunction\u001b[39m \u001b[36mfilterR\u001b[39m"
      ]
     },
     "execution_count": 31,
     "metadata": {},
     "output_type": "execute_result"
    }
   ],
   "source": [
    "def filterR[A](list: List[A])(predicate: A => Boolean): List[A] = \n",
    "    list.foldRight(Nil: List[A])(\n",
    "        (head: A, tailFiltered: List[A]) => \n",
    "            if (predicate(head)) head :: tailFiltered\n",
    "            else tailFiltered : List[A]\n",
    "    )"
   ]
  },
  {
   "cell_type": "code",
   "execution_count": null,
   "metadata": {},
   "outputs": [],
   "source": [
    "class TestFilterList(\n",
    "    filter: List[Int] => (Int => Boolean) => List[Int]\n",
    ") extends FlatSpec with Matchers{\n",
    "    \n",
    "    \"filter\" should \"work\" in {\n",
    "        filter(List())(_ % 2 == 0) shouldBe ???\n",
    "        filter(List(1))(_ % 2 == 0) shouldBe ???\n",
    "        filter(List(1,3,5))(_ % 2 == 0) shouldBe ???\n",
    "        filter(List(2,4,6))(_ % 2 == 0) shouldBe ???\n",
    "    }\n",
    "}"
   ]
  },
  {
   "cell_type": "code",
   "execution_count": null,
   "metadata": {},
   "outputs": [],
   "source": [
    "run(new TestFilterList(filter))"
   ]
  },
  {
   "cell_type": "markdown",
   "metadata": {},
   "source": [
    "Using `foldRight` we can get a more modular implementation: "
   ]
  },
  {
   "cell_type": "code",
   "execution_count": null,
   "metadata": {},
   "outputs": [],
   "source": [
    "def filterFR[A](list: List[A])(predicate: A => Boolean): List[A] = \n",
    "    ???"
   ]
  },
  {
   "cell_type": "code",
   "execution_count": null,
   "metadata": {},
   "outputs": [],
   "source": [
    "run(new TestFilterList(filterFR))"
   ]
  },
  {
   "cell_type": "markdown",
   "metadata": {},
   "source": [
    "### Filtering optional values"
   ]
  },
  {
   "cell_type": "markdown",
   "metadata": {},
   "source": [
    "We only have a possible value, so implementing filtering is easy in this case:"
   ]
  },
  {
   "cell_type": "code",
   "execution_count": 40,
   "metadata": {},
   "outputs": [
    {
     "data": {
      "text/plain": [
       "defined \u001b[32mclass\u001b[39m \u001b[36mTestFilterOption\u001b[39m"
      ]
     },
     "execution_count": 40,
     "metadata": {},
     "output_type": "execute_result"
    }
   ],
   "source": [
    "class TestFilterOption(\n",
    "    filter: Option[Int] => (Int => Boolean) => Option[Int]\n",
    ") extends FlatSpec with Matchers{\n",
    "    \n",
    "    \"filter\" should \"work\" in {\n",
    "        filter(None)(_ % 2 == 0) shouldBe None\n",
    "        filter(Some(1))(_ % 2 == 0) shouldBe None\n",
    "        filter(Some(2))(_ % 2 == 0) shouldBe Some(2)\n",
    "    }\n",
    "}"
   ]
  },
  {
   "cell_type": "code",
   "execution_count": null,
   "metadata": {},
   "outputs": [],
   "source": [
    "def filter[A](maybeA: Option[A])(predicate: A => Boolean): Option[A] = \n",
    "    ???"
   ]
  },
  {
   "cell_type": "code",
   "execution_count": null,
   "metadata": {},
   "outputs": [],
   "source": [
    "run(new TestFilterOption(filter))"
   ]
  },
  {
   "cell_type": "markdown",
   "metadata": {},
   "source": [
    "## FlatMapping data structures"
   ]
  },
  {
   "cell_type": "markdown",
   "metadata": {},
   "source": [
    "Let's consider a paragraph represented as a list of sentences, where each sentence is in turn modelled as a string made of _words_ separated by blank spaces. We want to obtain a list of all the words in each sentence. "
   ]
  },
  {
   "cell_type": "code",
   "execution_count": 41,
   "metadata": {},
   "outputs": [
    {
     "data": {
      "text/plain": [
       "defined \u001b[32mclass\u001b[39m \u001b[36mTestWords\u001b[39m"
      ]
     },
     "execution_count": 41,
     "metadata": {},
     "output_type": "execute_result"
    }
   ],
   "source": [
    "class TestWords(\n",
    "    words: List[String] => List[String]\n",
    ") extends FlatSpec with Matchers{\n",
    "            \n",
    "    val paragraph1 = List(\n",
    "        \"En un lugar\",\n",
    "        \"de la Mancha\", \n",
    "        \"de cuyo nombre no\",\n",
    "        \"quiero acordarme\")\n",
    "    \n",
    "    \"words\" should \"work\" in {\n",
    "        words(paragraph1) shouldBe\n",
    "            List(\n",
    "        \"En\", \"un\", \"lugar\",\n",
    "        \"de\", \"la\", \"Mancha\", \n",
    "        \"de\", \"cuyo\", \"nombre\", \"no\",\n",
    "        \"quiero\", \"acordarme\")\n",
    "            \n",
    "    }\n",
    "}"
   ]
  },
  {
   "cell_type": "code",
   "execution_count": 43,
   "metadata": {},
   "outputs": [
    {
     "data": {
      "text/plain": [
       "\u001b[36mres42\u001b[39m: \u001b[32mList\u001b[39m[\u001b[32mString\u001b[39m] = \u001b[33mList\u001b[39m(\u001b[32m\"en\"\u001b[39m, \u001b[32m\"un\"\u001b[39m, \u001b[32m\"lugar\"\u001b[39m)"
      ]
     },
     "execution_count": 43,
     "metadata": {},
     "output_type": "execute_result"
    }
   ],
   "source": [
    "\"en un lugar\".split(\" \").toList"
   ]
  },
  {
   "cell_type": "markdown",
   "metadata": {},
   "source": [
    "We may try to map the paragraph with a function that `split`s  each sentence into the words they are made of:"
   ]
  },
  {
   "cell_type": "code",
   "execution_count": 46,
   "metadata": {},
   "outputs": [
    {
     "data": {
      "text/plain": [
       "\u001b[36mparagraph\u001b[39m: \u001b[32mList\u001b[39m[\u001b[32mString\u001b[39m] = \u001b[33mList\u001b[39m(\u001b[32m\"en un lugar\"\u001b[39m, \u001b[32m\"de la Mancha\"\u001b[39m)\n",
       "\u001b[36mres45_1\u001b[39m: \u001b[32mBoolean\u001b[39m = true\n",
       "\u001b[36mres45_2\u001b[39m: \u001b[32mList\u001b[39m[\u001b[32mList\u001b[39m[\u001b[32mString\u001b[39m]] = \u001b[33mList\u001b[39m(\n",
       "  \u001b[33mList\u001b[39m(\u001b[32m\"en\"\u001b[39m, \u001b[32m\"un\"\u001b[39m, \u001b[32m\"lugar\"\u001b[39m),\n",
       "  \u001b[33mList\u001b[39m(\u001b[32m\"de\"\u001b[39m, \u001b[32m\"la\"\u001b[39m, \u001b[32m\"Mancha\"\u001b[39m)\n",
       ")"
      ]
     },
     "execution_count": 46,
     "metadata": {},
     "output_type": "execute_result"
    }
   ],
   "source": [
    "val paragraph: List[String] = List(\"en un lugar\", \"de la Mancha\")\n",
    "\n",
    "List(\"en\", \"un\", \"lugar\", \"de\", \"la\", \"Mancha\") == \n",
    " List(\"en\", \"un\", \"lugar\") ++ List(\"de\", \"la\", \"Mancha\")\n",
    "\n",
    "paragraph.map[List[String]](\n",
    "    (phrase: String) => \n",
    "        phrase.split(\" \").toList: List[String]\n",
    ")\n"
   ]
  },
  {
   "cell_type": "markdown",
   "metadata": {},
   "source": [
    "but then we obtain a _list of lists_ of strings, not a list of plain strings. The solution is not far though: we have just to concatenate all the lists and we obtain what we need. The function `flatten` performs this concatenation:"
   ]
  },
  {
   "cell_type": "code",
   "execution_count": 48,
   "metadata": {},
   "outputs": [
    {
     "data": {
      "text/plain": [
       "defined \u001b[32mfunction\u001b[39m \u001b[36mconcatenate\u001b[39m"
      ]
     },
     "execution_count": 48,
     "metadata": {},
     "output_type": "execute_result"
    }
   ],
   "source": [
    "def concatenate(listOflists: List[List[String]]): List[String] = \n",
    "    listOflists.foldRight(\n",
    "        Nil : List[String])(\n",
    "        (head: List[String], tailConcatenated: List[String]) => \n",
    "            head ++ tailConcatenated : List[String]\n",
    "    )"
   ]
  },
  {
   "cell_type": "code",
   "execution_count": 52,
   "metadata": {},
   "outputs": [
    {
     "data": {
      "text/plain": [
       "\u001b[36mres51_0\u001b[39m: \u001b[32mOption\u001b[39m[\u001b[32mInt\u001b[39m] = \u001b[33mSome\u001b[39m(\u001b[32m1\u001b[39m)\n",
       "\u001b[36mres51_1\u001b[39m: \u001b[32mOption\u001b[39m[\u001b[32mNothing\u001b[39m] = \u001b[32mNone\u001b[39m"
      ]
     },
     "execution_count": 52,
     "metadata": {},
     "output_type": "execute_result"
    }
   ],
   "source": [
    "Some(Some(1)).flatten\n",
    "Some(None).flatten"
   ]
  },
  {
   "cell_type": "code",
   "execution_count": 54,
   "metadata": {},
   "outputs": [
    {
     "data": {
      "text/plain": [
       "\u001b[36mres53\u001b[39m: \u001b[32mList\u001b[39m[\u001b[32mNothing\u001b[39m] = \u001b[33mList\u001b[39m()"
      ]
     },
     "execution_count": 54,
     "metadata": {},
     "output_type": "execute_result"
    }
   ],
   "source": [
    "List(List(), List(), List()).flatten"
   ]
  },
  {
   "cell_type": "code",
   "execution_count": 55,
   "metadata": {},
   "outputs": [
    {
     "data": {
      "text/plain": [
       "defined \u001b[32mfunction\u001b[39m \u001b[36mflatten\u001b[39m"
      ]
     },
     "execution_count": 55,
     "metadata": {},
     "output_type": "execute_result"
    }
   ],
   "source": [
    "def flatten[A](listOflists: List[List[A]]): List[A] = \n",
    "    listOflists.foldRight(\n",
    "        Nil : List[A])(\n",
    "        (head: List[A], tailConcatenated: List[A]) => \n",
    "            head ++ tailConcatenated : List[A]\n",
    "    )"
   ]
  },
  {
   "cell_type": "code",
   "execution_count": 49,
   "metadata": {},
   "outputs": [
    {
     "data": {
      "text/plain": [
       "defined \u001b[32mfunction\u001b[39m \u001b[36mconcatenate\u001b[39m"
      ]
     },
     "execution_count": 49,
     "metadata": {},
     "output_type": "execute_result"
    }
   ],
   "source": [
    "def concatenate(listOflists: List[List[String]]): List[String] = \n",
    "    listOflists.foldRight(List[String]())(_ ++ _)"
   ]
  },
  {
   "cell_type": "markdown",
   "metadata": {},
   "source": [
    "The function `flatten` is actually provided by the Scala API. So, the implementation of the `words` function is as follows:"
   ]
  },
  {
   "cell_type": "code",
   "execution_count": 56,
   "metadata": {},
   "outputs": [
    {
     "data": {
      "text/plain": [
       "defined \u001b[32mfunction\u001b[39m \u001b[36mwords\u001b[39m"
      ]
     },
     "execution_count": 56,
     "metadata": {},
     "output_type": "execute_result"
    }
   ],
   "source": [
    "def words(paragraph: List[String]): List[String] = \n",
    "    paragraph.map(_.split(\" \").toList) // List[List[String]]\n",
    "        .flatten                       // List[String]"
   ]
  },
  {
   "cell_type": "code",
   "execution_count": 58,
   "metadata": {},
   "outputs": [
    {
     "data": {
      "text/plain": [
       "defined \u001b[32mfunction\u001b[39m \u001b[36mwords\u001b[39m"
      ]
     },
     "execution_count": 58,
     "metadata": {},
     "output_type": "execute_result"
    }
   ],
   "source": [
    "def words(paragraph: List[String]): List[String] = \n",
    "    paragraph.flatMap(_.split(\" \").toList) // List[String]"
   ]
  },
  {
   "cell_type": "code",
   "execution_count": 57,
   "metadata": {},
   "outputs": [
    {
     "name": "stdout",
     "output_type": "stream",
     "text": [
      "\u001b[32mcmd40$Helper$TestWords:\u001b[0m\n",
      "\u001b[32mwords\u001b[0m\n",
      "\u001b[32m- should work\u001b[0m\n"
     ]
    }
   ],
   "source": [
    "run(new TestWords(words))"
   ]
  },
  {
   "cell_type": "markdown",
   "metadata": {},
   "source": [
    "This combination of the HOF `map` and the function `flatten` is so common, that it has been given a proper name: `flatMap`. "
   ]
  },
  {
   "cell_type": "code",
   "execution_count": null,
   "metadata": {},
   "outputs": [],
   "source": [
    "def words(p: List[String]): List[String] = ???\n",
    "\n",
    "def wordLengths(p: List[String]): List[Int] =\n",
    "    p.map(???: String => List[Int]) // List[List[Int]]\n",
    "        .flatten                  // List[Int]\n",
    "\n",
    "def wordLengths(p: List[String]): List[Int] =\n",
    "    p.flatMap(??? : String => List[Int]) // List[Int]"
   ]
  },
  {
   "cell_type": "code",
   "execution_count": 60,
   "metadata": {},
   "outputs": [
    {
     "data": {
      "text/plain": [
       "defined \u001b[32mfunction\u001b[39m \u001b[36mflatMap\u001b[39m"
      ]
     },
     "execution_count": 60,
     "metadata": {},
     "output_type": "execute_result"
    }
   ],
   "source": [
    "def flatMap[A, B](list: List[A])(f: A => List[B]): List[B] = \n",
    "    list.map(f: A => List[B]) // List[List[A]]\n",
    "        .flatten              // List[A]"
   ]
  },
  {
   "cell_type": "markdown",
   "metadata": {},
   "source": [
    "![filter](../images/flatMap.svg)"
   ]
  },
  {
   "cell_type": "markdown",
   "metadata": {},
   "source": [
    "Using `flatMap` the word function is implemented even more easily:"
   ]
  },
  {
   "cell_type": "code",
   "execution_count": null,
   "metadata": {},
   "outputs": [],
   "source": [
    "def words(paragraph: List[String]): List[String] = \n",
    "    ???"
   ]
  },
  {
   "cell_type": "markdown",
   "metadata": {},
   "source": [
    "### FlatMapping optional values"
   ]
  },
  {
   "cell_type": "code",
   "execution_count": null,
   "metadata": {},
   "outputs": [],
   "source": [
    "def flatMap[A, B](maybeA: Option[A])(cont: A => Option[B]): Option[B] = \n",
    "    ???"
   ]
  },
  {
   "cell_type": "code",
   "execution_count": 61,
   "metadata": {},
   "outputs": [
    {
     "data": {
      "text/plain": [
       "defined \u001b[32mclass\u001b[39m \u001b[36mTestFlatMapOption\u001b[39m"
      ]
     },
     "execution_count": 61,
     "metadata": {},
     "output_type": "execute_result"
    }
   ],
   "source": [
    "class TestFlatMapOption(\n",
    "    flatMap: Option[Int] => (Int => Option[Boolean]) => Option[Boolean]\n",
    ") extends FlatSpec with Matchers {\n",
    "    \n",
    "    def isPositiveEven(i: Int): Option[Boolean] = \n",
    "        if (i>=0) Some(i % 2 == 0)\n",
    "        else None\n",
    "    \n",
    "    \"flatMap\" should \"work\" in {\n",
    "        flatMap(None)(isPositiveEven) shouldBe ???\n",
    "        flatMap(Some(5))(isPositiveEven) shouldBe Some(false)\n",
    "        flatMap(Some(-5))(isPositiveEven) shouldBe None\n",
    "        flatMap(Some(0))(isPositiveEven) shouldBe Some(true)\n",
    "        flatMap(Some(4))(isPositiveEven) shouldBe Some(true )     \n",
    "    }\n",
    "}"
   ]
  },
  {
   "cell_type": "code",
   "execution_count": null,
   "metadata": {},
   "outputs": [],
   "source": [
    "run(new TestFlatMapOption(flatMap))"
   ]
  },
  {
   "cell_type": "markdown",
   "metadata": {},
   "source": [
    "## All together: a modularity problem"
   ]
  },
  {
   "cell_type": "markdown",
   "metadata": {},
   "source": [
    "As before, we start from a list of sentences, but now we want to take care of the possible extra spaces between each word. Also, we want to obtain not the words themselves but their lengths. So, the specification of our problem is a function `lengths`:"
   ]
  },
  {
   "cell_type": "code",
   "execution_count": 5,
   "metadata": {},
   "outputs": [
    {
     "data": {
      "text/plain": [
       "defined \u001b[32mclass\u001b[39m \u001b[36mTestLengths\u001b[39m"
      ]
     },
     "execution_count": 5,
     "metadata": {},
     "output_type": "execute_result"
    }
   ],
   "source": [
    "class TestLengths(\n",
    "    lengths: List[String] => List[Int]\n",
    ") extends FlatSpec with Matchers{\n",
    "            \n",
    "    val paragraph1 = List(\n",
    "        \"En un  lugar\",\n",
    "        \"de  la Mancha \", \n",
    "        \"de cuyo nombre no\",\n",
    "        \"quiero        acordarme\")\n",
    "    \n",
    "    \"lengths\" should \"work\" in {\n",
    "        lengths(paragraph1) shouldBe \n",
    "            List(\n",
    "        2, 2,  5,\n",
    "        2,  2, 6, \n",
    "        2, 4, 6, 2,\n",
    "        6, 9)\n",
    "    }\n",
    "}"
   ]
  },
  {
   "cell_type": "markdown",
   "metadata": {},
   "source": [
    "We may try to implement this function imperatively using mutable variables:"
   ]
  },
  {
   "cell_type": "code",
   "execution_count": 9,
   "metadata": {},
   "outputs": [
    {
     "data": {
      "text/plain": [
       "\u001b[36mres8\u001b[39m: \u001b[32mList\u001b[39m[\u001b[32mString\u001b[39m] = \u001b[33mList\u001b[39m(\u001b[32m\"en\"\u001b[39m, \u001b[32m\"\"\u001b[39m, \u001b[32m\"un\"\u001b[39m, \u001b[32m\"lugar\"\u001b[39m)"
      ]
     },
     "execution_count": 9,
     "metadata": {},
     "output_type": "execute_result"
    }
   ],
   "source": [
    "\"en  un lugar\". split(\" \").toList"
   ]
  },
  {
   "cell_type": "code",
   "execution_count": 12,
   "metadata": {},
   "outputs": [
    {
     "data": {
      "text/plain": [
       "defined \u001b[32mfunction\u001b[39m \u001b[36mlengthsM\u001b[39m"
      ]
     },
     "execution_count": 12,
     "metadata": {},
     "output_type": "execute_result"
    }
   ],
   "source": [
    "def lengthsM(paragraph: List[String]): List[Int] = {\n",
    "    var out: List[Int] = List()\n",
    "    for (sentence <- paragraph)\n",
    "        for (word <- sentence.split(\" \"))\n",
    "            if (word != \"\") \n",
    "                out = out :+ word.length\n",
    "    //out.reverse\n",
    "    out\n",
    "}\n"
   ]
  },
  {
   "cell_type": "markdown",
   "metadata": {},
   "source": [
    "and this works, of course: "
   ]
  },
  {
   "cell_type": "code",
   "execution_count": 13,
   "metadata": {},
   "outputs": [
    {
     "name": "stdout",
     "output_type": "stream",
     "text": [
      "\u001b[32mcmd4$Helper$TestLengths:\u001b[0m\n",
      "\u001b[32mlengths\u001b[0m\n",
      "\u001b[32m- should work\u001b[0m\n"
     ]
    }
   ],
   "source": [
    "run(new TestLengths(lengthsM))"
   ]
  },
  {
   "cell_type": "markdown",
   "metadata": {},
   "source": [
    "but can we do it better? Yes, we can! Using HOFs we can get a more concise, understandable and reliable version, with a great level of reuse!"
   ]
  },
  {
   "cell_type": "code",
   "execution_count": 16,
   "metadata": {},
   "outputs": [
    {
     "data": {
      "text/plain": [
       "\u001b[36mres15\u001b[39m: \u001b[32mList\u001b[39m[\u001b[32mInt\u001b[39m] = \u001b[33mList\u001b[39m(\u001b[32m2\u001b[39m, \u001b[32m2\u001b[39m, \u001b[32m5\u001b[39m, \u001b[32m2\u001b[39m, \u001b[32m2\u001b[39m, \u001b[32m6\u001b[39m, \u001b[32m2\u001b[39m, \u001b[32m4\u001b[39m, \u001b[32m6\u001b[39m, \u001b[32m2\u001b[39m, \u001b[32m6\u001b[39m, \u001b[32m9\u001b[39m)"
      ]
     },
     "execution_count": 16,
     "metadata": {},
     "output_type": "execute_result"
    }
   ],
   "source": [
    "List(\n",
    "        \"En un  lugar\",\n",
    "        \"de  la Mancha \", \n",
    "        \"de cuyo nombre no\",\n",
    "        \"quiero        acordarme\")                   // List[Sentence]\n",
    "    .flatMap(sentence => sentence.split(\" \").toList) // List[Word]\n",
    "    .filter(word => word != \"\" : Boolean)            // List[Word]\n",
    "    .map(word => word.length)                        // List[Int]\n",
    "    "
   ]
  },
  {
   "cell_type": "code",
   "execution_count": null,
   "metadata": {},
   "outputs": [],
   "source": [
    "def lengthsHOF(paragraph: List[String]): List[Int] = \n",
    "    paragraph.flatMap()"
   ]
  },
  {
   "cell_type": "code",
   "execution_count": null,
   "metadata": {},
   "outputs": [],
   "source": [
    "run(new TestLengths(lengthsHOF))"
   ]
  },
  {
   "cell_type": "markdown",
   "metadata": {},
   "source": [
    "This solution contrasts with the mutable version in several respects:\n",
    "- It's more **modular**, i.e. it's made of coarse-grained components: the HOFs `flatMap`, `filter` and `map`. The mutable version builds instead upon fine-grained components: `var`s, and `for` loops.\n",
    "- The HOF components `flatMap`, etc., are actually very generic and domain-independent, and are typically part of standard libraries, so the level of **reuse** and **reliability** of the HOF-based solution is very high.\n",
    "- The HOF-based solution is more **understandable**: it models the solution to the problem in terms of standard _transformations_ which are composed together using plain function composition. Moreover, these transformations are also at the right level of abstraction, i.e. it's natural to specify the solution to the problem in terms of flatMap, filter and map."
   ]
  },
  {
   "cell_type": "markdown",
   "metadata": {},
   "source": [
    "### For-comprehensions"
   ]
  },
  {
   "cell_type": "markdown",
   "metadata": {},
   "source": [
    "The combination of `map`, `flatMap` and `filter` HOFs is so common, that Scala has a special syntax for them: for-comprehensions."
   ]
  },
  {
   "cell_type": "code",
   "execution_count": 18,
   "metadata": {},
   "outputs": [
    {
     "data": {
      "text/plain": [
       "defined \u001b[32mfunction\u001b[39m \u001b[36mlengthsFC\u001b[39m"
      ]
     },
     "execution_count": 18,
     "metadata": {},
     "output_type": "execute_result"
    }
   ],
   "source": [
    "def lengthsFC(paragraph: List[String]): List[Int] = \n",
    "    paragraph.flatMap(sentence => sentence.split(\" \").toList) // List[Word]\n",
    "        .filter(word => word != \"\" : Boolean)            // List[Word]\n",
    "        .map(word => word.length)                        // List[Int]\n"
   ]
  },
  {
   "cell_type": "code",
   "execution_count": 20,
   "metadata": {},
   "outputs": [
    {
     "data": {
      "text/plain": [
       "defined \u001b[32mfunction\u001b[39m \u001b[36mlengthsFC\u001b[39m"
      ]
     },
     "execution_count": 20,
     "metadata": {},
     "output_type": "execute_result"
    }
   ],
   "source": [
    "def lengthsFC(paragraph: List[String]): List[Int] = \n",
    "    paragraph.flatMap(_.split(\" \").toList) // List[Word]\n",
    "        .filter(_ != \"\")                   // List[Word]\n",
    "        .map(_.length)                     // List[Int]\n"
   ]
  },
  {
   "cell_type": "code",
   "execution_count": 32,
   "metadata": {},
   "outputs": [
    {
     "data": {
      "text/plain": [
       "defined \u001b[32mfunction\u001b[39m \u001b[36mlengthsFC\u001b[39m"
      ]
     },
     "execution_count": 32,
     "metadata": {},
     "output_type": "execute_result"
    }
   ],
   "source": [
    "def lengthsFC(paragraph: List[String]): List[Int] = \n",
    "    paragraph                              // List[Sentence]\n",
    "        .flatMap(_.split(\" \").toList)      // List[Word]\n",
    "        .map(_.length)                     // List[Int]\n",
    "        .filter(_ != 0)                   // List[Int]\n",
    "        \n"
   ]
  },
  {
   "cell_type": "code",
   "execution_count": 35,
   "metadata": {},
   "outputs": [
    {
     "data": {
      "text/plain": [
       "defined \u001b[32mfunction\u001b[39m \u001b[36mlengthsFC\u001b[39m"
      ]
     },
     "execution_count": 35,
     "metadata": {},
     "output_type": "execute_result"
    }
   ],
   "source": [
    "def lengthsFC(paragraph: List[String]): List[Int] = \n",
    "    paragraph                              // List[Sentence]\n",
    "        .flatMap(sentence => \n",
    "            sentence.split(\" \").toList\n",
    "               .map(word => word.length)\n",
    "               .filter(longitud => longitud != 0)// List[Int]\n",
    "        ) // List[Int]\n",
    "        \n"
   ]
  },
  {
   "cell_type": "code",
   "execution_count": 28,
   "metadata": {},
   "outputs": [
    {
     "data": {
      "text/plain": [
       "\u001b[36mparagraph\u001b[39m: \u001b[32mList\u001b[39m[\u001b[32mString\u001b[39m] = \u001b[33mList\u001b[39m(\n",
       "  \u001b[32m\"En un  lugar\"\u001b[39m,\n",
       "  \u001b[32m\"de  la Mancha \"\u001b[39m,\n",
       "  \u001b[32m\"de cuyo nombre no\"\u001b[39m,\n",
       "  \u001b[32m\"quiero        acordarme\"\u001b[39m\n",
       ")"
      ]
     },
     "execution_count": 28,
     "metadata": {},
     "output_type": "execute_result"
    }
   ],
   "source": [
    "val paragraph = List(\n",
    "        \"En un  lugar\",\n",
    "        \"de  la Mancha \", \n",
    "        \"de cuyo nombre no\",\n",
    "        \"quiero        acordarme\")"
   ]
  },
  {
   "cell_type": "code",
   "execution_count": 30,
   "metadata": {},
   "outputs": [
    {
     "data": {
      "text/plain": [
       "\u001b[36mres29\u001b[39m: \u001b[32mList\u001b[39m[\u001b[32mInt\u001b[39m] = \u001b[33mList\u001b[39m(\u001b[32m2\u001b[39m, \u001b[32m2\u001b[39m, \u001b[32m5\u001b[39m, \u001b[32m2\u001b[39m, \u001b[32m2\u001b[39m, \u001b[32m6\u001b[39m, \u001b[32m2\u001b[39m, \u001b[32m4\u001b[39m, \u001b[32m6\u001b[39m, \u001b[32m2\u001b[39m, \u001b[32m6\u001b[39m, \u001b[32m9\u001b[39m)"
      ]
     },
     "execution_count": 30,
     "metadata": {},
     "output_type": "execute_result"
    }
   ],
   "source": [
    "paragraph\n",
    "    .flatMap(s => s.split(\" \").toList)\n",
    "    .filter(w => w != \"\")    \n",
    "    .map(w => w.length)\n"
   ]
  },
  {
   "cell_type": "code",
   "execution_count": 31,
   "metadata": {},
   "outputs": [
    {
     "data": {
      "text/plain": [
       "\u001b[36mres30\u001b[39m: \u001b[32mList\u001b[39m[\u001b[32mInt\u001b[39m] = \u001b[33mList\u001b[39m(\u001b[32m2\u001b[39m, \u001b[32m2\u001b[39m, \u001b[32m5\u001b[39m, \u001b[32m2\u001b[39m, \u001b[32m2\u001b[39m, \u001b[32m6\u001b[39m, \u001b[32m2\u001b[39m, \u001b[32m4\u001b[39m, \u001b[32m6\u001b[39m, \u001b[32m2\u001b[39m, \u001b[32m6\u001b[39m, \u001b[32m9\u001b[39m)"
      ]
     },
     "execution_count": 31,
     "metadata": {},
     "output_type": "execute_result"
    }
   ],
   "source": [
    "for {\n",
    "    sentence <- paragraph \n",
    "    word <- sentence.split(\" \").toList if word != \"\" \n",
    "} yield word.length"
   ]
  },
  {
   "cell_type": "code",
   "execution_count": 20,
   "metadata": {},
   "outputs": [
    {
     "data": {
      "text/plain": [
       "defined \u001b[32mfunction\u001b[39m \u001b[36mlengthsFC\u001b[39m"
      ]
     },
     "execution_count": 20,
     "metadata": {},
     "output_type": "execute_result"
    }
   ],
   "source": [
    "def lengthsFC(paragraph: List[String]): List[Int] = \n",
    "    paragraph.flatMap(_.split(\" \").toList) // List[Word]\n",
    "        .filter(_ != \"\")                   // List[Word]\n",
    "        .map(_.length)                     // List[Int]\n"
   ]
  },
  {
   "cell_type": "code",
   "execution_count": 34,
   "metadata": {},
   "outputs": [
    {
     "name": "stdout",
     "output_type": "stream",
     "text": [
      "\u001b[32mcmd4$Helper$TestLengths:\u001b[0m\n",
      "\u001b[32mlengths\u001b[0m\n",
      "\u001b[32m- should work\u001b[0m\n"
     ]
    }
   ],
   "source": [
    "run(new TestLengths(lengthsFC))"
   ]
  },
  {
   "cell_type": "code",
   "execution_count": null,
   "metadata": {},
   "outputs": [],
   "source": []
  }
 ],
 "metadata": {
  "kernelspec": {
   "display_name": "Scala",
   "language": "scala",
   "name": "scala"
  },
  "language_info": {
   "codemirror_mode": "text/x-scala",
   "file_extension": ".sc",
   "mimetype": "text/x-scala",
   "name": "scala",
   "nbconvert_exporter": "script",
   "version": "2.13.1"
  }
 },
 "nbformat": 4,
 "nbformat_minor": 2
}
